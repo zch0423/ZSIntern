{
 "metadata": {
  "language_info": {
   "codemirror_mode": {
    "name": "ipython",
    "version": 3
   },
   "file_extension": ".py",
   "mimetype": "text/x-python",
   "name": "python",
   "nbconvert_exporter": "python",
   "pygments_lexer": "ipython3",
   "version": "3.9.1-final"
  },
  "orig_nbformat": 2,
  "kernelspec": {
   "name": "python3",
   "display_name": "Python 3.9.1 64-bit",
   "metadata": {
    "interpreter": {
     "hash": "bbee7842ce8ba476870a006d5d5b68f11cea175afb0fea017b7f81beccf88892"
    }
   }
  }
 },
 "nbformat": 4,
 "nbformat_minor": 2,
 "cells": [
  {
   "cell_type": "code",
   "execution_count": 1,
   "metadata": {},
   "outputs": [],
   "source": [
    "import baostock as bs\n",
    "import pandas as pd"
   ]
  },
  {
   "cell_type": "code",
   "execution_count": 3,
   "metadata": {},
   "outputs": [
    {
     "output_type": "stream",
     "name": "stdout",
     "text": [
      "login success!\n",
      "login respond error_code:0\n",
      "login respond  error_msg:success\n",
      "query_history_k_data_plus respond error_code:0\n",
      "query_history_k_data_plus respond  error_msg:success\n",
      "           date       code   open   high    low  close preclose    volume  \\\n",
      "0    2017-06-01  sh.600000  12.78  12.97  12.69  12.92    12.84  96217055   \n",
      "1    2017-06-02  sh.600000  12.93  13.01  12.74  12.89    12.92  80197701   \n",
      "2    2017-06-05  sh.600000  12.79  12.88  12.51  12.85    12.89  75876475   \n",
      "3    2017-06-06  sh.600000  12.80  12.84  12.66  12.80    12.85  36104406   \n",
      "4    2017-06-07  sh.600000  12.81  12.99  12.78  12.84    12.80  64395191   \n",
      "..          ...        ...    ...    ...    ...    ...      ...       ...   \n",
      "142  2017-12-25  sh.600000  12.61  12.68  12.56  12.59    12.62  19306662   \n",
      "143  2017-12-26  sh.600000  12.57  12.66  12.56  12.64    12.59  15225722   \n",
      "144  2017-12-27  sh.600000  12.65  12.66  12.53  12.62    12.64  32731881   \n",
      "145  2017-12-28  sh.600000  12.60  12.66  12.53  12.54    12.62  23870824   \n",
      "146  2017-12-29  sh.600000  12.52  12.62  12.51  12.59    12.54  16351826   \n",
      "\n",
      "           amount adjustflag      turn tradestatus     pctChg     peTTM  \\\n",
      "0    1235216032.0          3  0.342364           1   0.623052  6.769340   \n",
      "1    1034450240.0          3  0.285363           1  -0.232196  6.753622   \n",
      "2     963227280.0          3  0.269987           1  -0.310318  6.732664   \n",
      "3     460469440.0          3  0.128468           1  -0.389107  6.706467   \n",
      "4     827766624.0          3  0.229134           1   0.312500  6.727425   \n",
      "..            ...        ...       ...         ...        ...       ...   \n",
      "142   243553698.0          3  0.068698           1  -0.237716  6.804447   \n",
      "143   192219131.0          3  0.054177           1   0.397142  6.831470   \n",
      "144   412197987.0          3  0.116468           1  -0.158231  6.820661   \n",
      "145   300834017.0          3  0.084938           1  -0.633914  6.777423   \n",
      "146   205752875.0          3  0.058184           1   0.398726  6.804447   \n",
      "\n",
      "        pbMRQ     psTTM  pcfNcfTTM isST  \n",
      "0    1.037013  2.255830  -3.293370    0  \n",
      "1    1.034605  2.250592  -3.285723    0  \n",
      "2    1.031394  2.243608  -3.275527    0  \n",
      "3    1.027381  2.234878  -3.262781    0  \n",
      "4    1.030591  2.241862  -3.272978    0  \n",
      "..        ...       ...        ...  ...  \n",
      "142  0.953811  2.244659  -1.985017    0  \n",
      "143  0.957599  2.253573  -1.992900    0  \n",
      "144  0.956084  2.250008  -1.989747    0  \n",
      "145  0.950023  2.235744  -1.977134    0  \n",
      "146  0.953811  2.244659  -1.985017    0  \n",
      "\n",
      "[147 rows x 18 columns]\n",
      "logout success!\n"
     ]
    },
    {
     "output_type": "execute_result",
     "data": {
      "text/plain": [
       "<baostock.data.resultset.ResultData at 0x16218eac0>"
      ]
     },
     "metadata": {},
     "execution_count": 3
    }
   ],
   "source": [
    "#### 登陆系统 ####\n",
    "lg = bs.login()\n",
    "# 显示登陆返回信息\n",
    "print('login respond error_code:'+lg.error_code)\n",
    "print('login respond  error_msg:'+lg.error_msg)\n",
    "\n",
    "#### 获取历史K线数据 ####\n",
    "# 详细指标参数，参见“历史行情指标参数”章节\n",
    "rs = bs.query_history_k_data_plus(\"sh.600000\",\n",
    "    \"date,code,open,high,low,close,preclose,volume,amount,adjustflag,turn,tradestatus,pctChg,peTTM,pbMRQ,psTTM,pcfNcfTTM,isST\",\n",
    "    start_date='2017-06-01', end_date='2017-12-31', \n",
    "    frequency=\"d\", adjustflag=\"3\") #frequency=\"d\"取日k线，adjustflag=\"3\"默认不复权\n",
    "print('query_history_k_data_plus respond error_code:'+rs.error_code)\n",
    "print('query_history_k_data_plus respond  error_msg:'+rs.error_msg)\n",
    "\n",
    "#### 打印结果集 ####\n",
    "data_list = []\n",
    "while (rs.error_code == '0') & rs.next():\n",
    "    # 获取一条记录，将记录合并在一起\n",
    "    data_list.append(rs.get_row_data())\n",
    "result = pd.DataFrame(data_list, columns=rs.fields)\n",
    "#### 结果集输出到csv文件 ####\n",
    "result.to_csv(\"test_k_data.csv\", encoding=\"utf-8\", index=False)\n",
    "print(result)\n",
    "\n",
    "#### 登出系统 ####\n",
    "bs.logout()"
   ]
  },
  {
   "cell_type": "code",
   "execution_count": null,
   "metadata": {},
   "outputs": [],
   "source": []
  }
 ]
}