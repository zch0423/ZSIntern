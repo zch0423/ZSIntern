{
 "metadata": {
  "language_info": {
   "codemirror_mode": {
    "name": "ipython",
    "version": 3
   },
   "file_extension": ".py",
   "mimetype": "text/x-python",
   "name": "python",
   "nbconvert_exporter": "python",
   "pygments_lexer": "ipython3",
   "version": "3.9.1-final"
  },
  "orig_nbformat": 2,
  "kernelspec": {
   "name": "python3",
   "display_name": "Python 3.9.1 64-bit",
   "metadata": {
    "interpreter": {
     "hash": "bbee7842ce8ba476870a006d5d5b68f11cea175afb0fea017b7f81beccf88892"
    }
   }
  }
 },
 "nbformat": 4,
 "nbformat_minor": 2,
 "cells": [
  {
   "cell_type": "code",
   "execution_count": 1,
   "metadata": {},
   "outputs": [],
   "source": [
    "import tushare as ts \n",
    "token = \"a7c1312fe8187bff67ada6333c4b447caff18f58be66ac8b64d20d5a\"\n",
    "api = ts.pro_api(token)\n",
    "\n",
    "import pandas as pd"
   ]
  },
  {
   "source": [
    "## 访问频率2次/min，每次最多1000条"
   ],
   "cell_type": "markdown",
   "metadata": {}
  },
  {
   "cell_type": "code",
   "execution_count": 4,
   "metadata": {},
   "outputs": [
    {
     "output_type": "execute_result",
     "data": {
      "text/plain": [
       "              datetime                                            content  \\\n",
       "0  2021-04-01 14:02:18                                  东京新增新冠肺炎感染病例475例。   \n",
       "1  2021-04-01 14:01:19                     日经225指数今天收盘报29388.87点，涨幅0.72%。   \n",
       "2  2021-04-01 14:01:02  市场消息：韩国进出口银行今日表示，与现代汽车签署了一项谅解备忘录，将向现代汽车提供约27亿美...   \n",
       "3  2021-04-01 14:00:43                  据英国金融时报：瑞穗正在调查因Archegos基金面临的潜在损失。   \n",
       "4  2021-04-01 14:00:17  【山西银行4月15日召开创立大会】3月31日，长治银行、晋中银行、晋城银行、大同银行、阳泉市...   \n",
       "\n",
       "  title  \n",
       "0        \n",
       "1        \n",
       "2        \n",
       "3        \n",
       "4        "
      ],
      "text/html": "<div>\n<style scoped>\n    .dataframe tbody tr th:only-of-type {\n        vertical-align: middle;\n    }\n\n    .dataframe tbody tr th {\n        vertical-align: top;\n    }\n\n    .dataframe thead th {\n        text-align: right;\n    }\n</style>\n<table border=\"1\" class=\"dataframe\">\n  <thead>\n    <tr style=\"text-align: right;\">\n      <th></th>\n      <th>datetime</th>\n      <th>content</th>\n      <th>title</th>\n    </tr>\n  </thead>\n  <tbody>\n    <tr>\n      <th>0</th>\n      <td>2021-04-01 14:02:18</td>\n      <td>东京新增新冠肺炎感染病例475例。</td>\n      <td></td>\n    </tr>\n    <tr>\n      <th>1</th>\n      <td>2021-04-01 14:01:19</td>\n      <td>日经225指数今天收盘报29388.87点，涨幅0.72%。</td>\n      <td></td>\n    </tr>\n    <tr>\n      <th>2</th>\n      <td>2021-04-01 14:01:02</td>\n      <td>市场消息：韩国进出口银行今日表示，与现代汽车签署了一项谅解备忘录，将向现代汽车提供约27亿美...</td>\n      <td></td>\n    </tr>\n    <tr>\n      <th>3</th>\n      <td>2021-04-01 14:00:43</td>\n      <td>据英国金融时报：瑞穗正在调查因Archegos基金面临的潜在损失。</td>\n      <td></td>\n    </tr>\n    <tr>\n      <th>4</th>\n      <td>2021-04-01 14:00:17</td>\n      <td>【山西银行4月15日召开创立大会】3月31日，长治银行、晋中银行、晋城银行、大同银行、阳泉市...</td>\n      <td></td>\n    </tr>\n  </tbody>\n</table>\n</div>"
     },
     "metadata": {},
     "execution_count": 4
    }
   ],
   "source": [
    "df = api.news(src='sina', start_date='2021-04-01 14:00:00', end_date='2021-04-01 14:17:00')\n",
    "df"
   ]
  },
  {
   "cell_type": "code",
   "execution_count": 6,
   "metadata": {},
   "outputs": [
    {
     "output_type": "execute_result",
     "data": {
      "text/plain": [
       "Empty DataFrame\n",
       "Columns: [datetime, content, title]\n",
       "Index: []"
      ],
      "text/html": "<div>\n<style scoped>\n    .dataframe tbody tr th:only-of-type {\n        vertical-align: middle;\n    }\n\n    .dataframe tbody tr th {\n        vertical-align: top;\n    }\n\n    .dataframe thead th {\n        text-align: right;\n    }\n</style>\n<table border=\"1\" class=\"dataframe\">\n  <thead>\n    <tr style=\"text-align: right;\">\n      <th></th>\n      <th>datetime</th>\n      <th>content</th>\n      <th>title</th>\n    </tr>\n  </thead>\n  <tbody>\n  </tbody>\n</table>\n</div>"
     },
     "metadata": {},
     "execution_count": 6
    }
   ],
   "source": [
    "df = api.news(src='wallstreetcn', start_date='2021-04-01 14:00:00', end_date='2021-04-01 14:17:00')\n",
    "df"
   ]
  },
  {
   "cell_type": "code",
   "execution_count": 7,
   "metadata": {},
   "outputs": [
    {
     "output_type": "execute_result",
     "data": {
      "text/plain": [
       "              datetime                                            content  \\\n",
       "0  2021-04-01 14:08:00  从南昌市政府举办的新闻发布会获悉，“十四五”时期，南昌将聚力打造电子信息产业集群、生命健康产...   \n",
       "1  2021-04-01 14:03:00  4月1日，韩国进出口银行与现代汽车公司签署“面向未来移动产业全球化的工业金融合作计划”协议。...   \n",
       "2  2021-04-01 14:02:00             日经225指数收盘上涨248.20点，涨幅0.85%，报29427.00点。   \n",
       "3  2021-04-01 14:00:00                          大商所棕榈期货主力合约上涨4%，报7588元/吨。   \n",
       "4  2021-04-01 14:00:00                  瑞穗正在调查因Archegos基金面临的潜在损失。（英国金融时报）   \n",
       "\n",
       "                            title  \n",
       "0                 江西南昌将打造九条标志性产业链  \n",
       "1  韩国进出口银行计划为现代汽车智能出行转型提供3万亿韩元...  \n",
       "2                  日经225指数收涨0.85%  \n",
       "3                 大商所棕榈期货主力合约涨超4%  \n",
       "4        瑞穗正在调查因Archegos基金面临的潜在损失  "
      ],
      "text/html": "<div>\n<style scoped>\n    .dataframe tbody tr th:only-of-type {\n        vertical-align: middle;\n    }\n\n    .dataframe tbody tr th {\n        vertical-align: top;\n    }\n\n    .dataframe thead th {\n        text-align: right;\n    }\n</style>\n<table border=\"1\" class=\"dataframe\">\n  <thead>\n    <tr style=\"text-align: right;\">\n      <th></th>\n      <th>datetime</th>\n      <th>content</th>\n      <th>title</th>\n    </tr>\n  </thead>\n  <tbody>\n    <tr>\n      <th>0</th>\n      <td>2021-04-01 14:08:00</td>\n      <td>从南昌市政府举办的新闻发布会获悉，“十四五”时期，南昌将聚力打造电子信息产业集群、生命健康产...</td>\n      <td>江西南昌将打造九条标志性产业链</td>\n    </tr>\n    <tr>\n      <th>1</th>\n      <td>2021-04-01 14:03:00</td>\n      <td>4月1日，韩国进出口银行与现代汽车公司签署“面向未来移动产业全球化的工业金融合作计划”协议。...</td>\n      <td>韩国进出口银行计划为现代汽车智能出行转型提供3万亿韩元...</td>\n    </tr>\n    <tr>\n      <th>2</th>\n      <td>2021-04-01 14:02:00</td>\n      <td>日经225指数收盘上涨248.20点，涨幅0.85%，报29427.00点。</td>\n      <td>日经225指数收涨0.85%</td>\n    </tr>\n    <tr>\n      <th>3</th>\n      <td>2021-04-01 14:00:00</td>\n      <td>大商所棕榈期货主力合约上涨4%，报7588元/吨。</td>\n      <td>大商所棕榈期货主力合约涨超4%</td>\n    </tr>\n    <tr>\n      <th>4</th>\n      <td>2021-04-01 14:00:00</td>\n      <td>瑞穗正在调查因Archegos基金面临的潜在损失。（英国金融时报）</td>\n      <td>瑞穗正在调查因Archegos基金面临的潜在损失</td>\n    </tr>\n  </tbody>\n</table>\n</div>"
     },
     "metadata": {},
     "execution_count": 7
    }
   ],
   "source": [
    "df = api.news(src='10jqka', start_date='2021-04-01 14:00:00', end_date='2021-04-01 14:17:00')\n",
    "df"
   ]
  },
  {
   "cell_type": "code",
   "execution_count": 10,
   "metadata": {},
   "outputs": [
    {
     "output_type": "execute_result",
     "data": {
      "text/plain": [
       "               datetime                                            content  \\\n",
       "0   2021-04-01 14:16:52  【国内菜油价格全线大涨180元/吨】今日国内菜油报价情况：①江苏省张家港四级菜油报价1066...   \n",
       "1   2021-04-01 14:16:25                    【行情】美债10年收益率日内跌幅达到1.09%，报1.722。   \n",
       "2   2021-04-01 14:13:43  【建业地产合同销售金额人民币1,026亿元 河南市场占有率持续第一】3月31日晚间，建业地产...   \n",
       "3   2021-04-01 14:13:11  【国内豆油价格全线大涨270元/吨】今日国内豆油报价情况：①江苏省南京国产三级豆油报价926...   \n",
       "4   2021-04-01 14:09:18  【除了购买汽车 比特币在迪拜可以买房子了】在迪拜用加密货币购买房地产物业正变得越来越现实，总...   \n",
       "5   2021-04-01 14:08:23  【北京建材市场成交较好】据Mysteel，北京建材市场成交较好，价格上涨20—30；邯郸热卷...   \n",
       "6   2021-04-01 14:07:52  【日本管制IT巨头！谷歌、苹果等5家公司在列】据日本共同社报道，日本经济产业省1日把亚马逊日...   \n",
       "7   2021-04-01 14:06:27                                【行情】生猪期货主力合约涨3.25%。   \n",
       "8   2021-04-01 14:05:35  【注册制次新股午后走高】4月1日午后，注册制次新股走高。截至发稿，C建工快速拉升涨5%，此前...   \n",
       "9   2021-04-01 14:04:59  【一天亏100亿美元！华尔街“史诗级”爆仓 是一堂风险教育课】当地时间3月26日，美国对冲基...   \n",
       "10  2021-04-01 14:03:52  【中信证券将中金公司A股评级下调至持有】中信证券将中金公司A股评级下调至持有，目标价56.1...   \n",
       "11  2021-04-01 14:01:30  【沪电股份：芯片短缺对公司汽车板销售额目前未看到负面影响】全球汽车芯片短缺停产会不会对公司汽...   \n",
       "12  2021-04-01 14:01:23  【行情】日经225指数4月1日（周四）收盘上涨248.20点，涨幅0.85%，报29427....   \n",
       "13  2021-04-01 14:00:19                 【行情】棕榈油主力合约大涨，日内涨幅4.00%，现报7588元/吨。   \n",
       "\n",
       "                               title  \n",
       "0                   国内菜油价格全线大涨180元/吨  \n",
       "1         美债10年收益率日内跌幅达到1.09% 报1.722  \n",
       "2   建业地产合同销售金额人民币1,026亿元 河南市场占有率持续第一  \n",
       "3                   国内豆油价格全线大涨270元/吨  \n",
       "4                除了购买汽车 比特币在迪拜可以买房子了  \n",
       "5                         北京建材市场成交较好  \n",
       "6              日本管制IT巨头！谷歌、苹果等5家公司在列  \n",
       "7                     生猪期货主力合约涨3.25%  \n",
       "8                         注册制次新股午后走高  \n",
       "9      一天亏100亿美元！华尔街“史诗级”爆仓 是一堂风险教育课  \n",
       "10                中信证券将中金公司A股评级下调至持有  \n",
       "11       沪电股份：芯片短缺对公司汽车板销售额目前未看到负面影响  \n",
       "12                日经225指数4月1日收涨0.85%  \n",
       "13                         棕榈油主力合约大涨  "
      ],
      "text/html": "<div>\n<style scoped>\n    .dataframe tbody tr th:only-of-type {\n        vertical-align: middle;\n    }\n\n    .dataframe tbody tr th {\n        vertical-align: top;\n    }\n\n    .dataframe thead th {\n        text-align: right;\n    }\n</style>\n<table border=\"1\" class=\"dataframe\">\n  <thead>\n    <tr style=\"text-align: right;\">\n      <th></th>\n      <th>datetime</th>\n      <th>content</th>\n      <th>title</th>\n    </tr>\n  </thead>\n  <tbody>\n    <tr>\n      <th>0</th>\n      <td>2021-04-01 14:16:52</td>\n      <td>【国内菜油价格全线大涨180元/吨】今日国内菜油报价情况：①江苏省张家港四级菜油报价1066...</td>\n      <td>国内菜油价格全线大涨180元/吨</td>\n    </tr>\n    <tr>\n      <th>1</th>\n      <td>2021-04-01 14:16:25</td>\n      <td>【行情】美债10年收益率日内跌幅达到1.09%，报1.722。</td>\n      <td>美债10年收益率日内跌幅达到1.09% 报1.722</td>\n    </tr>\n    <tr>\n      <th>2</th>\n      <td>2021-04-01 14:13:43</td>\n      <td>【建业地产合同销售金额人民币1,026亿元 河南市场占有率持续第一】3月31日晚间，建业地产...</td>\n      <td>建业地产合同销售金额人民币1,026亿元 河南市场占有率持续第一</td>\n    </tr>\n    <tr>\n      <th>3</th>\n      <td>2021-04-01 14:13:11</td>\n      <td>【国内豆油价格全线大涨270元/吨】今日国内豆油报价情况：①江苏省南京国产三级豆油报价926...</td>\n      <td>国内豆油价格全线大涨270元/吨</td>\n    </tr>\n    <tr>\n      <th>4</th>\n      <td>2021-04-01 14:09:18</td>\n      <td>【除了购买汽车 比特币在迪拜可以买房子了】在迪拜用加密货币购买房地产物业正变得越来越现实，总...</td>\n      <td>除了购买汽车 比特币在迪拜可以买房子了</td>\n    </tr>\n    <tr>\n      <th>5</th>\n      <td>2021-04-01 14:08:23</td>\n      <td>【北京建材市场成交较好】据Mysteel，北京建材市场成交较好，价格上涨20—30；邯郸热卷...</td>\n      <td>北京建材市场成交较好</td>\n    </tr>\n    <tr>\n      <th>6</th>\n      <td>2021-04-01 14:07:52</td>\n      <td>【日本管制IT巨头！谷歌、苹果等5家公司在列】据日本共同社报道，日本经济产业省1日把亚马逊日...</td>\n      <td>日本管制IT巨头！谷歌、苹果等5家公司在列</td>\n    </tr>\n    <tr>\n      <th>7</th>\n      <td>2021-04-01 14:06:27</td>\n      <td>【行情】生猪期货主力合约涨3.25%。</td>\n      <td>生猪期货主力合约涨3.25%</td>\n    </tr>\n    <tr>\n      <th>8</th>\n      <td>2021-04-01 14:05:35</td>\n      <td>【注册制次新股午后走高】4月1日午后，注册制次新股走高。截至发稿，C建工快速拉升涨5%，此前...</td>\n      <td>注册制次新股午后走高</td>\n    </tr>\n    <tr>\n      <th>9</th>\n      <td>2021-04-01 14:04:59</td>\n      <td>【一天亏100亿美元！华尔街“史诗级”爆仓 是一堂风险教育课】当地时间3月26日，美国对冲基...</td>\n      <td>一天亏100亿美元！华尔街“史诗级”爆仓 是一堂风险教育课</td>\n    </tr>\n    <tr>\n      <th>10</th>\n      <td>2021-04-01 14:03:52</td>\n      <td>【中信证券将中金公司A股评级下调至持有】中信证券将中金公司A股评级下调至持有，目标价56.1...</td>\n      <td>中信证券将中金公司A股评级下调至持有</td>\n    </tr>\n    <tr>\n      <th>11</th>\n      <td>2021-04-01 14:01:30</td>\n      <td>【沪电股份：芯片短缺对公司汽车板销售额目前未看到负面影响】全球汽车芯片短缺停产会不会对公司汽...</td>\n      <td>沪电股份：芯片短缺对公司汽车板销售额目前未看到负面影响</td>\n    </tr>\n    <tr>\n      <th>12</th>\n      <td>2021-04-01 14:01:23</td>\n      <td>【行情】日经225指数4月1日（周四）收盘上涨248.20点，涨幅0.85%，报29427....</td>\n      <td>日经225指数4月1日收涨0.85%</td>\n    </tr>\n    <tr>\n      <th>13</th>\n      <td>2021-04-01 14:00:19</td>\n      <td>【行情】棕榈油主力合约大涨，日内涨幅4.00%，现报7588元/吨。</td>\n      <td>棕榈油主力合约大涨</td>\n    </tr>\n  </tbody>\n</table>\n</div>"
     },
     "metadata": {},
     "execution_count": 10
    }
   ],
   "source": [
    "df = api.news(src='eastmoney', start_date='2021-04-01 14:00:00', end_date='2021-04-01 14:17:00')\n",
    "df"
   ]
  },
  {
   "cell_type": "code",
   "execution_count": 11,
   "metadata": {},
   "outputs": [
    {
     "output_type": "execute_result",
     "data": {
      "text/plain": [
       "              datetime                                            content  \\\n",
       "0  2021-04-01 14:09:10  云财经讯，白酒股午后走高，古井贡酒涨超6%，酒鬼酒涨逾4%，迎驾贡酒、洋河股份涨超3%，五粮...   \n",
       "1  2021-04-01 14:08:57  云财经讯，和邦生物在互动平台上表示，目前公司各主营产品现货价格如下：纯碱约1,950元/吨，...   \n",
       "2  2021-04-01 14:07:31  云财经讯，3月31日零时起，瑞丽城区学校实行全面停课。疫情发生后，瑞丽全市教体系统迅速启动校...   \n",
       "3  2021-04-01 14:07:30  云财经讯，继索尼、甲骨文和诺基亚等厂商宣布退出参加今年的世界移动通信大会（MWC）后，谷歌也...   \n",
       "4  2021-04-01 14:04:22  云财经讯，4月1日午后，注册制次新股走高。截至发稿，C建工快速拉升涨5%，此前一度跌约15%...   \n",
       "5  2021-04-01 14:02:02              云财经讯，瑞穗正在调查因Archegos基金面临的潜在损失（英国金融时报）   \n",
       "\n",
       "                               title  \n",
       "0           白酒股午后走高 古井贡酒涨超6% 酒鬼酒涨逾4%  \n",
       "1  和邦生物：公司产品目前产销两旺，产品价格上涨对公司的利润有提升作用  \n",
       "2                         瑞丽城区学校全面停课  \n",
       "3         MWC 2021：多家科技巨头宣布退出，部分仍在观望  \n",
       "4                         注册制次新股午后走高  \n",
       "5   瑞穗正在调查因Archegos基金面临的潜在损失（英国金融时报）  "
      ],
      "text/html": "<div>\n<style scoped>\n    .dataframe tbody tr th:only-of-type {\n        vertical-align: middle;\n    }\n\n    .dataframe tbody tr th {\n        vertical-align: top;\n    }\n\n    .dataframe thead th {\n        text-align: right;\n    }\n</style>\n<table border=\"1\" class=\"dataframe\">\n  <thead>\n    <tr style=\"text-align: right;\">\n      <th></th>\n      <th>datetime</th>\n      <th>content</th>\n      <th>title</th>\n    </tr>\n  </thead>\n  <tbody>\n    <tr>\n      <th>0</th>\n      <td>2021-04-01 14:09:10</td>\n      <td>云财经讯，白酒股午后走高，古井贡酒涨超6%，酒鬼酒涨逾4%，迎驾贡酒、洋河股份涨超3%，五粮...</td>\n      <td>白酒股午后走高 古井贡酒涨超6% 酒鬼酒涨逾4%</td>\n    </tr>\n    <tr>\n      <th>1</th>\n      <td>2021-04-01 14:08:57</td>\n      <td>云财经讯，和邦生物在互动平台上表示，目前公司各主营产品现货价格如下：纯碱约1,950元/吨，...</td>\n      <td>和邦生物：公司产品目前产销两旺，产品价格上涨对公司的利润有提升作用</td>\n    </tr>\n    <tr>\n      <th>2</th>\n      <td>2021-04-01 14:07:31</td>\n      <td>云财经讯，3月31日零时起，瑞丽城区学校实行全面停课。疫情发生后，瑞丽全市教体系统迅速启动校...</td>\n      <td>瑞丽城区学校全面停课</td>\n    </tr>\n    <tr>\n      <th>3</th>\n      <td>2021-04-01 14:07:30</td>\n      <td>云财经讯，继索尼、甲骨文和诺基亚等厂商宣布退出参加今年的世界移动通信大会（MWC）后，谷歌也...</td>\n      <td>MWC 2021：多家科技巨头宣布退出，部分仍在观望</td>\n    </tr>\n    <tr>\n      <th>4</th>\n      <td>2021-04-01 14:04:22</td>\n      <td>云财经讯，4月1日午后，注册制次新股走高。截至发稿，C建工快速拉升涨5%，此前一度跌约15%...</td>\n      <td>注册制次新股午后走高</td>\n    </tr>\n    <tr>\n      <th>5</th>\n      <td>2021-04-01 14:02:02</td>\n      <td>云财经讯，瑞穗正在调查因Archegos基金面临的潜在损失（英国金融时报）</td>\n      <td>瑞穗正在调查因Archegos基金面临的潜在损失（英国金融时报）</td>\n    </tr>\n  </tbody>\n</table>\n</div>"
     },
     "metadata": {},
     "execution_count": 11
    }
   ],
   "source": [
    "df = api.news(src='yuncaijing', start_date='2021-04-01 14:00:00', end_date='2021-04-01 14:17:00')\n",
    "df"
   ]
  },
  {
   "cell_type": "code",
   "execution_count": null,
   "metadata": {},
   "outputs": [],
   "source": []
  }
 ]
}