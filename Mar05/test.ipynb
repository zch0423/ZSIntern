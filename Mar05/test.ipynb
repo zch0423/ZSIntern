{
 "metadata": {
  "language_info": {
   "codemirror_mode": {
    "name": "ipython",
    "version": 3
   },
   "file_extension": ".py",
   "mimetype": "text/x-python",
   "name": "python",
   "nbconvert_exporter": "python",
   "pygments_lexer": "ipython3",
   "version": "3.9.1-final"
  },
  "orig_nbformat": 2,
  "kernelspec": {
   "name": "python3",
   "display_name": "Python 3.9.1 64-bit",
   "metadata": {
    "interpreter": {
     "hash": "bbee7842ce8ba476870a006d5d5b68f11cea175afb0fea017b7f81beccf88892"
    }
   }
  }
 },
 "nbformat": 4,
 "nbformat_minor": 2,
 "cells": [
  {
   "source": [
    "## test"
   ],
   "cell_type": "markdown",
   "metadata": {}
  },
  {
   "cell_type": "code",
   "execution_count": 2,
   "metadata": {},
   "outputs": [],
   "source": [
    "import sys\n",
    "sys.path.append(\"..\")\n",
    "from tools import *\n",
    "from datetime import datetime"
   ]
  },
  {
   "cell_type": "code",
   "execution_count": 1,
   "metadata": {},
   "outputs": [],
   "source": [
    "dirPath = \"../Mar04/data/\"\n",
    "roePath = \"../Mar04/111家roe数据.csv\"\n",
    "cfPath = \"../Mar04/111家cf数据.csv\"\n",
    "markPath = \"../Mar04/both.csv\"  # 检验的标记信息"
   ]
  },
  {
   "cell_type": "code",
   "execution_count": 3,
   "metadata": {},
   "outputs": [],
   "source": [
    "roe = pd.read_csv(roePath)\n",
    "cf = pd.read_csv(cfPath)\n",
    "mark = pd.read_csv(markPath)"
   ]
  },
  {
   "cell_type": "code",
   "execution_count": 4,
   "metadata": {},
   "outputs": [],
   "source": [
    "# 去除B股\n",
    "mark = mark[mark[\"name\"].apply(lambda x:\"b\" not in x.lower())]"
   ]
  },
  {
   "cell_type": "code",
   "execution_count": 5,
   "metadata": {},
   "outputs": [],
   "source": [
    "codes = mark.code.values"
   ]
  },
  {
   "source": [
    "## 可以添加参数\n",
    "title 设置标题\n",
    "\n",
    "startYear 设置选取的年份，默认从2012开始"
   ],
   "cell_type": "markdown",
   "metadata": {}
  },
  {
   "cell_type": "code",
   "execution_count": 8,
   "metadata": {},
   "outputs": [],
   "source": [
    "recheck = pd.read_excel(\"/Users/zch/Desktop/sum.xlsx\", sheet_name=\"Sheet2\")"
   ]
  },
  {
   "cell_type": "code",
   "execution_count": 10,
   "metadata": {},
   "outputs": [],
   "source": [
    "codes = recheck.code.values"
   ]
  },
  {
   "cell_type": "code",
   "execution_count": 12,
   "metadata": {},
   "outputs": [
    {
     "output_type": "execute_result",
     "data": {
      "text/plain": [
       "34"
      ]
     },
     "metadata": {},
     "execution_count": 12
    }
   ],
   "source": [
    "len(codes)"
   ]
  },
  {
   "cell_type": "code",
   "execution_count": 24,
   "metadata": {},
   "outputs": [],
   "source": [
    "# 循环一次性绘制，取消注释即可\n",
    "# print()\n",
    "# for code in codes:\n",
    "#     plotIt(code, roe, mark, title=\"roe\")  # 绘制roe和股价  \n",
    "#     plotIt(code, cf, mark, title=\"cf\")  # cf和股价  注意图例都是显示roe\n",
    "\n",
    "# 或者单独绘制roe和cf 如\n",
    "# for code in codes:\n",
    "    # plotIt(code, roe, mark, title=\"roe\", startYear=\"2012\")\n",
    "    # plotIt(code, cf, mark, title=\"cf\", startYear=\"2012\")"
   ]
  },
  {
   "cell_type": "code",
   "execution_count": 25,
   "metadata": {},
   "outputs": [],
   "source": [
    "# for code in codes:\n",
    "#     plotIt(code, cf, mark, title=\"cf\", startYear=\"2012\")"
   ]
  },
  {
   "cell_type": "code",
   "execution_count": 22,
   "metadata": {},
   "outputs": [],
   "source": [
    "additionalCfCodes = [\"002129.SZ\", \"002576.SZ\", \"002487.SZ\", \"002532.SZ\", \"600359.SH\", \"002134.SZ\", \"000969.SZ\", \"002443.SZ\", \"002432.SZ\", \"002194.SZ\"]\n",
    "additionalRoe = [\"600809.SH\", \"002014.SZ\", \"002111.SZ\", \"300012.SZ\", \"300327.SZ\", \"002641.SZ\", \"600720.SH\", \"000625.SZ\", \"600166.SH\", \"601168.SH\", \"002242.SZ\", \"000690.SZ\"]"
   ]
  },
  {
   "cell_type": "code",
   "execution_count": 26,
   "metadata": {},
   "outputs": [],
   "source": [
    "# for code in additionalCfCodes:\n",
    "#     plotIt(code, cf, mark, title=\"cf\", \n",
    "# startYear=\"2012\")\n",
    "# for code in additionalRoe:\n",
    "#      plotIt(code, roe, mark, title=\"cf\", startYear=\"2012\")"
   ]
  },
  {
   "cell_type": "code",
   "execution_count": null,
   "metadata": {},
   "outputs": [],
   "source": []
  }
 ]
}