{
 "metadata": {
  "language_info": {
   "codemirror_mode": {
    "name": "ipython",
    "version": 3
   },
   "file_extension": ".py",
   "mimetype": "text/x-python",
   "name": "python",
   "nbconvert_exporter": "python",
   "pygments_lexer": "ipython3",
   "version": 3
  },
  "orig_nbformat": 2
 },
 "nbformat": 4,
 "nbformat_minor": 2,
 "cells": [
  {
   "source": [
    "## 按行业处理A股数据\n",
    "整理整个处理的逻辑\n",
    "- 处理数据\n",
    "    - 去除ST\n",
    "    - 更改列名\n",
    "    - 去除全为空的列\n",
    "    - 去除不连续的公司\n",
    "    - 导出数据，roeData.xlsx\n",
    "    - winsorize\n",
    "    - 导出数据，winsorized.xlsx\n",
    "- 计算行业标准差，取得波动大于行业标准差的公司，roeStd，导出数据，\n",
    "- 从roeStd中再根据规则筛选出good，规则如超过n个std的比例超过proportion\n",
    "- 对good进行mark，导出mark数据"
   ],
   "cell_type": "markdown",
   "metadata": {}
  },
  {
   "cell_type": "code",
   "execution_count": null,
   "metadata": {},
   "outputs": [],
   "source": []
  }
 ]
}