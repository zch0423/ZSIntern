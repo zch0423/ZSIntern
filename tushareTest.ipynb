{
 "metadata": {
  "language_info": {
   "codemirror_mode": {
    "name": "ipython",
    "version": 3
   },
   "file_extension": ".py",
   "mimetype": "text/x-python",
   "name": "python",
   "nbconvert_exporter": "python",
   "pygments_lexer": "ipython3",
   "version": "3.9.1-final"
  },
  "orig_nbformat": 2,
  "kernelspec": {
   "name": "python3",
   "display_name": "Python 3.9.1 64-bit",
   "metadata": {
    "interpreter": {
     "hash": "bbee7842ce8ba476870a006d5d5b68f11cea175afb0fea017b7f81beccf88892"
    }
   }
  }
 },
 "nbformat": 4,
 "nbformat_minor": 2,
 "cells": [
  {
   "cell_type": "code",
   "execution_count": 1,
   "metadata": {},
   "outputs": [],
   "source": [
    "import tushare as ts \n",
    "token = \"a7c1312fe8187bff67ada6333c4b447caff18f58be66ac8b64d20d5a\""
   ]
  },
  {
   "cell_type": "code",
   "execution_count": 2,
   "metadata": {},
   "outputs": [],
   "source": [
    "api = ts.pro_api(token)"
   ]
  },
  {
   "cell_type": "code",
   "execution_count": 4,
   "metadata": {},
   "outputs": [],
   "source": [
    "df = ts.pro_bar(ts_code='000001.SZ', adj='qfq', start_date='20180101', end_date='20181011')"
   ]
  },
  {
   "cell_type": "code",
   "execution_count": 5,
   "metadata": {},
   "outputs": [
    {
     "output_type": "execute_result",
     "data": {
      "text/plain": [
       "     ts_code trade_date   open   high    low  close  pre_close  change  \\\n",
       "0  000001.SZ   20181011  10.05  10.16   9.70   9.86      10.45   -0.59   \n",
       "1  000001.SZ   20181010  10.54  10.66  10.38  10.45      10.56   -0.11   \n",
       "2  000001.SZ   20181009  10.46  10.70  10.39  10.56      10.45    0.11   \n",
       "3  000001.SZ   20181008  10.70  10.79  10.45  10.45      11.05   -0.60   \n",
       "4  000001.SZ   20180928  10.78  11.27  10.78  11.05      10.74    0.31   \n",
       "\n",
       "   pct_chg         vol       amount  \n",
       "0  -5.6459  1995143.83  1994186.611  \n",
       "1  -1.0417   995200.08  1045666.180  \n",
       "2   1.0526  1064084.26  1117946.550  \n",
       "3  -5.4299  1686358.52  1793455.283  \n",
       "4   2.8864  2110242.67  2331358.288  "
      ],
      "text/html": "<div>\n<style scoped>\n    .dataframe tbody tr th:only-of-type {\n        vertical-align: middle;\n    }\n\n    .dataframe tbody tr th {\n        vertical-align: top;\n    }\n\n    .dataframe thead th {\n        text-align: right;\n    }\n</style>\n<table border=\"1\" class=\"dataframe\">\n  <thead>\n    <tr style=\"text-align: right;\">\n      <th></th>\n      <th>ts_code</th>\n      <th>trade_date</th>\n      <th>open</th>\n      <th>high</th>\n      <th>low</th>\n      <th>close</th>\n      <th>pre_close</th>\n      <th>change</th>\n      <th>pct_chg</th>\n      <th>vol</th>\n      <th>amount</th>\n    </tr>\n  </thead>\n  <tbody>\n    <tr>\n      <th>0</th>\n      <td>000001.SZ</td>\n      <td>20181011</td>\n      <td>10.05</td>\n      <td>10.16</td>\n      <td>9.70</td>\n      <td>9.86</td>\n      <td>10.45</td>\n      <td>-0.59</td>\n      <td>-5.6459</td>\n      <td>1995143.83</td>\n      <td>1994186.611</td>\n    </tr>\n    <tr>\n      <th>1</th>\n      <td>000001.SZ</td>\n      <td>20181010</td>\n      <td>10.54</td>\n      <td>10.66</td>\n      <td>10.38</td>\n      <td>10.45</td>\n      <td>10.56</td>\n      <td>-0.11</td>\n      <td>-1.0417</td>\n      <td>995200.08</td>\n      <td>1045666.180</td>\n    </tr>\n    <tr>\n      <th>2</th>\n      <td>000001.SZ</td>\n      <td>20181009</td>\n      <td>10.46</td>\n      <td>10.70</td>\n      <td>10.39</td>\n      <td>10.56</td>\n      <td>10.45</td>\n      <td>0.11</td>\n      <td>1.0526</td>\n      <td>1064084.26</td>\n      <td>1117946.550</td>\n    </tr>\n    <tr>\n      <th>3</th>\n      <td>000001.SZ</td>\n      <td>20181008</td>\n      <td>10.70</td>\n      <td>10.79</td>\n      <td>10.45</td>\n      <td>10.45</td>\n      <td>11.05</td>\n      <td>-0.60</td>\n      <td>-5.4299</td>\n      <td>1686358.52</td>\n      <td>1793455.283</td>\n    </tr>\n    <tr>\n      <th>4</th>\n      <td>000001.SZ</td>\n      <td>20180928</td>\n      <td>10.78</td>\n      <td>11.27</td>\n      <td>10.78</td>\n      <td>11.05</td>\n      <td>10.74</td>\n      <td>0.31</td>\n      <td>2.8864</td>\n      <td>2110242.67</td>\n      <td>2331358.288</td>\n    </tr>\n  </tbody>\n</table>\n</div>"
     },
     "metadata": {},
     "execution_count": 5
    }
   ],
   "source": [
    "df.head()"
   ]
  },
  {
   "cell_type": "code",
   "execution_count": 6,
   "metadata": {},
   "outputs": [
    {
     "output_type": "execute_result",
     "data": {
      "text/plain": [
       "       ts_code trade_date     open     high      low    close  pre_close  \\\n",
       "0    000001.SZ   20181011  10.0500  10.1600   9.7000   9.8600    10.4500   \n",
       "1    000001.SZ   20181010  10.5400  10.6600  10.3800  10.4500    10.5600   \n",
       "2    000001.SZ   20181009  10.4600  10.7000  10.3900  10.5600    10.4500   \n",
       "3    000001.SZ   20181008  10.7000  10.7900  10.4500  10.4500    11.0500   \n",
       "4    000001.SZ   20180928  10.7800  11.2700  10.7800  11.0500    10.7400   \n",
       "..         ...        ...      ...      ...      ...      ...        ...   \n",
       "182  000001.SZ   20180108  13.0388  13.0782  12.6550  12.7534    13.0880   \n",
       "183  000001.SZ   20180105  12.9994  13.1372  12.9404  13.0880    13.0388   \n",
       "184  000001.SZ   20180104  13.1077  13.1569  12.9207  13.0388    13.1175   \n",
       "185  000001.SZ   20180103  13.5111  13.6391  12.9896  13.1175    13.4816   \n",
       "186  000001.SZ   20180102  13.1372  13.7080  13.1077  13.4816    13.0880   \n",
       "\n",
       "     change  pct_chg         vol       amount  \n",
       "0   -0.5900  -5.6459  1995143.83  1994186.611  \n",
       "1   -0.1100  -1.0417   995200.08  1045666.180  \n",
       "2    0.1100   1.0526  1064084.26  1117946.550  \n",
       "3   -0.6000  -5.4299  1686358.52  1793455.283  \n",
       "4    0.3100   2.8864  2110242.67  2331358.288  \n",
       "..      ...      ...         ...          ...  \n",
       "182 -0.3346  -2.5565  2158620.81  2806099.169  \n",
       "183  0.0492   0.3773  1210312.72  1603289.517  \n",
       "184 -0.0787  -0.6000  1854509.48  2454543.516  \n",
       "185 -0.3641  -2.7007  2962498.38  4006220.766  \n",
       "186  0.3936   3.0073  2081592.55  2856543.822  \n",
       "\n",
       "[187 rows x 11 columns]"
      ],
      "text/html": "<div>\n<style scoped>\n    .dataframe tbody tr th:only-of-type {\n        vertical-align: middle;\n    }\n\n    .dataframe tbody tr th {\n        vertical-align: top;\n    }\n\n    .dataframe thead th {\n        text-align: right;\n    }\n</style>\n<table border=\"1\" class=\"dataframe\">\n  <thead>\n    <tr style=\"text-align: right;\">\n      <th></th>\n      <th>ts_code</th>\n      <th>trade_date</th>\n      <th>open</th>\n      <th>high</th>\n      <th>low</th>\n      <th>close</th>\n      <th>pre_close</th>\n      <th>change</th>\n      <th>pct_chg</th>\n      <th>vol</th>\n      <th>amount</th>\n    </tr>\n  </thead>\n  <tbody>\n    <tr>\n      <th>0</th>\n      <td>000001.SZ</td>\n      <td>20181011</td>\n      <td>10.0500</td>\n      <td>10.1600</td>\n      <td>9.7000</td>\n      <td>9.8600</td>\n      <td>10.4500</td>\n      <td>-0.5900</td>\n      <td>-5.6459</td>\n      <td>1995143.83</td>\n      <td>1994186.611</td>\n    </tr>\n    <tr>\n      <th>1</th>\n      <td>000001.SZ</td>\n      <td>20181010</td>\n      <td>10.5400</td>\n      <td>10.6600</td>\n      <td>10.3800</td>\n      <td>10.4500</td>\n      <td>10.5600</td>\n      <td>-0.1100</td>\n      <td>-1.0417</td>\n      <td>995200.08</td>\n      <td>1045666.180</td>\n    </tr>\n    <tr>\n      <th>2</th>\n      <td>000001.SZ</td>\n      <td>20181009</td>\n      <td>10.4600</td>\n      <td>10.7000</td>\n      <td>10.3900</td>\n      <td>10.5600</td>\n      <td>10.4500</td>\n      <td>0.1100</td>\n      <td>1.0526</td>\n      <td>1064084.26</td>\n      <td>1117946.550</td>\n    </tr>\n    <tr>\n      <th>3</th>\n      <td>000001.SZ</td>\n      <td>20181008</td>\n      <td>10.7000</td>\n      <td>10.7900</td>\n      <td>10.4500</td>\n      <td>10.4500</td>\n      <td>11.0500</td>\n      <td>-0.6000</td>\n      <td>-5.4299</td>\n      <td>1686358.52</td>\n      <td>1793455.283</td>\n    </tr>\n    <tr>\n      <th>4</th>\n      <td>000001.SZ</td>\n      <td>20180928</td>\n      <td>10.7800</td>\n      <td>11.2700</td>\n      <td>10.7800</td>\n      <td>11.0500</td>\n      <td>10.7400</td>\n      <td>0.3100</td>\n      <td>2.8864</td>\n      <td>2110242.67</td>\n      <td>2331358.288</td>\n    </tr>\n    <tr>\n      <th>...</th>\n      <td>...</td>\n      <td>...</td>\n      <td>...</td>\n      <td>...</td>\n      <td>...</td>\n      <td>...</td>\n      <td>...</td>\n      <td>...</td>\n      <td>...</td>\n      <td>...</td>\n      <td>...</td>\n    </tr>\n    <tr>\n      <th>182</th>\n      <td>000001.SZ</td>\n      <td>20180108</td>\n      <td>13.0388</td>\n      <td>13.0782</td>\n      <td>12.6550</td>\n      <td>12.7534</td>\n      <td>13.0880</td>\n      <td>-0.3346</td>\n      <td>-2.5565</td>\n      <td>2158620.81</td>\n      <td>2806099.169</td>\n    </tr>\n    <tr>\n      <th>183</th>\n      <td>000001.SZ</td>\n      <td>20180105</td>\n      <td>12.9994</td>\n      <td>13.1372</td>\n      <td>12.9404</td>\n      <td>13.0880</td>\n      <td>13.0388</td>\n      <td>0.0492</td>\n      <td>0.3773</td>\n      <td>1210312.72</td>\n      <td>1603289.517</td>\n    </tr>\n    <tr>\n      <th>184</th>\n      <td>000001.SZ</td>\n      <td>20180104</td>\n      <td>13.1077</td>\n      <td>13.1569</td>\n      <td>12.9207</td>\n      <td>13.0388</td>\n      <td>13.1175</td>\n      <td>-0.0787</td>\n      <td>-0.6000</td>\n      <td>1854509.48</td>\n      <td>2454543.516</td>\n    </tr>\n    <tr>\n      <th>185</th>\n      <td>000001.SZ</td>\n      <td>20180103</td>\n      <td>13.5111</td>\n      <td>13.6391</td>\n      <td>12.9896</td>\n      <td>13.1175</td>\n      <td>13.4816</td>\n      <td>-0.3641</td>\n      <td>-2.7007</td>\n      <td>2962498.38</td>\n      <td>4006220.766</td>\n    </tr>\n    <tr>\n      <th>186</th>\n      <td>000001.SZ</td>\n      <td>20180102</td>\n      <td>13.1372</td>\n      <td>13.7080</td>\n      <td>13.1077</td>\n      <td>13.4816</td>\n      <td>13.0880</td>\n      <td>0.3936</td>\n      <td>3.0073</td>\n      <td>2081592.55</td>\n      <td>2856543.822</td>\n    </tr>\n  </tbody>\n</table>\n<p>187 rows × 11 columns</p>\n</div>"
     },
     "metadata": {},
     "execution_count": 6
    }
   ],
   "source": [
    "df"
   ]
  },
  {
   "cell_type": "code",
   "execution_count": null,
   "metadata": {},
   "outputs": [],
   "source": []
  }
 ]
}