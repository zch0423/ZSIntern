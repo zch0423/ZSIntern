{
 "metadata": {
  "language_info": {
   "codemirror_mode": {
    "name": "ipython",
    "version": 3
   },
   "file_extension": ".py",
   "mimetype": "text/x-python",
   "name": "python",
   "nbconvert_exporter": "python",
   "pygments_lexer": "ipython3",
   "version": "3.9.1-final"
  },
  "orig_nbformat": 2,
  "kernelspec": {
   "name": "python3",
   "display_name": "Python 3.9.1 64-bit",
   "metadata": {
    "interpreter": {
     "hash": "bbee7842ce8ba476870a006d5d5b68f11cea175afb0fea017b7f81beccf88892"
    }
   }
  }
 },
 "nbformat": 4,
 "nbformat_minor": 2,
 "cells": [
  {
   "cell_type": "code",
   "execution_count": 1,
   "metadata": {},
   "outputs": [],
   "source": [
    "import sys\n",
    "sys.path.append(\"..\")\n",
    "from roeProcessTools import *"
   ]
  },
  {
   "cell_type": "code",
   "execution_count": 2,
   "metadata": {},
   "outputs": [],
   "source": [
    "filePath = \"/Users/zch/Desktop/internship/Feb25/cf和roe交集.xlsx\"\n",
    "cfDir = \"/Users/zch/Desktop/internship/SWCFData/clean/\"\n",
    "roeDir = \"/Users/zch/Desktop/internship/SWROEData/cleanData/\""
   ]
  },
  {
   "cell_type": "code",
   "execution_count": 3,
   "metadata": {},
   "outputs": [],
   "source": [
    "selected = pd.read_excel(filePath)"
   ]
  },
  {
   "cell_type": "code",
   "execution_count": 4,
   "metadata": {},
   "outputs": [],
   "source": [
    "target = selected[84:]"
   ]
  },
  {
   "cell_type": "code",
   "execution_count": 5,
   "metadata": {},
   "outputs": [
    {
     "output_type": "execute_result",
     "data": {
      "text/plain": [
       "         code  name mark startTime_roe industry startTime_cf\n",
       "84  300346.SZ  南大光电    I       2017-06       电子      2018-09\n",
       "85  600071.SH  凤凰光学    I       2019-12       电子      2018-09\n",
       "86  600584.SH  长电科技    I       2019-12       电子      2019-12\n",
       "87  000401.SZ  冀东水泥    I       2016-06     建筑材料      2019-03\n",
       "88  002392.SZ  北京利尔    I       2016-12     建筑材料      2019-09"
      ],
      "text/html": "<div>\n<style scoped>\n    .dataframe tbody tr th:only-of-type {\n        vertical-align: middle;\n    }\n\n    .dataframe tbody tr th {\n        vertical-align: top;\n    }\n\n    .dataframe thead th {\n        text-align: right;\n    }\n</style>\n<table border=\"1\" class=\"dataframe\">\n  <thead>\n    <tr style=\"text-align: right;\">\n      <th></th>\n      <th>code</th>\n      <th>name</th>\n      <th>mark</th>\n      <th>startTime_roe</th>\n      <th>industry</th>\n      <th>startTime_cf</th>\n    </tr>\n  </thead>\n  <tbody>\n    <tr>\n      <th>84</th>\n      <td>300346.SZ</td>\n      <td>南大光电</td>\n      <td>I</td>\n      <td>2017-06</td>\n      <td>电子</td>\n      <td>2018-09</td>\n    </tr>\n    <tr>\n      <th>85</th>\n      <td>600071.SH</td>\n      <td>凤凰光学</td>\n      <td>I</td>\n      <td>2019-12</td>\n      <td>电子</td>\n      <td>2018-09</td>\n    </tr>\n    <tr>\n      <th>86</th>\n      <td>600584.SH</td>\n      <td>长电科技</td>\n      <td>I</td>\n      <td>2019-12</td>\n      <td>电子</td>\n      <td>2019-12</td>\n    </tr>\n    <tr>\n      <th>87</th>\n      <td>000401.SZ</td>\n      <td>冀东水泥</td>\n      <td>I</td>\n      <td>2016-06</td>\n      <td>建筑材料</td>\n      <td>2019-03</td>\n    </tr>\n    <tr>\n      <th>88</th>\n      <td>002392.SZ</td>\n      <td>北京利尔</td>\n      <td>I</td>\n      <td>2016-12</td>\n      <td>建筑材料</td>\n      <td>2019-09</td>\n    </tr>\n  </tbody>\n</table>\n</div>"
     },
     "metadata": {},
     "execution_count": 5
    }
   ],
   "source": [
    "target.head()"
   ]
  },
  {
   "cell_type": "code",
   "execution_count": 6,
   "metadata": {},
   "outputs": [],
   "source": [
    "codes = target.code.values"
   ]
  },
  {
   "cell_type": "code",
   "execution_count": 10,
   "metadata": {},
   "outputs": [],
   "source": [
    "import os"
   ]
  },
  {
   "cell_type": "code",
   "execution_count": 11,
   "metadata": {},
   "outputs": [],
   "source": [
    "cfs = []\n",
    "with os.scandir(cfDir) as it:\n",
    "    for entry in it:\n",
    "        if entry.name.endswith(\"xlsx\"):\n",
    "            cfs.append(pd.read_excel(entry.path))"
   ]
  },
  {
   "cell_type": "code",
   "execution_count": 12,
   "metadata": {},
   "outputs": [],
   "source": [
    "cf = pd.concat(cfs)"
   ]
  },
  {
   "cell_type": "code",
   "execution_count": 15,
   "metadata": {},
   "outputs": [],
   "source": [
    "roes = []\n",
    "with os.scandir(roeDir) as it:\n",
    "    for entry in it:\n",
    "        if entry.name.endswith(\"xlsx\"):\n",
    "            roes.append(pd.read_excel(entry.path))"
   ]
  },
  {
   "cell_type": "code",
   "execution_count": 16,
   "metadata": {},
   "outputs": [],
   "source": [
    "roe = pd.concat(roes)"
   ]
  },
  {
   "cell_type": "code",
   "execution_count": 17,
   "metadata": {},
   "outputs": [],
   "source": [
    "cf.to_excel(\"现金流数据.xlsx\", index=False)\n",
    "roe.to_excel(\"roe数据.xlsx\", index=False)"
   ]
  },
  {
   "source": [
    "## 检验"
   ],
   "cell_type": "markdown",
   "metadata": {}
  },
  {
   "cell_type": "code",
   "execution_count": 8,
   "metadata": {},
   "outputs": [],
   "source": [
    "roe = pd.read_excel(\"roe数据.xlsx\")\n",
    "cf = pd.read_excel(\"现金流数据.xlsx\")"
   ]
  },
  {
   "cell_type": "code",
   "execution_count": 9,
   "metadata": {},
   "outputs": [
    {
     "output_type": "execute_result",
     "data": {
      "text/plain": [
       "        code  name  2001-03  2001-06  2001-09  2001-12  2002-03  2002-06  \\\n",
       "0  000001.SZ  平安银行   2.9296   1.7006   2.8592   1.0276   4.9452   3.3581   \n",
       "1  600000.SH  浦发银行      NaN      NaN   3.5552   3.1388   3.6912   3.6906   \n",
       "2  600016.SH  民生银行   2.7211   2.2802   2.9664   2.8931   3.6043   4.0887   \n",
       "3  600036.SH  招商银行      NaN      NaN      NaN      NaN   3.2649   3.6528   \n",
       "4  601009.SH  南京银行      NaN      NaN      NaN      NaN      NaN      NaN   \n",
       "\n",
       "   2002-09  2002-12  ...  2019-09  2019-12  2020-03  2020-06  2020-09  \\\n",
       "0   2.6375  0.32160  ...   3.0176  1.52200   2.5695  1.45790  2.45580   \n",
       "1   4.0343  5.42280  ...   3.1455  2.90266   3.0746  2.90266  2.90266   \n",
       "2   3.9503  3.87570  ...   2.8708  2.17905   3.1527  2.21690  2.17905   \n",
       "3   2.5807  2.53032  ...   4.5739  2.58800   4.4354  3.45110  4.01470   \n",
       "4      NaN      NaN  ...   3.6238  2.99340   4.2171  3.60580  2.79430   \n",
       "\n",
       "   2020-12  2000-12  2000-09  2000-03  2000-06  \n",
       "0   1.8066      NaN      NaN      NaN      NaN  \n",
       "1      NaN      NaN      NaN      NaN      NaN  \n",
       "2      NaN      NaN      NaN      NaN      NaN  \n",
       "3      NaN      NaN      NaN      NaN      NaN  \n",
       "4      NaN      NaN      NaN      NaN      NaN  \n",
       "\n",
       "[5 rows x 86 columns]"
      ],
      "text/html": "<div>\n<style scoped>\n    .dataframe tbody tr th:only-of-type {\n        vertical-align: middle;\n    }\n\n    .dataframe tbody tr th {\n        vertical-align: top;\n    }\n\n    .dataframe thead th {\n        text-align: right;\n    }\n</style>\n<table border=\"1\" class=\"dataframe\">\n  <thead>\n    <tr style=\"text-align: right;\">\n      <th></th>\n      <th>code</th>\n      <th>name</th>\n      <th>2001-03</th>\n      <th>2001-06</th>\n      <th>2001-09</th>\n      <th>2001-12</th>\n      <th>2002-03</th>\n      <th>2002-06</th>\n      <th>2002-09</th>\n      <th>2002-12</th>\n      <th>...</th>\n      <th>2019-09</th>\n      <th>2019-12</th>\n      <th>2020-03</th>\n      <th>2020-06</th>\n      <th>2020-09</th>\n      <th>2020-12</th>\n      <th>2000-12</th>\n      <th>2000-09</th>\n      <th>2000-03</th>\n      <th>2000-06</th>\n    </tr>\n  </thead>\n  <tbody>\n    <tr>\n      <th>0</th>\n      <td>000001.SZ</td>\n      <td>平安银行</td>\n      <td>2.9296</td>\n      <td>1.7006</td>\n      <td>2.8592</td>\n      <td>1.0276</td>\n      <td>4.9452</td>\n      <td>3.3581</td>\n      <td>2.6375</td>\n      <td>0.32160</td>\n      <td>...</td>\n      <td>3.0176</td>\n      <td>1.52200</td>\n      <td>2.5695</td>\n      <td>1.45790</td>\n      <td>2.45580</td>\n      <td>1.8066</td>\n      <td>NaN</td>\n      <td>NaN</td>\n      <td>NaN</td>\n      <td>NaN</td>\n    </tr>\n    <tr>\n      <th>1</th>\n      <td>600000.SH</td>\n      <td>浦发银行</td>\n      <td>NaN</td>\n      <td>NaN</td>\n      <td>3.5552</td>\n      <td>3.1388</td>\n      <td>3.6912</td>\n      <td>3.6906</td>\n      <td>4.0343</td>\n      <td>5.42280</td>\n      <td>...</td>\n      <td>3.1455</td>\n      <td>2.90266</td>\n      <td>3.0746</td>\n      <td>2.90266</td>\n      <td>2.90266</td>\n      <td>NaN</td>\n      <td>NaN</td>\n      <td>NaN</td>\n      <td>NaN</td>\n      <td>NaN</td>\n    </tr>\n    <tr>\n      <th>2</th>\n      <td>600016.SH</td>\n      <td>民生银行</td>\n      <td>2.7211</td>\n      <td>2.2802</td>\n      <td>2.9664</td>\n      <td>2.8931</td>\n      <td>3.6043</td>\n      <td>4.0887</td>\n      <td>3.9503</td>\n      <td>3.87570</td>\n      <td>...</td>\n      <td>2.8708</td>\n      <td>2.17905</td>\n      <td>3.1527</td>\n      <td>2.21690</td>\n      <td>2.17905</td>\n      <td>NaN</td>\n      <td>NaN</td>\n      <td>NaN</td>\n      <td>NaN</td>\n      <td>NaN</td>\n    </tr>\n    <tr>\n      <th>3</th>\n      <td>600036.SH</td>\n      <td>招商银行</td>\n      <td>NaN</td>\n      <td>NaN</td>\n      <td>NaN</td>\n      <td>NaN</td>\n      <td>3.2649</td>\n      <td>3.6528</td>\n      <td>2.5807</td>\n      <td>2.53032</td>\n      <td>...</td>\n      <td>4.5739</td>\n      <td>2.58800</td>\n      <td>4.4354</td>\n      <td>3.45110</td>\n      <td>4.01470</td>\n      <td>NaN</td>\n      <td>NaN</td>\n      <td>NaN</td>\n      <td>NaN</td>\n      <td>NaN</td>\n    </tr>\n    <tr>\n      <th>4</th>\n      <td>601009.SH</td>\n      <td>南京银行</td>\n      <td>NaN</td>\n      <td>NaN</td>\n      <td>NaN</td>\n      <td>NaN</td>\n      <td>NaN</td>\n      <td>NaN</td>\n      <td>NaN</td>\n      <td>NaN</td>\n      <td>...</td>\n      <td>3.6238</td>\n      <td>2.99340</td>\n      <td>4.2171</td>\n      <td>3.60580</td>\n      <td>2.79430</td>\n      <td>NaN</td>\n      <td>NaN</td>\n      <td>NaN</td>\n      <td>NaN</td>\n      <td>NaN</td>\n    </tr>\n  </tbody>\n</table>\n<p>5 rows × 86 columns</p>\n</div>"
     },
     "metadata": {},
     "execution_count": 9
    }
   ],
   "source": [
    "roe.head()"
   ]
  },
  {
   "cell_type": "code",
   "execution_count": 10,
   "metadata": {},
   "outputs": [
    {
     "output_type": "execute_result",
     "data": {
      "text/plain": [
       "        code  name  2000-06  2000-09  2000-12  2001-06  2001-09  2001-12  \\\n",
       "0  000088.SZ   盐田港  39.9149      NaN  41.3036  42.4782      NaN  53.1255   \n",
       "1  000089.SZ  深圳机场  53.8475      NaN  47.3323  60.9306      NaN  58.9658   \n",
       "2  000099.SZ  中信海直   5.7820      NaN  19.4784   4.7863      NaN  19.8775   \n",
       "3  000429.SZ  粤高速A  73.7511      NaN  62.2701  80.3441  62.2701  76.4541   \n",
       "4  000507.SZ   珠海港 -39.4638      NaN  39.2992  35.6512      NaN   2.2658   \n",
       "\n",
       "   2002-03  2002-06  ...  2019-03  2019-06  2019-09  2019-12  2020-03  \\\n",
       "0  53.1255  55.8233  ...  27.5991  26.2288  37.3019  43.7381  39.3470   \n",
       "1  58.9658  43.2852  ...  26.0515  25.7161  27.1030  25.3124  32.0637   \n",
       "2  19.8775   7.1201  ...  27.8150  29.1799  44.8097  48.8600  63.2565   \n",
       "3  76.4541  63.1373  ...  65.4199  67.8830  67.9987  65.0292  63.6680   \n",
       "4   2.2658   3.7697  ...   8.3140   5.4826  10.7813   9.1938   8.6266   \n",
       "\n",
       "   2020-06  2020-09  2020-12  2000-03  2001-03  \n",
       "0  54.6110  49.8254      NaN      NaN      NaN  \n",
       "1  21.2754  18.0440      NaN      NaN      NaN  \n",
       "2  74.5158  62.3745      NaN      NaN      NaN  \n",
       "3  60.6510  61.3595      NaN      NaN      NaN  \n",
       "4  13.9599   7.7238      NaN      NaN      NaN  \n",
       "\n",
       "[5 rows x 86 columns]"
      ],
      "text/html": "<div>\n<style scoped>\n    .dataframe tbody tr th:only-of-type {\n        vertical-align: middle;\n    }\n\n    .dataframe tbody tr th {\n        vertical-align: top;\n    }\n\n    .dataframe thead th {\n        text-align: right;\n    }\n</style>\n<table border=\"1\" class=\"dataframe\">\n  <thead>\n    <tr style=\"text-align: right;\">\n      <th></th>\n      <th>code</th>\n      <th>name</th>\n      <th>2000-06</th>\n      <th>2000-09</th>\n      <th>2000-12</th>\n      <th>2001-06</th>\n      <th>2001-09</th>\n      <th>2001-12</th>\n      <th>2002-03</th>\n      <th>2002-06</th>\n      <th>...</th>\n      <th>2019-03</th>\n      <th>2019-06</th>\n      <th>2019-09</th>\n      <th>2019-12</th>\n      <th>2020-03</th>\n      <th>2020-06</th>\n      <th>2020-09</th>\n      <th>2020-12</th>\n      <th>2000-03</th>\n      <th>2001-03</th>\n    </tr>\n  </thead>\n  <tbody>\n    <tr>\n      <th>0</th>\n      <td>000088.SZ</td>\n      <td>盐田港</td>\n      <td>39.9149</td>\n      <td>NaN</td>\n      <td>41.3036</td>\n      <td>42.4782</td>\n      <td>NaN</td>\n      <td>53.1255</td>\n      <td>53.1255</td>\n      <td>55.8233</td>\n      <td>...</td>\n      <td>27.5991</td>\n      <td>26.2288</td>\n      <td>37.3019</td>\n      <td>43.7381</td>\n      <td>39.3470</td>\n      <td>54.6110</td>\n      <td>49.8254</td>\n      <td>NaN</td>\n      <td>NaN</td>\n      <td>NaN</td>\n    </tr>\n    <tr>\n      <th>1</th>\n      <td>000089.SZ</td>\n      <td>深圳机场</td>\n      <td>53.8475</td>\n      <td>NaN</td>\n      <td>47.3323</td>\n      <td>60.9306</td>\n      <td>NaN</td>\n      <td>58.9658</td>\n      <td>58.9658</td>\n      <td>43.2852</td>\n      <td>...</td>\n      <td>26.0515</td>\n      <td>25.7161</td>\n      <td>27.1030</td>\n      <td>25.3124</td>\n      <td>32.0637</td>\n      <td>21.2754</td>\n      <td>18.0440</td>\n      <td>NaN</td>\n      <td>NaN</td>\n      <td>NaN</td>\n    </tr>\n    <tr>\n      <th>2</th>\n      <td>000099.SZ</td>\n      <td>中信海直</td>\n      <td>5.7820</td>\n      <td>NaN</td>\n      <td>19.4784</td>\n      <td>4.7863</td>\n      <td>NaN</td>\n      <td>19.8775</td>\n      <td>19.8775</td>\n      <td>7.1201</td>\n      <td>...</td>\n      <td>27.8150</td>\n      <td>29.1799</td>\n      <td>44.8097</td>\n      <td>48.8600</td>\n      <td>63.2565</td>\n      <td>74.5158</td>\n      <td>62.3745</td>\n      <td>NaN</td>\n      <td>NaN</td>\n      <td>NaN</td>\n    </tr>\n    <tr>\n      <th>3</th>\n      <td>000429.SZ</td>\n      <td>粤高速A</td>\n      <td>73.7511</td>\n      <td>NaN</td>\n      <td>62.2701</td>\n      <td>80.3441</td>\n      <td>62.2701</td>\n      <td>76.4541</td>\n      <td>76.4541</td>\n      <td>63.1373</td>\n      <td>...</td>\n      <td>65.4199</td>\n      <td>67.8830</td>\n      <td>67.9987</td>\n      <td>65.0292</td>\n      <td>63.6680</td>\n      <td>60.6510</td>\n      <td>61.3595</td>\n      <td>NaN</td>\n      <td>NaN</td>\n      <td>NaN</td>\n    </tr>\n    <tr>\n      <th>4</th>\n      <td>000507.SZ</td>\n      <td>珠海港</td>\n      <td>-39.4638</td>\n      <td>NaN</td>\n      <td>39.2992</td>\n      <td>35.6512</td>\n      <td>NaN</td>\n      <td>2.2658</td>\n      <td>2.2658</td>\n      <td>3.7697</td>\n      <td>...</td>\n      <td>8.3140</td>\n      <td>5.4826</td>\n      <td>10.7813</td>\n      <td>9.1938</td>\n      <td>8.6266</td>\n      <td>13.9599</td>\n      <td>7.7238</td>\n      <td>NaN</td>\n      <td>NaN</td>\n      <td>NaN</td>\n    </tr>\n  </tbody>\n</table>\n<p>5 rows × 86 columns</p>\n</div>"
     },
     "metadata": {},
     "execution_count": 10
    }
   ],
   "source": [
    "cf.head()"
   ]
  },
  {
   "cell_type": "code",
   "execution_count": 1,
   "metadata": {},
   "outputs": [
    {
     "output_type": "stream",
     "name": "stdout",
     "text": [
      "\n"
     ]
    }
   ],
   "source": [
    "# cf\n",
    "print()\n",
    "# for code in codes:\n",
    "#     showOne(code, cf, center=False, n=8)"
   ]
  },
  {
   "cell_type": "code",
   "execution_count": 2,
   "metadata": {},
   "outputs": [
    {
     "output_type": "stream",
     "name": "stdout",
     "text": [
      "\n"
     ]
    }
   ],
   "source": [
    "# roe\n",
    "print()\n",
    "# for code in codes:\n",
    "#     showOne(code, roe, center=False)"
   ]
  },
  {
   "cell_type": "code",
   "execution_count": null,
   "metadata": {},
   "outputs": [],
   "source": []
  }
 ]
}