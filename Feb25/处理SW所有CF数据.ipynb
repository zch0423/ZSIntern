{
 "metadata": {
  "language_info": {
   "codemirror_mode": {
    "name": "ipython",
    "version": 3
   },
   "file_extension": ".py",
   "mimetype": "text/x-python",
   "name": "python",
   "nbconvert_exporter": "python",
   "pygments_lexer": "ipython3",
   "version": "3.9.1-final"
  },
  "orig_nbformat": 2,
  "kernelspec": {
   "name": "python3",
   "display_name": "Python 3.9.1 64-bit",
   "metadata": {
    "interpreter": {
     "hash": "bbee7842ce8ba476870a006d5d5b68f11cea175afb0fea017b7f81beccf88892"
    }
   }
  }
 },
 "nbformat": 4,
 "nbformat_minor": 2,
 "cells": [
  {
   "source": [
    "## 处理所有现金流数据并导出到SWCFData中"
   ],
   "cell_type": "markdown",
   "metadata": {}
  },
  {
   "cell_type": "code",
   "execution_count": 1,
   "metadata": {},
   "outputs": [],
   "source": [
    "import sys\n",
    "sys.path.append(\"..\")\n",
    "from roeProcessTools import *\n",
    "from cfProcessTools import *"
   ]
  },
  {
   "cell_type": "code",
   "execution_count": 2,
   "metadata": {},
   "outputs": [],
   "source": [
    "dirPath = \"/Users/zch/Desktop/internship/SWCFData/raw/\"\n",
    "cleanPath = \"/Users/zch/Desktop/internship/SWCFData/clean/\"\n",
    "markPath = \"/Users/zch/Desktop/internship/SWCFData/mark/\""
   ]
  },
  {
   "cell_type": "code",
   "execution_count": 3,
   "metadata": {},
   "outputs": [],
   "source": [
    "import os"
   ]
  },
  {
   "cell_type": "code",
   "execution_count": 20,
   "metadata": {},
   "outputs": [],
   "source": [
    "with os.scandir(dirPath) as it:\n",
    "    for entry in it:\n",
    "        if not entry.name.endswith(\"xlsx\"):\n",
    "            continue\n",
    "        df = pd.read_excel(entry.path)\n",
    "        df = cleanCFData(df, continuousBool=False)  # 一定要选False\n",
    "        df.to_excel(cleanPath+entry.name, index=False)"
   ]
  },
  {
   "cell_type": "code",
   "execution_count": 21,
   "metadata": {},
   "outputs": [],
   "source": [
    "dfs = {}\n",
    "with os.scandir(cleanPath) as it:\n",
    "    for entry in it:\n",
    "        if not entry.name.endswith(\"xlsx\"):\n",
    "            continue\n",
    "        df = pd.read_excel(entry.path)\n",
    "        dfs[entry.name[:-5]] = df"
   ]
  },
  {
   "cell_type": "code",
   "execution_count": 31,
   "metadata": {},
   "outputs": [],
   "source": [
    "marked = {}\n",
    "for key, item in dfs.items():\n",
    "    marked[key] = mark(item, n=8, center=False, gaussian=True, order=4, threshold=0.8, highPct=75, increaseBool=True)"
   ]
  },
  {
   "cell_type": "code",
   "execution_count": 26,
   "metadata": {},
   "outputs": [],
   "source": [
    "# 导出selected\n",
    "for key, item in marked.items():\n",
    "    item.to_excel(markPath+key+\".xlsx\")"
   ]
  },
  {
   "cell_type": "code",
   "execution_count": 32,
   "metadata": {},
   "outputs": [],
   "source": [
    "for key, item in marked.items():\n",
    "    item[\"industry\"] = key"
   ]
  },
  {
   "cell_type": "code",
   "execution_count": 40,
   "metadata": {},
   "outputs": [],
   "source": [
    "temp = pd.concat(marked.values(), axis=0)"
   ]
  },
  {
   "cell_type": "code",
   "execution_count": 41,
   "metadata": {},
   "outputs": [],
   "source": [
    "temp.reset_index(inplace=True, drop=True)"
   ]
  },
  {
   "cell_type": "code",
   "execution_count": 43,
   "metadata": {},
   "outputs": [],
   "source": [
    "temp.to_excel(\"/Users/zch/Desktop/internship/SWCFData/marked.xlsx\", index=False)"
   ]
  },
  {
   "cell_type": "code",
   "execution_count": 51,
   "metadata": {},
   "outputs": [
    {
     "output_type": "execute_result",
     "data": {
      "text/plain": [
       "           code  name mark startTime industry\n",
       "0     000088.SZ   盐田港    I   2017-09     交通运输\n",
       "1     000099.SZ  中信海直    I   2019-06     交通运输\n",
       "2     000755.SZ  山西路桥    I   2018-06     交通运输\n",
       "3     000828.SZ  东莞控股    I   2017-09     交通运输\n",
       "4     000885.SZ  城发环境    I   2017-03     交通运输\n",
       "...         ...   ...  ...       ...      ...\n",
       "1129  601677.SH  明泰铝业    I   2019-03     有色金属\n",
       "1130  601958.SH  金钼股份    I   2017-09     有色金属\n",
       "1131  603003.SH  龙宇燃油    I   2018-09     有色金属\n",
       "1132  603399.SH  吉翔股份    I   2018-09     有色金属\n",
       "1133  603799.SH  华友钴业    I   2019-03     有色金属\n",
       "\n",
       "[1134 rows x 5 columns]"
      ],
      "text/html": "<div>\n<style scoped>\n    .dataframe tbody tr th:only-of-type {\n        vertical-align: middle;\n    }\n\n    .dataframe tbody tr th {\n        vertical-align: top;\n    }\n\n    .dataframe thead th {\n        text-align: right;\n    }\n</style>\n<table border=\"1\" class=\"dataframe\">\n  <thead>\n    <tr style=\"text-align: right;\">\n      <th></th>\n      <th>code</th>\n      <th>name</th>\n      <th>mark</th>\n      <th>startTime</th>\n      <th>industry</th>\n    </tr>\n  </thead>\n  <tbody>\n    <tr>\n      <th>0</th>\n      <td>000088.SZ</td>\n      <td>盐田港</td>\n      <td>I</td>\n      <td>2017-09</td>\n      <td>交通运输</td>\n    </tr>\n    <tr>\n      <th>1</th>\n      <td>000099.SZ</td>\n      <td>中信海直</td>\n      <td>I</td>\n      <td>2019-06</td>\n      <td>交通运输</td>\n    </tr>\n    <tr>\n      <th>2</th>\n      <td>000755.SZ</td>\n      <td>山西路桥</td>\n      <td>I</td>\n      <td>2018-06</td>\n      <td>交通运输</td>\n    </tr>\n    <tr>\n      <th>3</th>\n      <td>000828.SZ</td>\n      <td>东莞控股</td>\n      <td>I</td>\n      <td>2017-09</td>\n      <td>交通运输</td>\n    </tr>\n    <tr>\n      <th>4</th>\n      <td>000885.SZ</td>\n      <td>城发环境</td>\n      <td>I</td>\n      <td>2017-03</td>\n      <td>交通运输</td>\n    </tr>\n    <tr>\n      <th>...</th>\n      <td>...</td>\n      <td>...</td>\n      <td>...</td>\n      <td>...</td>\n      <td>...</td>\n    </tr>\n    <tr>\n      <th>1129</th>\n      <td>601677.SH</td>\n      <td>明泰铝业</td>\n      <td>I</td>\n      <td>2019-03</td>\n      <td>有色金属</td>\n    </tr>\n    <tr>\n      <th>1130</th>\n      <td>601958.SH</td>\n      <td>金钼股份</td>\n      <td>I</td>\n      <td>2017-09</td>\n      <td>有色金属</td>\n    </tr>\n    <tr>\n      <th>1131</th>\n      <td>603003.SH</td>\n      <td>龙宇燃油</td>\n      <td>I</td>\n      <td>2018-09</td>\n      <td>有色金属</td>\n    </tr>\n    <tr>\n      <th>1132</th>\n      <td>603399.SH</td>\n      <td>吉翔股份</td>\n      <td>I</td>\n      <td>2018-09</td>\n      <td>有色金属</td>\n    </tr>\n    <tr>\n      <th>1133</th>\n      <td>603799.SH</td>\n      <td>华友钴业</td>\n      <td>I</td>\n      <td>2019-03</td>\n      <td>有色金属</td>\n    </tr>\n  </tbody>\n</table>\n<p>1134 rows × 5 columns</p>\n</div>"
     },
     "metadata": {},
     "execution_count": 51
    }
   ],
   "source": [
    "temp"
   ]
  },
  {
   "source": [
    "## cf和roe标记进行merge"
   ],
   "cell_type": "markdown",
   "metadata": {}
  },
  {
   "cell_type": "code",
   "execution_count": 44,
   "metadata": {},
   "outputs": [],
   "source": [
    "roePath = \"/Users/zch/Desktop/internship/SWROEData/selectedMark.xlsx\"\n",
    "roe = pd.read_excel(roePath)"
   ]
  },
  {
   "cell_type": "code",
   "execution_count": 47,
   "metadata": {},
   "outputs": [],
   "source": [
    "merged = pd.merge(roe, temp, how=\"inner\", on=[\"code\", \"name\", \"mark\", \"industry\"], suffixes=(\"_roe\", \"_cf\"))"
   ]
  },
  {
   "cell_type": "code",
   "execution_count": 49,
   "metadata": {},
   "outputs": [],
   "source": [
    "merged.to_excel(\"cf和roe共同上升的公司.xlsx\", index=False)"
   ]
  },
  {
   "cell_type": "code",
   "execution_count": 50,
   "metadata": {},
   "outputs": [
    {
     "output_type": "execute_result",
     "data": {
      "text/plain": [
       "          code  name mark startTime_roe industry startTime_cf\n",
       "0    000799.SZ   酒鬼酒    I       2014-12     食品饮料      2020-03\n",
       "1    002216.SZ  三全食品    I       2017-03     食品饮料      2019-12\n",
       "2    002568.SZ  百润股份    I       2017-06     食品饮料      2017-09\n",
       "3    002661.SZ  克明面业    I       2018-06     食品饮料      2018-06\n",
       "4    300146.SZ  汤臣倍健    I       2017-03     食品饮料      2019-12\n",
       "..         ...   ...  ...           ...      ...          ...\n",
       "168  002683.SZ  宏大爆破    I       2016-12       化工      2016-12\n",
       "169  002194.SZ  武汉凡谷    I       2018-06       通信      2018-12\n",
       "170  002231.SZ  奥维通信    I       2019-09       通信      2019-09\n",
       "171  002467.SZ   二六三    I       2018-03       通信      2020-03\n",
       "172  300310.SZ  宜通世纪    I       2019-09       通信      2019-09\n",
       "\n",
       "[173 rows x 6 columns]"
      ],
      "text/html": "<div>\n<style scoped>\n    .dataframe tbody tr th:only-of-type {\n        vertical-align: middle;\n    }\n\n    .dataframe tbody tr th {\n        vertical-align: top;\n    }\n\n    .dataframe thead th {\n        text-align: right;\n    }\n</style>\n<table border=\"1\" class=\"dataframe\">\n  <thead>\n    <tr style=\"text-align: right;\">\n      <th></th>\n      <th>code</th>\n      <th>name</th>\n      <th>mark</th>\n      <th>startTime_roe</th>\n      <th>industry</th>\n      <th>startTime_cf</th>\n    </tr>\n  </thead>\n  <tbody>\n    <tr>\n      <th>0</th>\n      <td>000799.SZ</td>\n      <td>酒鬼酒</td>\n      <td>I</td>\n      <td>2014-12</td>\n      <td>食品饮料</td>\n      <td>2020-03</td>\n    </tr>\n    <tr>\n      <th>1</th>\n      <td>002216.SZ</td>\n      <td>三全食品</td>\n      <td>I</td>\n      <td>2017-03</td>\n      <td>食品饮料</td>\n      <td>2019-12</td>\n    </tr>\n    <tr>\n      <th>2</th>\n      <td>002568.SZ</td>\n      <td>百润股份</td>\n      <td>I</td>\n      <td>2017-06</td>\n      <td>食品饮料</td>\n      <td>2017-09</td>\n    </tr>\n    <tr>\n      <th>3</th>\n      <td>002661.SZ</td>\n      <td>克明面业</td>\n      <td>I</td>\n      <td>2018-06</td>\n      <td>食品饮料</td>\n      <td>2018-06</td>\n    </tr>\n    <tr>\n      <th>4</th>\n      <td>300146.SZ</td>\n      <td>汤臣倍健</td>\n      <td>I</td>\n      <td>2017-03</td>\n      <td>食品饮料</td>\n      <td>2019-12</td>\n    </tr>\n    <tr>\n      <th>...</th>\n      <td>...</td>\n      <td>...</td>\n      <td>...</td>\n      <td>...</td>\n      <td>...</td>\n      <td>...</td>\n    </tr>\n    <tr>\n      <th>168</th>\n      <td>002683.SZ</td>\n      <td>宏大爆破</td>\n      <td>I</td>\n      <td>2016-12</td>\n      <td>化工</td>\n      <td>2016-12</td>\n    </tr>\n    <tr>\n      <th>169</th>\n      <td>002194.SZ</td>\n      <td>武汉凡谷</td>\n      <td>I</td>\n      <td>2018-06</td>\n      <td>通信</td>\n      <td>2018-12</td>\n    </tr>\n    <tr>\n      <th>170</th>\n      <td>002231.SZ</td>\n      <td>奥维通信</td>\n      <td>I</td>\n      <td>2019-09</td>\n      <td>通信</td>\n      <td>2019-09</td>\n    </tr>\n    <tr>\n      <th>171</th>\n      <td>002467.SZ</td>\n      <td>二六三</td>\n      <td>I</td>\n      <td>2018-03</td>\n      <td>通信</td>\n      <td>2020-03</td>\n    </tr>\n    <tr>\n      <th>172</th>\n      <td>300310.SZ</td>\n      <td>宜通世纪</td>\n      <td>I</td>\n      <td>2019-09</td>\n      <td>通信</td>\n      <td>2019-09</td>\n    </tr>\n  </tbody>\n</table>\n<p>173 rows × 6 columns</p>\n</div>"
     },
     "metadata": {},
     "execution_count": 50
    }
   ],
   "source": [
    "merged"
   ]
  },
  {
   "cell_type": "code",
   "execution_count": null,
   "metadata": {},
   "outputs": [],
   "source": []
  }
 ]
}