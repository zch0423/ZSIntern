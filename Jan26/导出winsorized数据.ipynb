{
 "metadata": {
  "language_info": {
   "codemirror_mode": {
    "name": "ipython",
    "version": 3
   },
   "file_extension": ".py",
   "mimetype": "text/x-python",
   "name": "python",
   "nbconvert_exporter": "python",
   "pygments_lexer": "ipython3",
   "version": "3.9.1-final"
  },
  "orig_nbformat": 2,
  "kernelspec": {
   "name": "python3",
   "display_name": "Python 3",
   "language": "python"
  }
 },
 "nbformat": 4,
 "nbformat_minor": 2,
 "cells": [
  {
   "source": [
    "## 最原始数据处理"
   ],
   "cell_type": "markdown",
   "metadata": {}
  },
  {
   "cell_type": "code",
   "execution_count": 1,
   "metadata": {},
   "outputs": [],
   "source": [
    "import sys\n",
    "sys.path.append(\"..\")\n",
    "from roeProcessTools import *"
   ]
  },
  {
   "cell_type": "code",
   "execution_count": 2,
   "metadata": {},
   "outputs": [],
   "source": [
    "dirPath = \"/Users/zch/Desktop/internship/data/\"\n",
    "paths = {\"chem\":\"化工roe.xlsx\", \"mach\":\"机械设备roe.xlsx\", \"food\":\"食品饮料roe.xlsx\", \"elec\":\"电子roe.xlsx\"}"
   ]
  },
  {
   "cell_type": "code",
   "execution_count": null,
   "metadata": {},
   "outputs": [],
   "source": [
    "for key, item in paths.items():\n",
    "    temp = pd.read_excel(dirPath+item)\n",
    "    temp = clean(temp, minNum=32, winsorizeBool=True)\n",
    "    temp.to_excel(dirPath+key+\"Clean32.xlsx\", index=False)"
   ]
  }
 ]
}