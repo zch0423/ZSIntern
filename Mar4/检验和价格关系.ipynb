{
 "metadata": {
  "language_info": {
   "codemirror_mode": {
    "name": "ipython",
    "version": 3
   },
   "file_extension": ".py",
   "mimetype": "text/x-python",
   "name": "python",
   "nbconvert_exporter": "python",
   "pygments_lexer": "ipython3",
   "version": "3.9.1-final"
  },
  "orig_nbformat": 2,
  "kernelspec": {
   "name": "python3",
   "display_name": "Python 3.9.1 64-bit",
   "metadata": {
    "interpreter": {
     "hash": "bbee7842ce8ba476870a006d5d5b68f11cea175afb0fea017b7f81beccf88892"
    }
   }
  }
 },
 "nbformat": 4,
 "nbformat_minor": 2,
 "cells": [
  {
   "cell_type": "code",
   "execution_count": 1,
   "metadata": {},
   "outputs": [],
   "source": [
    "import pandas as pd\n",
    "import matplotlib.pyplot as plt\n",
    "from matplotlib.font_manager import FontProperties\n",
    "zhfont = FontProperties(fname=\"/System/Library/Fonts/PingFang.ttc\")\n",
    "import numpy as np\n",
    "import tushare as ts \n",
    "token = \"a7c1312fe8187bff67ada6333c4b447caff18f58be66ac8b64d20d5a\"\n",
    "api = ts.pro_api(token)"
   ]
  },
  {
   "cell_type": "code",
   "execution_count": 131,
   "metadata": {},
   "outputs": [],
   "source": [
    "import os"
   ]
  },
  {
   "cell_type": "code",
   "execution_count": 2,
   "metadata": {},
   "outputs": [],
   "source": [
    "df = pd.read_csv(\"both.csv\")"
   ]
  },
  {
   "cell_type": "code",
   "execution_count": 3,
   "metadata": {},
   "outputs": [
    {
     "output_type": "execute_result",
     "data": {
      "text/plain": [
       "          code  name mark startTime_roe  check industry startTime_cf  check.1  \\\n",
       "0    000799.SZ   酒鬼酒    I       2014-12    1.0     食品饮料      2020-03      1.0   \n",
       "1    002216.SZ  三全食品    I       2017-03    1.0     食品饮料      2019-12      1.0   \n",
       "2    002568.SZ  百润股份    I       2017-06    1.0     食品饮料      2017-09      1.0   \n",
       "3    002661.SZ  克明面业    I       2018-06    1.0     食品饮料      2018-06      1.0   \n",
       "4    600809.SH  山西汾酒    I       2015-09    1.0     食品饮料      2018-12      1.0   \n",
       "..         ...   ...  ...           ...    ...      ...          ...      ...   \n",
       "106  002080.SZ  中材科技    I       2017-09    1.0       化工      2017-06      1.0   \n",
       "107  002556.SZ  辉隆股份    I       2019-12    1.0       化工      2018-12      1.0   \n",
       "108  002683.SZ  宏大爆破    I       2016-12    1.0       化工      2016-12      1.0   \n",
       "109  002194.SZ  武汉凡谷    I       2018-06    1.0       通信      2018-12      1.0   \n",
       "110  002467.SZ   二六三    I       2018-03    1.0       通信      2020-03      1.0   \n",
       "\n",
       "     both  \n",
       "0     1.0  \n",
       "1     1.0  \n",
       "2     1.0  \n",
       "3     1.0  \n",
       "4     1.0  \n",
       "..    ...  \n",
       "106   1.0  \n",
       "107   1.0  \n",
       "108   1.0  \n",
       "109   1.0  \n",
       "110   1.0  \n",
       "\n",
       "[111 rows x 9 columns]"
      ],
      "text/html": "<div>\n<style scoped>\n    .dataframe tbody tr th:only-of-type {\n        vertical-align: middle;\n    }\n\n    .dataframe tbody tr th {\n        vertical-align: top;\n    }\n\n    .dataframe thead th {\n        text-align: right;\n    }\n</style>\n<table border=\"1\" class=\"dataframe\">\n  <thead>\n    <tr style=\"text-align: right;\">\n      <th></th>\n      <th>code</th>\n      <th>name</th>\n      <th>mark</th>\n      <th>startTime_roe</th>\n      <th>check</th>\n      <th>industry</th>\n      <th>startTime_cf</th>\n      <th>check.1</th>\n      <th>both</th>\n    </tr>\n  </thead>\n  <tbody>\n    <tr>\n      <th>0</th>\n      <td>000799.SZ</td>\n      <td>酒鬼酒</td>\n      <td>I</td>\n      <td>2014-12</td>\n      <td>1.0</td>\n      <td>食品饮料</td>\n      <td>2020-03</td>\n      <td>1.0</td>\n      <td>1.0</td>\n    </tr>\n    <tr>\n      <th>1</th>\n      <td>002216.SZ</td>\n      <td>三全食品</td>\n      <td>I</td>\n      <td>2017-03</td>\n      <td>1.0</td>\n      <td>食品饮料</td>\n      <td>2019-12</td>\n      <td>1.0</td>\n      <td>1.0</td>\n    </tr>\n    <tr>\n      <th>2</th>\n      <td>002568.SZ</td>\n      <td>百润股份</td>\n      <td>I</td>\n      <td>2017-06</td>\n      <td>1.0</td>\n      <td>食品饮料</td>\n      <td>2017-09</td>\n      <td>1.0</td>\n      <td>1.0</td>\n    </tr>\n    <tr>\n      <th>3</th>\n      <td>002661.SZ</td>\n      <td>克明面业</td>\n      <td>I</td>\n      <td>2018-06</td>\n      <td>1.0</td>\n      <td>食品饮料</td>\n      <td>2018-06</td>\n      <td>1.0</td>\n      <td>1.0</td>\n    </tr>\n    <tr>\n      <th>4</th>\n      <td>600809.SH</td>\n      <td>山西汾酒</td>\n      <td>I</td>\n      <td>2015-09</td>\n      <td>1.0</td>\n      <td>食品饮料</td>\n      <td>2018-12</td>\n      <td>1.0</td>\n      <td>1.0</td>\n    </tr>\n    <tr>\n      <th>...</th>\n      <td>...</td>\n      <td>...</td>\n      <td>...</td>\n      <td>...</td>\n      <td>...</td>\n      <td>...</td>\n      <td>...</td>\n      <td>...</td>\n      <td>...</td>\n    </tr>\n    <tr>\n      <th>106</th>\n      <td>002080.SZ</td>\n      <td>中材科技</td>\n      <td>I</td>\n      <td>2017-09</td>\n      <td>1.0</td>\n      <td>化工</td>\n      <td>2017-06</td>\n      <td>1.0</td>\n      <td>1.0</td>\n    </tr>\n    <tr>\n      <th>107</th>\n      <td>002556.SZ</td>\n      <td>辉隆股份</td>\n      <td>I</td>\n      <td>2019-12</td>\n      <td>1.0</td>\n      <td>化工</td>\n      <td>2018-12</td>\n      <td>1.0</td>\n      <td>1.0</td>\n    </tr>\n    <tr>\n      <th>108</th>\n      <td>002683.SZ</td>\n      <td>宏大爆破</td>\n      <td>I</td>\n      <td>2016-12</td>\n      <td>1.0</td>\n      <td>化工</td>\n      <td>2016-12</td>\n      <td>1.0</td>\n      <td>1.0</td>\n    </tr>\n    <tr>\n      <th>109</th>\n      <td>002194.SZ</td>\n      <td>武汉凡谷</td>\n      <td>I</td>\n      <td>2018-06</td>\n      <td>1.0</td>\n      <td>通信</td>\n      <td>2018-12</td>\n      <td>1.0</td>\n      <td>1.0</td>\n    </tr>\n    <tr>\n      <th>110</th>\n      <td>002467.SZ</td>\n      <td>二六三</td>\n      <td>I</td>\n      <td>2018-03</td>\n      <td>1.0</td>\n      <td>通信</td>\n      <td>2020-03</td>\n      <td>1.0</td>\n      <td>1.0</td>\n    </tr>\n  </tbody>\n</table>\n<p>111 rows × 9 columns</p>\n</div>"
     },
     "metadata": {},
     "execution_count": 3
    }
   ],
   "source": [
    "df"
   ]
  },
  {
   "cell_type": "code",
   "execution_count": 7,
   "metadata": {},
   "outputs": [],
   "source": [
    "codes = df.code.values\n",
    "stRoe = df.startTime_roe.values\n",
    "stCf = df.startTime_cf.values"
   ]
  },
  {
   "source": [
    "## 测试\n",
    "- pearson\n",
    "\n",
    "- granger"
   ],
   "cell_type": "markdown",
   "metadata": {}
  },
  {
   "cell_type": "code",
   "execution_count": 38,
   "metadata": {},
   "outputs": [],
   "source": [
    "tempCode = codes[0]\n",
    "roeTime = stRoe[0]\n",
    "cfTime = stCf[0]\n",
    "st1 = \"\".join(roeTime.split(\"-\"))+\"01\"  # start time roe\n",
    "st2 = \"\".join(cfTime.split(\"-\"))+\"01\"  # start time cf\n",
    "et = \"20201231\"  # end time"
   ]
  },
  {
   "source": [
    "price = ts.pro_bar(ts_code=tempCode, adj='qfq', start_date=st1, end_date=et)"
   ],
   "cell_type": "code",
   "metadata": {},
   "execution_count": 123,
   "outputs": []
  },
  {
   "cell_type": "code",
   "execution_count": 132,
   "metadata": {},
   "outputs": [
    {
     "output_type": "execute_result",
     "data": {
      "text/plain": [
       "     ts_code trade_date    open    high     low   close  pre_close  change  \\\n",
       "0  000799.SZ 2020-12-31  154.51  158.80  151.86  156.50     153.99    2.51   \n",
       "1  000799.SZ 2020-12-30  144.16  154.78  143.50  153.99     144.88    9.11   \n",
       "2  000799.SZ 2020-12-29  145.00  146.68  139.27  144.88     140.34    4.54   \n",
       "3  000799.SZ 2020-12-28  133.00  140.34  133.00  140.34     127.58   12.76   \n",
       "4  000799.SZ 2020-12-25  124.43  128.88  122.43  127.58     125.43    2.15   \n",
       "\n",
       "   pct_chg        vol       amount  \n",
       "0   1.6300  135903.94  2112010.281  \n",
       "1   6.2880  167853.06  2518328.321  \n",
       "2   3.2350  198647.06  2850951.003  \n",
       "3  10.0016  118251.86  1646735.579  \n",
       "4   1.7141   95324.46  1204740.228  "
      ],
      "text/html": "<div>\n<style scoped>\n    .dataframe tbody tr th:only-of-type {\n        vertical-align: middle;\n    }\n\n    .dataframe tbody tr th {\n        vertical-align: top;\n    }\n\n    .dataframe thead th {\n        text-align: right;\n    }\n</style>\n<table border=\"1\" class=\"dataframe\">\n  <thead>\n    <tr style=\"text-align: right;\">\n      <th></th>\n      <th>ts_code</th>\n      <th>trade_date</th>\n      <th>open</th>\n      <th>high</th>\n      <th>low</th>\n      <th>close</th>\n      <th>pre_close</th>\n      <th>change</th>\n      <th>pct_chg</th>\n      <th>vol</th>\n      <th>amount</th>\n    </tr>\n  </thead>\n  <tbody>\n    <tr>\n      <th>0</th>\n      <td>000799.SZ</td>\n      <td>2020-12-31</td>\n      <td>154.51</td>\n      <td>158.80</td>\n      <td>151.86</td>\n      <td>156.50</td>\n      <td>153.99</td>\n      <td>2.51</td>\n      <td>1.6300</td>\n      <td>135903.94</td>\n      <td>2112010.281</td>\n    </tr>\n    <tr>\n      <th>1</th>\n      <td>000799.SZ</td>\n      <td>2020-12-30</td>\n      <td>144.16</td>\n      <td>154.78</td>\n      <td>143.50</td>\n      <td>153.99</td>\n      <td>144.88</td>\n      <td>9.11</td>\n      <td>6.2880</td>\n      <td>167853.06</td>\n      <td>2518328.321</td>\n    </tr>\n    <tr>\n      <th>2</th>\n      <td>000799.SZ</td>\n      <td>2020-12-29</td>\n      <td>145.00</td>\n      <td>146.68</td>\n      <td>139.27</td>\n      <td>144.88</td>\n      <td>140.34</td>\n      <td>4.54</td>\n      <td>3.2350</td>\n      <td>198647.06</td>\n      <td>2850951.003</td>\n    </tr>\n    <tr>\n      <th>3</th>\n      <td>000799.SZ</td>\n      <td>2020-12-28</td>\n      <td>133.00</td>\n      <td>140.34</td>\n      <td>133.00</td>\n      <td>140.34</td>\n      <td>127.58</td>\n      <td>12.76</td>\n      <td>10.0016</td>\n      <td>118251.86</td>\n      <td>1646735.579</td>\n    </tr>\n    <tr>\n      <th>4</th>\n      <td>000799.SZ</td>\n      <td>2020-12-25</td>\n      <td>124.43</td>\n      <td>128.88</td>\n      <td>122.43</td>\n      <td>127.58</td>\n      <td>125.43</td>\n      <td>2.15</td>\n      <td>1.7141</td>\n      <td>95324.46</td>\n      <td>1204740.228</td>\n    </tr>\n  </tbody>\n</table>\n</div>"
     },
     "metadata": {},
     "execution_count": 132
    }
   ],
   "source": [
    "price.head()"
   ]
  },
  {
   "cell_type": "code",
   "execution_count": 17,
   "metadata": {},
   "outputs": [],
   "source": [
    "price[\"trade_date\"] = pd.to_datetime(price[\"trade_date\"])"
   ]
  },
  {
   "cell_type": "code",
   "execution_count": 20,
   "metadata": {},
   "outputs": [],
   "source": [
    "quarterly = price.resample(\"Q\", on=\"trade_date\").mean()"
   ]
  },
  {
   "cell_type": "code",
   "execution_count": 31,
   "metadata": {},
   "outputs": [],
   "source": [
    "roe = pd.read_csv(\"111家roe数据.csv\")\n",
    "cf = pd.read_csv(\"111家cf数据.csv\")"
   ]
  },
  {
   "cell_type": "code",
   "execution_count": 33,
   "metadata": {},
   "outputs": [],
   "source": [
    "tempRoe = roe[roe[\"code\"]==tempCode]\n",
    "tempCf = cf[cf[\"code\"]==cf]"
   ]
  },
  {
   "cell_type": "code",
   "execution_count": 46,
   "metadata": {},
   "outputs": [],
   "source": [
    "t = tempRoe.columns.get_indexer([roeTime,])[0]"
   ]
  },
  {
   "cell_type": "code",
   "execution_count": 48,
   "metadata": {},
   "outputs": [
    {
     "output_type": "execute_result",
     "data": {
      "text/plain": [
       "'2014-12'"
      ]
     },
     "metadata": {},
     "execution_count": 48
    }
   ],
   "source": [
    "roeTime"
   ]
  },
  {
   "cell_type": "code",
   "execution_count": 52,
   "metadata": {},
   "outputs": [],
   "source": [
    "# tempRoe.iloc[0,t:]  # 最后两个时间错位是concat的问题 Mar2中"
   ]
  },
  {
   "cell_type": "code",
   "execution_count": 53,
   "metadata": {},
   "outputs": [],
   "source": [
    "roeData = tempRoe.iloc[0, t:]"
   ]
  },
  {
   "cell_type": "code",
   "execution_count": 56,
   "metadata": {},
   "outputs": [],
   "source": [
    "roeData.index = pd.to_datetime(roeData.index)"
   ]
  },
  {
   "cell_type": "code",
   "execution_count": 62,
   "metadata": {},
   "outputs": [],
   "source": [
    "tt = roeData.resample(\"Q\").last()"
   ]
  },
  {
   "cell_type": "code",
   "execution_count": 65,
   "metadata": {},
   "outputs": [],
   "source": [
    "ttt = tt.dropna()"
   ]
  },
  {
   "cell_type": "code",
   "execution_count": 76,
   "metadata": {},
   "outputs": [
    {
     "output_type": "execute_result",
     "data": {
      "text/plain": [
       "Timestamp('2020-09-30 00:00:00', freq='Q-DEC')"
      ]
     },
     "metadata": {},
     "execution_count": 76
    }
   ],
   "source": [
    "ttt.index[-1]"
   ]
  },
  {
   "cell_type": "code",
   "execution_count": 71,
   "metadata": {},
   "outputs": [],
   "source": [
    "qPrice = quarterly[\"close\"]"
   ]
  },
  {
   "cell_type": "code",
   "execution_count": 86,
   "metadata": {},
   "outputs": [],
   "source": [
    "tttt = pd.DataFrame({\"roe\":ttt, \"close\":qPrice[:ttt.index[-1]]})"
   ]
  },
  {
   "cell_type": "code",
   "execution_count": 105,
   "metadata": {},
   "outputs": [],
   "source": [
    "tttt[\"roe\"] = tttt[\"roe\"].apply(pd.to_numeric)"
   ]
  },
  {
   "cell_type": "code",
   "execution_count": 110,
   "metadata": {},
   "outputs": [
    {
     "output_type": "execute_result",
     "data": {
      "text/plain": [
       "0.417899533878764"
      ]
     },
     "metadata": {},
     "execution_count": 110
    }
   ],
   "source": [
    "tttt[\"roe\"].apply(pd.to_numeric).corr(qPrice[:ttt.index[-1]])"
   ]
  },
  {
   "cell_type": "code",
   "execution_count": 144,
   "metadata": {},
   "outputs": [
    {
     "output_type": "execute_result",
     "data": {
      "text/plain": [
       "0.2381422924901186"
      ]
     },
     "metadata": {},
     "execution_count": 144
    }
   ],
   "source": [
    "tttt[\"roe\"].apply(pd.to_numeric).corr(qPrice[:ttt.index[-1]],method=\"spearman\")"
   ]
  },
  {
   "cell_type": "code",
   "execution_count": 145,
   "metadata": {},
   "outputs": [],
   "source": [
    "from scipy.stats import spearmanr"
   ]
  },
  {
   "cell_type": "code",
   "execution_count": 149,
   "metadata": {},
   "outputs": [],
   "source": [
    "tttt[\"roe\"] = tttt[\"roe\"].apply(pd.to_numeric)"
   ]
  },
  {
   "cell_type": "code",
   "execution_count": 150,
   "metadata": {},
   "outputs": [],
   "source": [
    "temp1 = tttt.dropna()"
   ]
  },
  {
   "cell_type": "code",
   "execution_count": 151,
   "metadata": {},
   "outputs": [
    {
     "output_type": "execute_result",
     "data": {
      "text/plain": [
       "SpearmanrResult(correlation=0.2381422924901186, pvalue=0.2738506728809402)"
      ]
     },
     "metadata": {},
     "execution_count": 151
    }
   ],
   "source": [
    "spearmanr(temp1[\"roe\"], temp1[\"close\"])"
   ]
  },
  {
   "cell_type": "code",
   "execution_count": 115,
   "metadata": {},
   "outputs": [
    {
     "output_type": "execute_result",
     "data": {
      "text/plain": [
       "2014-12-31   -16.9000\n",
       "2015-03-31    14.8769\n",
       "2015-06-30    31.3040\n",
       "2015-09-30    47.3355\n",
       "2015-12-31    38.3659\n",
       "2016-03-31    36.5277\n",
       "2016-06-30    28.9937\n",
       "2016-09-30    22.1432\n",
       "2016-12-31    33.4898\n",
       "2017-03-31    24.6915\n",
       "2017-06-30    22.8455\n",
       "2017-09-30    22.0153\n",
       "2017-12-31    25.6306\n",
       "2018-03-31    25.8622\n",
       "2018-06-30    29.3604\n",
       "2018-09-30    21.3855\n",
       "2018-12-31    17.8835\n",
       "2019-03-31    16.3536\n",
       "2019-06-30    18.8966\n",
       "2019-09-30    23.9583\n",
       "2019-12-31    25.2602\n",
       "2020-03-31    23.0045\n",
       "2020-06-30    32.3351\n",
       "2020-09-30    43.2680\n",
       "Freq: Q-DEC, Name: 0, dtype: float64"
      ]
     },
     "metadata": {},
     "execution_count": 115
    }
   ],
   "source": [
    "pd.to_numeric(ttt)"
   ]
  },
  {
   "source": [
    "## 检验Pearson相关系数"
   ],
   "cell_type": "markdown",
   "metadata": {}
  },
  {
   "cell_type": "code",
   "execution_count": 218,
   "metadata": {},
   "outputs": [],
   "source": [
    "def correlate(startTime:str, df:pd.DataFrame, price:pd.DataFrame)->float:\n",
    "    '''\n",
    "    Description:\n",
    "    根据startTime从df和price中获取开始时间之后的季度数据\n",
    "    返回pearson相关系数和spearman相关系数及其pvalue\n",
    "    ---\n",
    "    Params:\n",
    "    startTime, str, like \"2014-01\"\n",
    "    df, DataFrame of only one row, company roe or cf data\n",
    "    price, DataFrame, tushare 请求返回数据\n",
    "    startTime, str, like 2014-01\n",
    "    ---\n",
    "    Returns:\n",
    "    corrCoef, float \n",
    "    '''\n",
    "    # 获取开始时间所在的下标\n",
    "    timeIdx = df.columns.get_indexer([startTime,])[0]\n",
    "    data = df.iloc[0, timeIdx:]\n",
    "    data.index = pd.to_datetime(data.index)\n",
    "    # 转化成季度数据\n",
    "    data = data.resample(\"Q\").last()\n",
    "    data.dropna(inplace=True)\n",
    "    endTime = data.index[-1]\n",
    "    # 获取价格的quarterly数据\n",
    "    price[\"trade_date\"] = pd.to_datetime(price[\"trade_date\"], format=\"%Y%m%d\")\n",
    "    quarterly = price.resample(\"Q\", on=\"trade_date\").mean()\n",
    "    price = quarterly[:endTime][\"close\"]\n",
    "    temp = pd.DataFrame(data={\"roe\":pd.to_numeric(data), \"close\":price})\n",
    "    temp.dropna(inplace=True)\n",
    "    pearson = temp[\"roe\"].corr(temp[\"close\"])\n",
    "    spearman = spearmanr(temp[\"roe\"], temp[\"close\"])\n",
    "    return pearson, spearman"
   ]
  },
  {
   "cell_type": "code",
   "execution_count": 156,
   "metadata": {},
   "outputs": [],
   "source": [
    "pearson, spearman = correlate(roeTime, tempRoe, price)"
   ]
  },
  {
   "cell_type": "code",
   "execution_count": 160,
   "metadata": {},
   "outputs": [
    {
     "output_type": "execute_result",
     "data": {
      "text/plain": [
       "(0.417899533878764, 0.2381422924901186, 0.2738506728809402)"
      ]
     },
     "metadata": {},
     "execution_count": 160
    }
   ],
   "source": [
    "pearson, spearman[0], spearman[1]"
   ]
  },
  {
   "cell_type": "code",
   "execution_count": 170,
   "metadata": {},
   "outputs": [],
   "source": [
    "def getPriceData(code:str, startTime:str, endTime:str = \"20201231\", saveBool:bool =True):\n",
    "    '''\n",
    "    Description:\n",
    "    根据code时间等从tushare获取股价信息\n",
    "    ---\n",
    "    Params:\n",
    "    code, str\n",
    "    startTime, str, like 2014-01\n",
    "    endTime, str, like 20201231\n",
    "    saveBool, bool, whether to save data as csv file, outfile named by code and starttime\n",
    "    ---\n",
    "    Returns:\n",
    "    price\n",
    "    '''\n",
    "    outpath = f\"data/{code[:-3]}-{startTime}.csv\"\n",
    "    if os.path.exists(outpath):\n",
    "        # print(\"downloaded in\", outpath)\n",
    "        price = pd.read_csv(outpath)\n",
    "        return price\n",
    "\n",
    "    st = \"\".join(startTime.split(\"-\"))+\"01\"\n",
    "    price = ts.pro_bar(ts_code=code, adj='qfq', start_date=st, end_date=endTime)\n",
    "    if saveBool:\n",
    "        if not os.path.exists(\"data/\"):\n",
    "            os.mkdir(\"data/\")\n",
    "        price.to_csv(outpath, index=False)\n",
    "    return price"
   ]
  },
  {
   "cell_type": "code",
   "execution_count": 137,
   "metadata": {},
   "outputs": [],
   "source": [
    "# getPriceData(tempCode, \"2014-01\")"
   ]
  },
  {
   "cell_type": "code",
   "execution_count": 143,
   "metadata": {},
   "outputs": [],
   "source": [
    "def getEarlyTime(time1:str, time2:str):\n",
    "    '''\n",
    "    Description:\n",
    "    获取两个时间中较早的并返回\n",
    "    ---\n",
    "    Params:\n",
    "    time, str, like 2014-01\n",
    "    ---\n",
    "    Returns:\n",
    "    time, str, like 2014-01\n",
    "    '''\n",
    "    return time1 if time1<time2 else time2"
   ]
  },
  {
   "cell_type": "code",
   "execution_count": 161,
   "metadata": {},
   "outputs": [],
   "source": [
    "# codes = df.code.values\n",
    "# stRoe = df.startTime_roe.values\n",
    "# stCf = df.startTime_cf.values\n",
    "# df "
   ]
  },
  {
   "cell_type": "code",
   "execution_count": 162,
   "metadata": {},
   "outputs": [
    {
     "output_type": "execute_result",
     "data": {
      "text/plain": [
       "        code  name mark startTime_roe  check industry startTime_cf  check.1  \\\n",
       "0  000799.SZ   酒鬼酒    I       2014-12    1.0     食品饮料      2020-03      1.0   \n",
       "1  002216.SZ  三全食品    I       2017-03    1.0     食品饮料      2019-12      1.0   \n",
       "2  002568.SZ  百润股份    I       2017-06    1.0     食品饮料      2017-09      1.0   \n",
       "3  002661.SZ  克明面业    I       2018-06    1.0     食品饮料      2018-06      1.0   \n",
       "4  600809.SH  山西汾酒    I       2015-09    1.0     食品饮料      2018-12      1.0   \n",
       "\n",
       "   both  \n",
       "0   1.0  \n",
       "1   1.0  \n",
       "2   1.0  \n",
       "3   1.0  \n",
       "4   1.0  "
      ],
      "text/html": "<div>\n<style scoped>\n    .dataframe tbody tr th:only-of-type {\n        vertical-align: middle;\n    }\n\n    .dataframe tbody tr th {\n        vertical-align: top;\n    }\n\n    .dataframe thead th {\n        text-align: right;\n    }\n</style>\n<table border=\"1\" class=\"dataframe\">\n  <thead>\n    <tr style=\"text-align: right;\">\n      <th></th>\n      <th>code</th>\n      <th>name</th>\n      <th>mark</th>\n      <th>startTime_roe</th>\n      <th>check</th>\n      <th>industry</th>\n      <th>startTime_cf</th>\n      <th>check.1</th>\n      <th>both</th>\n    </tr>\n  </thead>\n  <tbody>\n    <tr>\n      <th>0</th>\n      <td>000799.SZ</td>\n      <td>酒鬼酒</td>\n      <td>I</td>\n      <td>2014-12</td>\n      <td>1.0</td>\n      <td>食品饮料</td>\n      <td>2020-03</td>\n      <td>1.0</td>\n      <td>1.0</td>\n    </tr>\n    <tr>\n      <th>1</th>\n      <td>002216.SZ</td>\n      <td>三全食品</td>\n      <td>I</td>\n      <td>2017-03</td>\n      <td>1.0</td>\n      <td>食品饮料</td>\n      <td>2019-12</td>\n      <td>1.0</td>\n      <td>1.0</td>\n    </tr>\n    <tr>\n      <th>2</th>\n      <td>002568.SZ</td>\n      <td>百润股份</td>\n      <td>I</td>\n      <td>2017-06</td>\n      <td>1.0</td>\n      <td>食品饮料</td>\n      <td>2017-09</td>\n      <td>1.0</td>\n      <td>1.0</td>\n    </tr>\n    <tr>\n      <th>3</th>\n      <td>002661.SZ</td>\n      <td>克明面业</td>\n      <td>I</td>\n      <td>2018-06</td>\n      <td>1.0</td>\n      <td>食品饮料</td>\n      <td>2018-06</td>\n      <td>1.0</td>\n      <td>1.0</td>\n    </tr>\n    <tr>\n      <th>4</th>\n      <td>600809.SH</td>\n      <td>山西汾酒</td>\n      <td>I</td>\n      <td>2015-09</td>\n      <td>1.0</td>\n      <td>食品饮料</td>\n      <td>2018-12</td>\n      <td>1.0</td>\n      <td>1.0</td>\n    </tr>\n  </tbody>\n</table>\n</div>"
     },
     "metadata": {},
     "execution_count": 162
    }
   ],
   "source": [
    "df.head()"
   ]
  },
  {
   "source": [
    "## test"
   ],
   "cell_type": "markdown",
   "metadata": {}
  },
  {
   "cell_type": "code",
   "execution_count": 172,
   "metadata": {},
   "outputs": [
    {
     "output_type": "stream",
     "name": "stdout",
     "text": [
      "000799.SZ 2014-12 2020-03\n002216.SZ 2017-03 2019-12\n002568.SZ 2017-06 2017-09\n002661.SZ 2018-06 2018-06\n600809.SH 2015-09 2018-12\n"
     ]
    }
   ],
   "source": [
    "count = 1\n",
    "for code, startTime_roe, startTime_cf in zip(codes, stRoe, stCf):\n",
    "    print(code, startTime_roe, startTime_cf)\n",
    "    count += 1\n",
    "    if count ==6:\n",
    "        break"
   ]
  },
  {
   "cell_type": "code",
   "execution_count": 165,
   "metadata": {},
   "outputs": [],
   "source": [
    "import time"
   ]
  },
  {
   "cell_type": "code",
   "execution_count": 206,
   "metadata": {},
   "outputs": [
    {
     "output_type": "stream",
     "name": "stdout",
     "text": [
      "2014-12\n"
     ]
    }
   ],
   "source": [
    "code = \"000799.SZ\"\n",
    "startTime_roe = \"2014-12\"\n",
    "startTime_cf = \"2020-03\"\n",
    "earlyTime = getEarlyTime(startTime_roe, startTime_cf)\n",
    "print(earlyTime)\n",
    "price = getPriceData(code, earlyTime, saveBool=True)\n",
    "tempRoe = roe[roe[\"code\"]==code]\n",
    "tempCf = cf[cf[\"code\"]==code]"
   ]
  },
  {
   "cell_type": "code",
   "execution_count": 191,
   "metadata": {},
   "outputs": [],
   "source": [
    "# price"
   ]
  },
  {
   "cell_type": "code",
   "execution_count": 180,
   "metadata": {},
   "outputs": [
    {
     "output_type": "execute_result",
     "data": {
      "text/plain": [
       "59"
      ]
     },
     "metadata": {},
     "execution_count": 180
    }
   ],
   "source": [
    "timeIdx = tempRoe.columns.get_indexer([startTime_roe, ])[0]\n",
    "timeIdx"
   ]
  },
  {
   "cell_type": "code",
   "execution_count": 181,
   "metadata": {},
   "outputs": [],
   "source": [
    "data = tempRoe.iloc[0, timeIdx:]"
   ]
  },
  {
   "cell_type": "code",
   "execution_count": 182,
   "metadata": {},
   "outputs": [],
   "source": [
    "data.index = pd.to_datetime(data.index)"
   ]
  },
  {
   "cell_type": "code",
   "execution_count": 183,
   "metadata": {},
   "outputs": [],
   "source": [
    "data = data.resample(\"Q\").last()\n",
    "data.dropna(inplace=True)"
   ]
  },
  {
   "cell_type": "code",
   "execution_count": 185,
   "metadata": {},
   "outputs": [],
   "source": [
    "endTime = data.index[-1]"
   ]
  },
  {
   "cell_type": "code",
   "execution_count": 207,
   "metadata": {},
   "outputs": [],
   "source": [
    "# 获取价格的quarterly数据\n",
    "price[\"trade_date\"] = pd.to_datetime(price[\"trade_date\"], format=\"%Y%m%d\")\n"
   ]
  },
  {
   "cell_type": "code",
   "execution_count": 209,
   "metadata": {},
   "outputs": [],
   "source": [
    "quarterly = price.resample(\"Q\", on=\"trade_date\").mean()\n"
   ]
  },
  {
   "cell_type": "code",
   "execution_count": 211,
   "metadata": {},
   "outputs": [],
   "source": [
    "price1 = quarterly[:endTime][\"close\"]"
   ]
  },
  {
   "cell_type": "code",
   "execution_count": 214,
   "metadata": {},
   "outputs": [],
   "source": [
    "temp = pd.DataFrame(data={\"roe\":pd.to_numeric(data), \"close\":price1})\n",
    "temp.dropna(inplace=True)\n",
    "pearson = temp[\"roe\"].corr(temp[\"close\"])\n",
    "spearman = spearmanr(temp[\"roe\"], temp[\"close\"])"
   ]
  },
  {
   "cell_type": "code",
   "execution_count": 217,
   "metadata": {},
   "outputs": [
    {
     "output_type": "execute_result",
     "data": {
      "text/plain": [
       "(0.417899533878764,\n",
       " SpearmanrResult(correlation=0.2381422924901186, pvalue=0.2738506728809402))"
      ]
     },
     "metadata": {},
     "execution_count": 217
    }
   ],
   "source": [
    "pearson, spearman"
   ]
  },
  {
   "cell_type": "code",
   "execution_count": 219,
   "metadata": {},
   "outputs": [
    {
     "output_type": "execute_result",
     "data": {
      "text/plain": [
       "(0.417899533878764,\n",
       " SpearmanrResult(correlation=0.2381422924901186, pvalue=0.2738506728809402))"
      ]
     },
     "metadata": {},
     "execution_count": 219
    }
   ],
   "source": [
    "correlate(startTime_roe, tempRoe, price)"
   ]
  },
  {
   "source": [
    "## main"
   ],
   "cell_type": "markdown",
   "metadata": {}
  },
  {
   "cell_type": "code",
   "execution_count": 221,
   "metadata": {},
   "outputs": [
    {
     "output_type": "stream",
     "name": "stdout",
     "text": [
      "000799.SZ 0.417899533878764 SpearmanrResult(correlation=0.2381422924901186, pvalue=0.2738506728809402)\n",
      "002216.SZ 0.9226115992931546 SpearmanrResult(correlation=0.4142857142857142, pvalue=0.12471544223657098)\n",
      "002568.SZ 0.6291239162073572 SpearmanrResult(correlation=0.5736263736263736, pvalue=0.03197081397639698)\n",
      "002661.SZ 0.6237490983718676 SpearmanrResult(correlation=0.34545454545454546, pvalue=0.32822651147136733)\n",
      "600809.SH 0.48064535050090434 SpearmanrResult(correlation=0.49870129870129876, pvalue=0.02138084599925308)\n",
      "600866.SH 0.7166428438920429 SpearmanrResult(correlation=0.6833333333333333, pvalue=0.04244227208707231)\n",
      "600872.SH 0.5192147337336948 SpearmanrResult(correlation=0.5614035087719299, pvalue=0.012380476816162053)\n",
      "000682.SZ 0.6342684613974394 SpearmanrResult(correlation=0.5272727272727272, pvalue=0.11730806555020223)\n",
      "002129.SZ 0.6173061515421819 SpearmanrResult(correlation=0.42499999999999993, pvalue=0.11429547548052224)\n",
      "002576.SZ 0.16901512469443636 SpearmanrResult(correlation=0.35, pvalue=0.35581957250178897)\n",
      "600577.SH 0.26173713899890544 SpearmanrResult(correlation=0.6000000000000001, pvalue=0.3999999999999999)\n",
      "601012.SH 0.2869588192970701 SpearmanrResult(correlation=-0.39999999999999997, pvalue=0.6)\n",
      "000019.SZ 0.13636510493821982 SpearmanrResult(correlation=0.07142857142857144, pvalue=0.8665262706759088)\n",
      "000785.SZ -0.11508611812495909 SpearmanrResult(correlation=-0.19999999999999998, pvalue=0.747060078104662)\n",
      "200019.SZ 'NoneType' object has no attribute 'to_csv'\n",
      "002014.SZ 0.8512151962932399 SpearmanrResult(correlation=0.8181818181818183, pvalue=0.0011431050868040604)\n",
      "002243.SZ 0.5299569545430686 SpearmanrResult(correlation=0.5363636363636364, pvalue=0.012190563732810212)\n",
      "002599.SZ -0.2485440899657817 SpearmanrResult(correlation=-0.28181818181818186, pvalue=0.21584648348646934)\n",
      "002111.SZ 0.7280415867301099 SpearmanrResult(correlation=0.5384615384615385, pvalue=0.07089431754922315)\n",
      "002487.SZ 0.12672453345451282 SpearmanrResult(correlation=0.2545454545454546, pvalue=0.4500365768888285)\n",
      "002532.SZ -0.10491667803399225 SpearmanrResult(correlation=-0.21428571428571433, pvalue=0.6445115810207203)\n",
      "300092.SZ 0.030523790902998883 SpearmanrResult(correlation=0.261904761904762, pvalue=0.530922861565801)\n",
      "300095.SZ 0.25396121690047846 SpearmanrResult(correlation=0.6, pvalue=0.28475697986529375)\n",
      "300171.SZ 0.853512523908747 SpearmanrResult(correlation=0.8999999999999998, pvalue=0.03738607346849874)\n",
      "300259.SZ -0.7911559911358885 SpearmanrResult(correlation=-0.8857142857142858, pvalue=0.01884548104956266)\n",
      "600218.SH -0.7457994686196604 SpearmanrResult(correlation=-0.8999999999999998, pvalue=0.03738607346849874)\n",
      "600501.SH 0.28543782509384397 SpearmanrResult(correlation=0.19999999999999998, pvalue=0.8)\n",
      "601038.SH 0.8896494967316845 SpearmanrResult(correlation=0.39999999999999997, pvalue=0.5046315754686911)\n",
      "601100.SH 0.7262524516488756 SpearmanrResult(correlation=0.8970588235294119, pvalue=1.0662246540443239e-06)\n",
      "601369.SH -0.4579372201088541 SpearmanrResult(correlation=-0.2967032967032967, pvalue=0.3249215884859752)\n",
      "601608.SH -0.3111212977837212 SpearmanrResult(correlation=-0.054945054945054944, pvalue=0.8585042942308735)\n",
      "002124.SZ 0.399182548554145 SpearmanrResult(correlation=-0.028571428571428574, pvalue=0.9571545189504373)\n",
      "002157.SZ 0.22116409205816673 SpearmanrResult(correlation=0.2, pvalue=0.704)\n",
      "002385.SZ 0.3183251493817742 SpearmanrResult(correlation=0.39999999999999997, pvalue=0.6)\n",
      "002567.SZ 0.8159643761511377 SpearmanrResult(correlation=0.39999999999999997, pvalue=0.6)\n",
      "300119.SZ 0.7410599519082559 SpearmanrResult(correlation=0.523809523809524, pvalue=0.18272075053971484)\n",
      "300498.SZ -0.5021511329014346 SpearmanrResult(correlation=-0.6071428571428572, pvalue=0.1482311614811614)\n",
      "600359.SH 0.4082635470658616 SpearmanrResult(correlation=0.09999999999999999, pvalue=0.8728885715695383)\n",
      "600975.SH -0.10728179536887175 SpearmanrResult(correlation=0.09999999999999999, pvalue=0.8728885715695383)\n",
      "300012.SZ 0.5461718754617132 SpearmanrResult(correlation=0.5090909090909091, pvalue=0.10973723224165641)\n",
      "600128.SH -0.14704909649143988 SpearmanrResult(correlation=-0.7999999999999999, pvalue=0.20000000000000007)\n",
      "002190.SZ 0.5995126497007598 SpearmanrResult(correlation=0.6785714285714287, pvalue=0.0937502539598313)\n",
      "600685.SH 0.4849901471289048 SpearmanrResult(correlation=0.25, pvalue=0.5887244480896833)\n",
      "000955.SZ 0.7752822747674949 SpearmanrResult(correlation=0.7999999999999999, pvalue=0.20000000000000007)\n",
      "600496.SH 0.2908013035756696 SpearmanrResult(correlation=0.2727272727272727, pvalue=0.44583834154275137)\n",
      "600853.SH 0.10066524467978948 SpearmanrResult(correlation=0.12076923076923077, pvalue=0.5652622451028124)\n",
      "002045.SZ 0.10657111793965404 SpearmanrResult(correlation=0.09999999999999999, pvalue=0.8728885715695383)\n",
      "002134.SZ 0.7878229568832922 SpearmanrResult(correlation=0.49999999999999994, pvalue=0.39100221895577053)\n",
      "002199.SZ -0.8779096438849178 SpearmanrResult(correlation=-0.942857142857143, pvalue=0.004804664723032055)\n",
      "002351.SZ -0.19760409172697913 SpearmanrResult(correlation=-0.028571428571428574, pvalue=0.9571545189504373)\n",
      "002409.SZ 0.702849564018103 SpearmanrResult(correlation=0.7666666666666667, pvalue=0.01594401657897401)\n",
      "002436.SZ 0.39562325292436146 SpearmanrResult(correlation=0.28571428571428575, pvalue=0.4927262450169573)\n",
      "002463.SZ 0.7726184392236645 SpearmanrResult(correlation=0.7246753246753247, pvalue=0.00020267623916371926)\n",
      "300256.SZ 0.9233283025198028 SpearmanrResult(correlation=0.8999999999999998, pvalue=0.03738607346849874)\n",
      "300327.SZ 0.645327812411274 SpearmanrResult(correlation=0.6027350427350426, pvalue=0.0011188884180024566)\n",
      "300346.SZ 0.18402273419773116 SpearmanrResult(correlation=0.2923076923076923, pvalue=0.3105263203858819)\n",
      "600071.SH -0.26002968477965593 SpearmanrResult(correlation=-0.39999999999999997, pvalue=0.6)\n",
      "600584.SH 0.929068145103246 SpearmanrResult(correlation=1.0, pvalue=0.0)\n",
      "000401.SZ 0.37505357434437414 SpearmanrResult(correlation=0.4534313725490197, pvalue=0.06754818013371684)\n",
      "002392.SZ 0.303642828117501 SpearmanrResult(correlation=0.3205882352941176, pvalue=0.22604542220798235)\n",
      "002641.SZ 0.8066537759088706 SpearmanrResult(correlation=0.8545454545454546, pvalue=0.0008066741521648989)\n",
      "600720.SH 0.5536905010198657 SpearmanrResult(correlation=0.38970588235294124, pvalue=0.12203439858782986)\n",
      "000625.SZ 0.3337701313138786 SpearmanrResult(correlation=-0.5, pvalue=0.6666666666666667)\n",
      "000800.SZ 0.7801848997438094 SpearmanrResult(correlation=0.7, pvalue=0.1881204043741873)\n",
      "200625.SZ 'NoneType' object has no attribute 'to_csv'\n",
      "600166.SH 0.004222761006570867 SpearmanrResult(correlation=0.03571428571428572, pvalue=0.9394082054712856)\n",
      "601717.SH 0.5861163988854481 SpearmanrResult(correlation=0.465686274509804, pvalue=0.05957824210811783)\n",
      "601799.SH 0.5904837987331958 SpearmanrResult(correlation=0.4825174825174825, pvalue=0.11210929146889191)\n",
      "000612.SZ 0.11260861574028744 SpearmanrResult(correlation=0.09999999999999999, pvalue=0.8728885715695383)\n",
      "000969.SZ -0.41957334787974093 SpearmanrResult(correlation=-0.3142857142857143, pvalue=0.5440932944606414)\n",
      "600961.SH 0.5154216361523279 SpearmanrResult(correlation=0.3571428571428572, pvalue=0.4316113520383278)\n",
      "601168.SH 0.269413772111966 SpearmanrResult(correlation=0.1464285714285714, pvalue=0.602549920983054)\n",
      "601388.SH -0.31868570755061454 SpearmanrResult(correlation=-0.39999999999999997, pvalue=0.6)\n",
      "601677.SH -0.09733686998696751 SpearmanrResult(correlation=-0.1985294117647059, pvalue=0.4449505436788084)\n",
      "002010.SZ -0.9092994822791398 SpearmanrResult(correlation=-0.7000000000000001, pvalue=0.01647097883651441)\n",
      "600026.SH 0.5244280667177795 SpearmanrResult(correlation=0.39999999999999997, pvalue=0.6)\n",
      "002232.SZ 0.49636726764389955 SpearmanrResult(correlation=0.4992307692307692, pvalue=0.011065261834899013)\n",
      "002312.SZ 0.8572844454452154 SpearmanrResult(correlation=0.8999999999999998, pvalue=0.03738607346849874)\n",
      "300330.SZ -0.3592373771150225 SpearmanrResult(correlation=0.09999999999999999, pvalue=0.8728885715695383)\n",
      "600571.SH -0.2838685793940216 SpearmanrResult(correlation=-0.1666666666666667, pvalue=0.693238811728395)\n",
      "601519.SH 0.5641753582535892 SpearmanrResult(correlation=0.3010989010989011, pvalue=0.2955144656072166)\n",
      "000686.SZ 0.48125771115409843 SpearmanrResult(correlation=0.30952380952380953, pvalue=0.4556448907375822)\n",
      "002242.SZ 0.7228100201730686 SpearmanrResult(correlation=0.7666666666666667, pvalue=0.01594401657897401)\n",
      "200512.SZ 'NoneType' object has no attribute 'to_csv'\n",
      "603366.SH 0.668012392749496 SpearmanrResult(correlation=0.7, pvalue=0.1881204043741873)\n",
      "002443.SZ -0.4950892641584669 SpearmanrResult(correlation=-0.4175824175824176, pvalue=0.1556747536334745)\n",
      "300280.SZ -0.23357355468727847 SpearmanrResult(correlation=-0.22527472527472525, pvalue=0.4593051427250058)\n",
      "300299.SZ -0.2812819866430128 SpearmanrResult(correlation=-0.6071428571428572, pvalue=0.1482311614811614)\n",
      "600639.SH 0.46688356026623484 SpearmanrResult(correlation=0.41421568627450983, pvalue=0.09833118794961317)\n",
      "900911.SH 'NoneType' object has no attribute 'to_csv'\n",
      "900939.SH 'NoneType' object has no attribute 'to_csv'\n",
      "000407.SZ -0.5720526057012122 SpearmanrResult(correlation=-0.7802197802197802, pvalue=0.0009944938002309496)\n",
      "000531.SZ 0.22574306766120003 SpearmanrResult(correlation=-0.07142857142857144, pvalue=0.8790481931481541)\n",
      "000690.SZ -0.14003088658516194 SpearmanrResult(correlation=-0.11188811188811189, pvalue=0.729194990751066)\n",
      "001896.SZ -0.019399590075740828 SpearmanrResult(correlation=0.3333333333333334, pvalue=0.4197530864197531)\n",
      "600027.SH -0.21007647468346988 SpearmanrResult(correlation=-0.27272727272727276, pvalue=0.41714143714253127)\n",
      "000590.SZ -0.9646674578407146 SpearmanrResult(correlation=-0.9999999999999999, pvalue=1.4042654220543672e-24)\n",
      "000661.SZ 0.43924204289260926 SpearmanrResult(correlation=0.5363636363636364, pvalue=0.08895341813596276)\n",
      "000739.SZ 0.6573582235609345 SpearmanrResult(correlation=0.8545454545454544, pvalue=0.0016368033159867143)\n",
      "002223.SZ 0.927525010288736 SpearmanrResult(correlation=0.5181818181818182, pvalue=0.10249153979096383)\n",
      "002252.SZ 0.35016595965766234 SpearmanrResult(correlation=0.6, pvalue=0.20799999999999982)\n",
      "002432.SZ 0.9132332378916166 SpearmanrResult(correlation=0.5476190476190477, pvalue=0.1600256425388966)\n",
      "300142.SZ 0.37745751430470736 SpearmanrResult(correlation=0.2823529411764706, pvalue=0.2893498290632739)\n",
      "300206.SZ 0.904733976354508 SpearmanrResult(correlation=0.9160839160839163, pvalue=2.8428045348547105e-05)\n",
      "300314.SZ 0.5539206526902347 SpearmanrResult(correlation=0.642857142857143, pvalue=0.11939237342741094)\n",
      "600055.SH 0.22888899576910804 SpearmanrResult(correlation=0.1258741258741259, pvalue=0.6966831093957659)\n",
      "002080.SZ 0.5124095997892087 SpearmanrResult(correlation=0.5164835164835164, pvalue=0.07074904067496371)\n",
      "002556.SZ -0.5037842337562575 SpearmanrResult(correlation=-0.19999999999999998, pvalue=0.8)\n",
      "002683.SZ 0.39880398416115753 SpearmanrResult(correlation=0.611764705882353, pvalue=0.011788405053115212)\n",
      "002194.SZ 0.873593113105445 SpearmanrResult(correlation=0.8666666666666665, pvalue=0.0011735381801554687)\n",
      "002467.SZ 0.3819315702055057 SpearmanrResult(correlation=0.36363636363636365, pvalue=0.2716375409938228)\n"
     ]
    }
   ],
   "source": [
    "roePearson = {}\n",
    "roeSpearman = {}\n",
    "cfPearson = {}\n",
    "cfSpearman = {}\n",
    "failed = []\n",
    "for code, startTime_roe, startTime_cf in zip(codes, stRoe, stCf):\n",
    "    print(code, end=\" \")\n",
    "    try:\n",
    "        earlyTime = getEarlyTime(startTime_roe, startTime_cf)\n",
    "        price = getPriceData(code, earlyTime, saveBool=True)\n",
    "        tempRoe = roe[roe[\"code\"]==code]\n",
    "        tempCf = cf[cf[\"code\"]==code]\n",
    "    except Exception as e:\n",
    "        print(e)\n",
    "        failed.append((code, startTime_roe, startTime_cf))\n",
    "        time.sleep(2)\n",
    "        continue\n",
    "    roePear, roeSpear = correlate(startTime_roe, tempRoe, price)\n",
    "    cfPear, cfSpear = correlate(startTime_cf, tempCf, price)\n",
    "    roePearson[code] = roePear\n",
    "    roeSpearman[code] = roeSpear\n",
    "    cfPearson[code] = cfPear\n",
    "    cfSpearman[code] = cfSpear\n",
    "    time.sleep(1)\n",
    "    print(roePear, roeSpear)"
   ]
  },
  {
   "cell_type": "code",
   "execution_count": 224,
   "metadata": {},
   "outputs": [
    {
     "output_type": "execute_result",
     "data": {
      "text/plain": [
       "111"
      ]
     },
     "metadata": {},
     "execution_count": 224
    }
   ],
   "source": [
    "len(codes)"
   ]
  },
  {
   "cell_type": "code",
   "execution_count": 228,
   "metadata": {},
   "outputs": [],
   "source": [
    "roe1 = []  # Pearson\n",
    "roe2 = []  # Spearman\n",
    "roe3 = []  # pvalue for Spearman\n",
    "cf1 = []\n",
    "cf2 = []\n",
    "cf3 = []\n",
    "tempCodes = list(roePearson.keys())\n",
    "for code in tempCodes:\n",
    "    roe1.append(roePearson[code])\n",
    "    roe2.append(roeSpearman[code][0])\n",
    "    roe3.append(roeSpearman[code][1])\n",
    "    cf1.append(cfPearson[code])\n",
    "    cf2.append(cfSpearman[code][0])\n",
    "    cf3.append(cfSpearman[code][1])"
   ]
  },
  {
   "cell_type": "code",
   "execution_count": 229,
   "metadata": {},
   "outputs": [
    {
     "output_type": "execute_result",
     "data": {
      "text/plain": [
       "[('200019.SZ', '2018-12', '2019-03'),\n",
       " ('200625.SZ', '2020-03', '2019-06'),\n",
       " ('200512.SZ', '2018-12', '2019-03'),\n",
       " ('900911.SH', '2016-09', '2020-03'),\n",
       " ('900939.SH', '2019-03', '2017-09')]"
      ]
     },
     "metadata": {},
     "execution_count": 229
    }
   ],
   "source": [
    "failed  # 无数据"
   ]
  },
  {
   "cell_type": "code",
   "execution_count": 247,
   "metadata": {},
   "outputs": [],
   "source": [
    "names = []\n",
    "for code in tempCodes:\n",
    "    names.append(df[df[\"code\"]==code].name.values[0])"
   ]
  },
  {
   "cell_type": "code",
   "execution_count": 249,
   "metadata": {},
   "outputs": [],
   "source": [
    "checkDf = pd.DataFrame(data={\"code\":tempCodes, \"name\":names, \n",
    "                             \"roe_Pearson\":roe1, \"roe_Spearman\":roe2, \"roe_pvalue\":roe3,\n",
    "                             \"cf_Pearson\":cf1, \"cf_Spearman\":cf2, \"cf_pvalue\":cf3})"
   ]
  },
  {
   "cell_type": "code",
   "execution_count": 251,
   "metadata": {},
   "outputs": [],
   "source": [
    "checkDf.to_csv(\"roe-cf-price相关系数.csv\", index=False)"
   ]
  },
  {
   "source": [
    "## 筛选公司\n",
    "- 从相关系数筛选\n",
    "- 看p值"
   ],
   "cell_type": "markdown",
   "metadata": {}
  },
  {
   "cell_type": "code",
   "execution_count": 252,
   "metadata": {},
   "outputs": [
    {
     "output_type": "execute_result",
     "data": {
      "text/plain": [
       "        code  name  roe_Pearson  roe_Spearman  roe_pvalue  cf_Pearson  \\\n",
       "0  000799.SZ   酒鬼酒     0.417900      0.238142    0.273851    0.939209   \n",
       "1  002216.SZ  三全食品     0.922612      0.414286    0.124715   -0.222069   \n",
       "2  002568.SZ  百润股份     0.629124      0.573626    0.031971    0.844735   \n",
       "3  002661.SZ  克明面业     0.623749      0.345455    0.328227    0.380465   \n",
       "4  600809.SH  山西汾酒     0.480645      0.498701    0.021381    0.140199   \n",
       "\n",
       "   cf_Spearman  cf_pvalue  \n",
       "0     0.500000   0.666667  \n",
       "1    -0.400000   0.600000  \n",
       "2     0.829670   0.000450  \n",
       "3     0.296970   0.404702  \n",
       "4     0.190476   0.651401  "
      ],
      "text/html": "<div>\n<style scoped>\n    .dataframe tbody tr th:only-of-type {\n        vertical-align: middle;\n    }\n\n    .dataframe tbody tr th {\n        vertical-align: top;\n    }\n\n    .dataframe thead th {\n        text-align: right;\n    }\n</style>\n<table border=\"1\" class=\"dataframe\">\n  <thead>\n    <tr style=\"text-align: right;\">\n      <th></th>\n      <th>code</th>\n      <th>name</th>\n      <th>roe_Pearson</th>\n      <th>roe_Spearman</th>\n      <th>roe_pvalue</th>\n      <th>cf_Pearson</th>\n      <th>cf_Spearman</th>\n      <th>cf_pvalue</th>\n    </tr>\n  </thead>\n  <tbody>\n    <tr>\n      <th>0</th>\n      <td>000799.SZ</td>\n      <td>酒鬼酒</td>\n      <td>0.417900</td>\n      <td>0.238142</td>\n      <td>0.273851</td>\n      <td>0.939209</td>\n      <td>0.500000</td>\n      <td>0.666667</td>\n    </tr>\n    <tr>\n      <th>1</th>\n      <td>002216.SZ</td>\n      <td>三全食品</td>\n      <td>0.922612</td>\n      <td>0.414286</td>\n      <td>0.124715</td>\n      <td>-0.222069</td>\n      <td>-0.400000</td>\n      <td>0.600000</td>\n    </tr>\n    <tr>\n      <th>2</th>\n      <td>002568.SZ</td>\n      <td>百润股份</td>\n      <td>0.629124</td>\n      <td>0.573626</td>\n      <td>0.031971</td>\n      <td>0.844735</td>\n      <td>0.829670</td>\n      <td>0.000450</td>\n    </tr>\n    <tr>\n      <th>3</th>\n      <td>002661.SZ</td>\n      <td>克明面业</td>\n      <td>0.623749</td>\n      <td>0.345455</td>\n      <td>0.328227</td>\n      <td>0.380465</td>\n      <td>0.296970</td>\n      <td>0.404702</td>\n    </tr>\n    <tr>\n      <th>4</th>\n      <td>600809.SH</td>\n      <td>山西汾酒</td>\n      <td>0.480645</td>\n      <td>0.498701</td>\n      <td>0.021381</td>\n      <td>0.140199</td>\n      <td>0.190476</td>\n      <td>0.651401</td>\n    </tr>\n  </tbody>\n</table>\n</div>"
     },
     "metadata": {},
     "execution_count": 252
    }
   ],
   "source": [
    "checkDf.head()"
   ]
  },
  {
   "cell_type": "code",
   "execution_count": 256,
   "metadata": {},
   "outputs": [
    {
     "output_type": "execute_result",
     "data": {
      "text/plain": [
       "34"
      ]
     },
     "metadata": {},
     "execution_count": 256
    }
   ],
   "source": [
    "len(checkDf[checkDf[\"roe_pvalue\"]<0.1])"
   ]
  },
  {
   "cell_type": "code",
   "execution_count": 257,
   "metadata": {},
   "outputs": [
    {
     "output_type": "execute_result",
     "data": {
      "text/plain": [
       "25"
      ]
     },
     "metadata": {},
     "execution_count": 257
    }
   ],
   "source": [
    "len(checkDf[checkDf[\"cf_pvalue\"]<0.1])"
   ]
  },
  {
   "cell_type": "code",
   "execution_count": 258,
   "metadata": {},
   "outputs": [
    {
     "output_type": "execute_result",
     "data": {
      "text/plain": [
       "          code  name  roe_Pearson  roe_Spearman  roe_pvalue  cf_Pearson  \\\n",
       "2    002568.SZ  百润股份     0.629124      0.573626    0.031971    0.844735   \n",
       "5    600866.SH  星湖科技     0.716643      0.683333    0.042442   -0.544733   \n",
       "27   601100.SH  恒立液压     0.726252      0.897059    0.000001    0.599403   \n",
       "49   002409.SZ  雅克科技     0.702850      0.766667    0.015944    0.738777   \n",
       "51   002463.SZ  沪电股份     0.772618      0.724675    0.000203    0.746098   \n",
       "75   002312.SZ  三泰控股     0.857284      0.900000    0.037386    0.790852   \n",
       "86   000407.SZ  胜利股份    -0.572053     -0.780220    0.000994   -0.305935   \n",
       "92   000661.SZ  长春高新     0.439242      0.536364    0.088953    0.774100   \n",
       "93   000739.SZ  普洛药业     0.657358      0.854545    0.001637    0.728386   \n",
       "103  002683.SZ  宏大爆破     0.398804      0.611765    0.011788    0.444148   \n",
       "\n",
       "     cf_Spearman  cf_pvalue  \n",
       "2       0.829670   0.000450  \n",
       "5      -0.535797   0.005772  \n",
       "27      0.590909   0.055576  \n",
       "49      0.933333   0.000236  \n",
       "51      0.644295   0.003901  \n",
       "75      0.672727   0.033041  \n",
       "86     -0.389231   0.054462  \n",
       "92      0.800000   0.003110  \n",
       "93      0.776224   0.002993  \n",
       "103     0.597059   0.014610  "
      ],
      "text/html": "<div>\n<style scoped>\n    .dataframe tbody tr th:only-of-type {\n        vertical-align: middle;\n    }\n\n    .dataframe tbody tr th {\n        vertical-align: top;\n    }\n\n    .dataframe thead th {\n        text-align: right;\n    }\n</style>\n<table border=\"1\" class=\"dataframe\">\n  <thead>\n    <tr style=\"text-align: right;\">\n      <th></th>\n      <th>code</th>\n      <th>name</th>\n      <th>roe_Pearson</th>\n      <th>roe_Spearman</th>\n      <th>roe_pvalue</th>\n      <th>cf_Pearson</th>\n      <th>cf_Spearman</th>\n      <th>cf_pvalue</th>\n    </tr>\n  </thead>\n  <tbody>\n    <tr>\n      <th>2</th>\n      <td>002568.SZ</td>\n      <td>百润股份</td>\n      <td>0.629124</td>\n      <td>0.573626</td>\n      <td>0.031971</td>\n      <td>0.844735</td>\n      <td>0.829670</td>\n      <td>0.000450</td>\n    </tr>\n    <tr>\n      <th>5</th>\n      <td>600866.SH</td>\n      <td>星湖科技</td>\n      <td>0.716643</td>\n      <td>0.683333</td>\n      <td>0.042442</td>\n      <td>-0.544733</td>\n      <td>-0.535797</td>\n      <td>0.005772</td>\n    </tr>\n    <tr>\n      <th>27</th>\n      <td>601100.SH</td>\n      <td>恒立液压</td>\n      <td>0.726252</td>\n      <td>0.897059</td>\n      <td>0.000001</td>\n      <td>0.599403</td>\n      <td>0.590909</td>\n      <td>0.055576</td>\n    </tr>\n    <tr>\n      <th>49</th>\n      <td>002409.SZ</td>\n      <td>雅克科技</td>\n      <td>0.702850</td>\n      <td>0.766667</td>\n      <td>0.015944</td>\n      <td>0.738777</td>\n      <td>0.933333</td>\n      <td>0.000236</td>\n    </tr>\n    <tr>\n      <th>51</th>\n      <td>002463.SZ</td>\n      <td>沪电股份</td>\n      <td>0.772618</td>\n      <td>0.724675</td>\n      <td>0.000203</td>\n      <td>0.746098</td>\n      <td>0.644295</td>\n      <td>0.003901</td>\n    </tr>\n    <tr>\n      <th>75</th>\n      <td>002312.SZ</td>\n      <td>三泰控股</td>\n      <td>0.857284</td>\n      <td>0.900000</td>\n      <td>0.037386</td>\n      <td>0.790852</td>\n      <td>0.672727</td>\n      <td>0.033041</td>\n    </tr>\n    <tr>\n      <th>86</th>\n      <td>000407.SZ</td>\n      <td>胜利股份</td>\n      <td>-0.572053</td>\n      <td>-0.780220</td>\n      <td>0.000994</td>\n      <td>-0.305935</td>\n      <td>-0.389231</td>\n      <td>0.054462</td>\n    </tr>\n    <tr>\n      <th>92</th>\n      <td>000661.SZ</td>\n      <td>长春高新</td>\n      <td>0.439242</td>\n      <td>0.536364</td>\n      <td>0.088953</td>\n      <td>0.774100</td>\n      <td>0.800000</td>\n      <td>0.003110</td>\n    </tr>\n    <tr>\n      <th>93</th>\n      <td>000739.SZ</td>\n      <td>普洛药业</td>\n      <td>0.657358</td>\n      <td>0.854545</td>\n      <td>0.001637</td>\n      <td>0.728386</td>\n      <td>0.776224</td>\n      <td>0.002993</td>\n    </tr>\n    <tr>\n      <th>103</th>\n      <td>002683.SZ</td>\n      <td>宏大爆破</td>\n      <td>0.398804</td>\n      <td>0.611765</td>\n      <td>0.011788</td>\n      <td>0.444148</td>\n      <td>0.597059</td>\n      <td>0.014610</td>\n    </tr>\n  </tbody>\n</table>\n</div>"
     },
     "metadata": {},
     "execution_count": 258
    }
   ],
   "source": [
    "checkDf[(checkDf[\"roe_pvalue\"]<0.1) & (checkDf[\"cf_pvalue\"]<0.1)]"
   ]
  },
  {
   "cell_type": "code",
   "execution_count": 267,
   "metadata": {},
   "outputs": [
    {
     "output_type": "execute_result",
     "data": {
      "text/plain": [
       "        code  name mark startTime_roe  check industry startTime_cf  check.1  \\\n",
       "5  600866.SH  星湖科技    I       2018-09    1.0     食品饮料      2014-03      1.0   \n",
       "\n",
       "   both  \n",
       "5   1.0  "
      ],
      "text/html": "<div>\n<style scoped>\n    .dataframe tbody tr th:only-of-type {\n        vertical-align: middle;\n    }\n\n    .dataframe tbody tr th {\n        vertical-align: top;\n    }\n\n    .dataframe thead th {\n        text-align: right;\n    }\n</style>\n<table border=\"1\" class=\"dataframe\">\n  <thead>\n    <tr style=\"text-align: right;\">\n      <th></th>\n      <th>code</th>\n      <th>name</th>\n      <th>mark</th>\n      <th>startTime_roe</th>\n      <th>check</th>\n      <th>industry</th>\n      <th>startTime_cf</th>\n      <th>check.1</th>\n      <th>both</th>\n    </tr>\n  </thead>\n  <tbody>\n    <tr>\n      <th>5</th>\n      <td>600866.SH</td>\n      <td>星湖科技</td>\n      <td>I</td>\n      <td>2018-09</td>\n      <td>1.0</td>\n      <td>食品饮料</td>\n      <td>2014-03</td>\n      <td>1.0</td>\n      <td>1.0</td>\n    </tr>\n  </tbody>\n</table>\n</div>"
     },
     "metadata": {},
     "execution_count": 267
    }
   ],
   "source": [
    "df[df[\"code\"]==\"600866.SH\"]"
   ]
  },
  {
   "source": [
    "## 去除负相关的"
   ],
   "cell_type": "markdown",
   "metadata": {}
  },
  {
   "cell_type": "code",
   "execution_count": 270,
   "metadata": {},
   "outputs": [],
   "source": [
    "positive = checkDf[(checkDf[\"roe_Pearson\"]>0)&(checkDf[\"cf_Pearson\"]>0)&(checkDf[\"roe_Spearman\"]>0)&(checkDf[\"cf_Spearman\"]>0)]"
   ]
  },
  {
   "cell_type": "code",
   "execution_count": 271,
   "metadata": {},
   "outputs": [
    {
     "output_type": "execute_result",
     "data": {
      "text/plain": [
       "(106, 53)"
      ]
     },
     "metadata": {},
     "execution_count": 271
    }
   ],
   "source": [
    "len(checkDf), len(positive)"
   ]
  },
  {
   "cell_type": "code",
   "execution_count": 273,
   "metadata": {},
   "outputs": [
    {
     "output_type": "execute_result",
     "data": {
      "text/plain": [
       "19"
      ]
     },
     "metadata": {},
     "execution_count": 273
    }
   ],
   "source": [
    "len(positive[positive[\"roe_pvalue\"]<0.1])"
   ]
  },
  {
   "cell_type": "code",
   "execution_count": 274,
   "metadata": {},
   "outputs": [
    {
     "output_type": "execute_result",
     "data": {
      "text/plain": [
       "17"
      ]
     },
     "metadata": {},
     "execution_count": 274
    }
   ],
   "source": [
    "len(positive[positive[\"cf_pvalue\"]<0.1])"
   ]
  },
  {
   "cell_type": "code",
   "execution_count": 275,
   "metadata": {},
   "outputs": [
    {
     "output_type": "execute_result",
     "data": {
      "text/plain": [
       "          code  name  roe_Pearson  roe_Spearman  roe_pvalue  cf_Pearson  \\\n",
       "2    002568.SZ  百润股份     0.629124      0.573626    0.031971    0.844735   \n",
       "27   601100.SH  恒立液压     0.726252      0.897059    0.000001    0.599403   \n",
       "49   002409.SZ  雅克科技     0.702850      0.766667    0.015944    0.738777   \n",
       "51   002463.SZ  沪电股份     0.772618      0.724675    0.000203    0.746098   \n",
       "75   002312.SZ  三泰控股     0.857284      0.900000    0.037386    0.790852   \n",
       "92   000661.SZ  长春高新     0.439242      0.536364    0.088953    0.774100   \n",
       "93   000739.SZ  普洛药业     0.657358      0.854545    0.001637    0.728386   \n",
       "103  002683.SZ  宏大爆破     0.398804      0.611765    0.011788    0.444148   \n",
       "\n",
       "     cf_Spearman  cf_pvalue  \n",
       "2       0.829670   0.000450  \n",
       "27      0.590909   0.055576  \n",
       "49      0.933333   0.000236  \n",
       "51      0.644295   0.003901  \n",
       "75      0.672727   0.033041  \n",
       "92      0.800000   0.003110  \n",
       "93      0.776224   0.002993  \n",
       "103     0.597059   0.014610  "
      ],
      "text/html": "<div>\n<style scoped>\n    .dataframe tbody tr th:only-of-type {\n        vertical-align: middle;\n    }\n\n    .dataframe tbody tr th {\n        vertical-align: top;\n    }\n\n    .dataframe thead th {\n        text-align: right;\n    }\n</style>\n<table border=\"1\" class=\"dataframe\">\n  <thead>\n    <tr style=\"text-align: right;\">\n      <th></th>\n      <th>code</th>\n      <th>name</th>\n      <th>roe_Pearson</th>\n      <th>roe_Spearman</th>\n      <th>roe_pvalue</th>\n      <th>cf_Pearson</th>\n      <th>cf_Spearman</th>\n      <th>cf_pvalue</th>\n    </tr>\n  </thead>\n  <tbody>\n    <tr>\n      <th>2</th>\n      <td>002568.SZ</td>\n      <td>百润股份</td>\n      <td>0.629124</td>\n      <td>0.573626</td>\n      <td>0.031971</td>\n      <td>0.844735</td>\n      <td>0.829670</td>\n      <td>0.000450</td>\n    </tr>\n    <tr>\n      <th>27</th>\n      <td>601100.SH</td>\n      <td>恒立液压</td>\n      <td>0.726252</td>\n      <td>0.897059</td>\n      <td>0.000001</td>\n      <td>0.599403</td>\n      <td>0.590909</td>\n      <td>0.055576</td>\n    </tr>\n    <tr>\n      <th>49</th>\n      <td>002409.SZ</td>\n      <td>雅克科技</td>\n      <td>0.702850</td>\n      <td>0.766667</td>\n      <td>0.015944</td>\n      <td>0.738777</td>\n      <td>0.933333</td>\n      <td>0.000236</td>\n    </tr>\n    <tr>\n      <th>51</th>\n      <td>002463.SZ</td>\n      <td>沪电股份</td>\n      <td>0.772618</td>\n      <td>0.724675</td>\n      <td>0.000203</td>\n      <td>0.746098</td>\n      <td>0.644295</td>\n      <td>0.003901</td>\n    </tr>\n    <tr>\n      <th>75</th>\n      <td>002312.SZ</td>\n      <td>三泰控股</td>\n      <td>0.857284</td>\n      <td>0.900000</td>\n      <td>0.037386</td>\n      <td>0.790852</td>\n      <td>0.672727</td>\n      <td>0.033041</td>\n    </tr>\n    <tr>\n      <th>92</th>\n      <td>000661.SZ</td>\n      <td>长春高新</td>\n      <td>0.439242</td>\n      <td>0.536364</td>\n      <td>0.088953</td>\n      <td>0.774100</td>\n      <td>0.800000</td>\n      <td>0.003110</td>\n    </tr>\n    <tr>\n      <th>93</th>\n      <td>000739.SZ</td>\n      <td>普洛药业</td>\n      <td>0.657358</td>\n      <td>0.854545</td>\n      <td>0.001637</td>\n      <td>0.728386</td>\n      <td>0.776224</td>\n      <td>0.002993</td>\n    </tr>\n    <tr>\n      <th>103</th>\n      <td>002683.SZ</td>\n      <td>宏大爆破</td>\n      <td>0.398804</td>\n      <td>0.611765</td>\n      <td>0.011788</td>\n      <td>0.444148</td>\n      <td>0.597059</td>\n      <td>0.014610</td>\n    </tr>\n  </tbody>\n</table>\n</div>"
     },
     "metadata": {},
     "execution_count": 275
    }
   ],
   "source": [
    "positive[(positive[\"cf_pvalue\"]<0.1)&(positive[\"roe_pvalue\"]<0.1)]"
   ]
  },
  {
   "cell_type": "code",
   "execution_count": 276,
   "metadata": {},
   "outputs": [
    {
     "output_type": "execute_result",
     "data": {
      "text/plain": [
       "         code  name  roe_Pearson  roe_Spearman  roe_pvalue  cf_Pearson  \\\n",
       "14  002014.SZ  永新股份     0.851215      0.818182    0.001143    0.354754   \n",
       "17  002111.SZ  威海广泰     0.728042      0.538462    0.070894    0.186173   \n",
       "22  300171.SZ   东富龙     0.853513      0.900000    0.037386    0.661613   \n",
       "26  601038.SH  一拖股份     0.889649      0.400000    0.504632    0.579042   \n",
       "27  601100.SH  恒立液压     0.726252      0.897059    0.000001    0.599403   \n",
       "34  300119.SZ  瑞普生物     0.741060      0.523810    0.182721    0.841220   \n",
       "42  000955.SZ  欣龙控股     0.775282      0.800000    0.200000    0.837587   \n",
       "46  002134.SZ  天津普林     0.787823      0.500000    0.391002    0.724014   \n",
       "49  002409.SZ  雅克科技     0.702850      0.766667    0.015944    0.738777   \n",
       "51  002463.SZ  沪电股份     0.772618      0.724675    0.000203    0.746098   \n",
       "56  600584.SH  长电科技     0.929068      1.000000    0.000000    0.745397   \n",
       "59  002641.SZ  永高股份     0.806654      0.854545    0.000807    0.418936   \n",
       "75  002312.SZ  三泰控股     0.857284      0.900000    0.037386    0.790852   \n",
       "80  002242.SZ  九阳股份     0.722810      0.766667    0.015944    0.214083   \n",
       "94  002223.SZ  鱼跃医疗     0.927525      0.518182    0.102492    0.799313   \n",
       "96  002432.SZ  九安医疗     0.913233      0.547619    0.160026    0.304825   \n",
       "98  300206.SZ  理邦仪器     0.904734      0.916084    0.000028    0.796830   \n",
       "\n",
       "    cf_Spearman  cf_pvalue  \n",
       "14     0.350000   0.355820  \n",
       "17     0.238095   0.570156  \n",
       "22     0.443771   0.198893  \n",
       "26     0.678571   0.093750  \n",
       "27     0.590909   0.055576  \n",
       "34     0.750000   0.052181  \n",
       "42     0.560674   0.116327  \n",
       "46     0.783333   0.012520  \n",
       "49     0.933333   0.000236  \n",
       "51     0.644295   0.003901  \n",
       "56     0.400000   0.600000  \n",
       "59     0.600000   0.208000  \n",
       "75     0.672727   0.033041  \n",
       "80     0.100000   0.872889  \n",
       "94     0.857143   0.013697  \n",
       "96     0.051299   0.934713  \n",
       "98     0.291176   0.273887  "
      ],
      "text/html": "<div>\n<style scoped>\n    .dataframe tbody tr th:only-of-type {\n        vertical-align: middle;\n    }\n\n    .dataframe tbody tr th {\n        vertical-align: top;\n    }\n\n    .dataframe thead th {\n        text-align: right;\n    }\n</style>\n<table border=\"1\" class=\"dataframe\">\n  <thead>\n    <tr style=\"text-align: right;\">\n      <th></th>\n      <th>code</th>\n      <th>name</th>\n      <th>roe_Pearson</th>\n      <th>roe_Spearman</th>\n      <th>roe_pvalue</th>\n      <th>cf_Pearson</th>\n      <th>cf_Spearman</th>\n      <th>cf_pvalue</th>\n    </tr>\n  </thead>\n  <tbody>\n    <tr>\n      <th>14</th>\n      <td>002014.SZ</td>\n      <td>永新股份</td>\n      <td>0.851215</td>\n      <td>0.818182</td>\n      <td>0.001143</td>\n      <td>0.354754</td>\n      <td>0.350000</td>\n      <td>0.355820</td>\n    </tr>\n    <tr>\n      <th>17</th>\n      <td>002111.SZ</td>\n      <td>威海广泰</td>\n      <td>0.728042</td>\n      <td>0.538462</td>\n      <td>0.070894</td>\n      <td>0.186173</td>\n      <td>0.238095</td>\n      <td>0.570156</td>\n    </tr>\n    <tr>\n      <th>22</th>\n      <td>300171.SZ</td>\n      <td>东富龙</td>\n      <td>0.853513</td>\n      <td>0.900000</td>\n      <td>0.037386</td>\n      <td>0.661613</td>\n      <td>0.443771</td>\n      <td>0.198893</td>\n    </tr>\n    <tr>\n      <th>26</th>\n      <td>601038.SH</td>\n      <td>一拖股份</td>\n      <td>0.889649</td>\n      <td>0.400000</td>\n      <td>0.504632</td>\n      <td>0.579042</td>\n      <td>0.678571</td>\n      <td>0.093750</td>\n    </tr>\n    <tr>\n      <th>27</th>\n      <td>601100.SH</td>\n      <td>恒立液压</td>\n      <td>0.726252</td>\n      <td>0.897059</td>\n      <td>0.000001</td>\n      <td>0.599403</td>\n      <td>0.590909</td>\n      <td>0.055576</td>\n    </tr>\n    <tr>\n      <th>34</th>\n      <td>300119.SZ</td>\n      <td>瑞普生物</td>\n      <td>0.741060</td>\n      <td>0.523810</td>\n      <td>0.182721</td>\n      <td>0.841220</td>\n      <td>0.750000</td>\n      <td>0.052181</td>\n    </tr>\n    <tr>\n      <th>42</th>\n      <td>000955.SZ</td>\n      <td>欣龙控股</td>\n      <td>0.775282</td>\n      <td>0.800000</td>\n      <td>0.200000</td>\n      <td>0.837587</td>\n      <td>0.560674</td>\n      <td>0.116327</td>\n    </tr>\n    <tr>\n      <th>46</th>\n      <td>002134.SZ</td>\n      <td>天津普林</td>\n      <td>0.787823</td>\n      <td>0.500000</td>\n      <td>0.391002</td>\n      <td>0.724014</td>\n      <td>0.783333</td>\n      <td>0.012520</td>\n    </tr>\n    <tr>\n      <th>49</th>\n      <td>002409.SZ</td>\n      <td>雅克科技</td>\n      <td>0.702850</td>\n      <td>0.766667</td>\n      <td>0.015944</td>\n      <td>0.738777</td>\n      <td>0.933333</td>\n      <td>0.000236</td>\n    </tr>\n    <tr>\n      <th>51</th>\n      <td>002463.SZ</td>\n      <td>沪电股份</td>\n      <td>0.772618</td>\n      <td>0.724675</td>\n      <td>0.000203</td>\n      <td>0.746098</td>\n      <td>0.644295</td>\n      <td>0.003901</td>\n    </tr>\n    <tr>\n      <th>56</th>\n      <td>600584.SH</td>\n      <td>长电科技</td>\n      <td>0.929068</td>\n      <td>1.000000</td>\n      <td>0.000000</td>\n      <td>0.745397</td>\n      <td>0.400000</td>\n      <td>0.600000</td>\n    </tr>\n    <tr>\n      <th>59</th>\n      <td>002641.SZ</td>\n      <td>永高股份</td>\n      <td>0.806654</td>\n      <td>0.854545</td>\n      <td>0.000807</td>\n      <td>0.418936</td>\n      <td>0.600000</td>\n      <td>0.208000</td>\n    </tr>\n    <tr>\n      <th>75</th>\n      <td>002312.SZ</td>\n      <td>三泰控股</td>\n      <td>0.857284</td>\n      <td>0.900000</td>\n      <td>0.037386</td>\n      <td>0.790852</td>\n      <td>0.672727</td>\n      <td>0.033041</td>\n    </tr>\n    <tr>\n      <th>80</th>\n      <td>002242.SZ</td>\n      <td>九阳股份</td>\n      <td>0.722810</td>\n      <td>0.766667</td>\n      <td>0.015944</td>\n      <td>0.214083</td>\n      <td>0.100000</td>\n      <td>0.872889</td>\n    </tr>\n    <tr>\n      <th>94</th>\n      <td>002223.SZ</td>\n      <td>鱼跃医疗</td>\n      <td>0.927525</td>\n      <td>0.518182</td>\n      <td>0.102492</td>\n      <td>0.799313</td>\n      <td>0.857143</td>\n      <td>0.013697</td>\n    </tr>\n    <tr>\n      <th>96</th>\n      <td>002432.SZ</td>\n      <td>九安医疗</td>\n      <td>0.913233</td>\n      <td>0.547619</td>\n      <td>0.160026</td>\n      <td>0.304825</td>\n      <td>0.051299</td>\n      <td>0.934713</td>\n    </tr>\n    <tr>\n      <th>98</th>\n      <td>300206.SZ</td>\n      <td>理邦仪器</td>\n      <td>0.904734</td>\n      <td>0.916084</td>\n      <td>0.000028</td>\n      <td>0.796830</td>\n      <td>0.291176</td>\n      <td>0.273887</td>\n    </tr>\n  </tbody>\n</table>\n</div>"
     },
     "metadata": {},
     "execution_count": 276
    }
   ],
   "source": [
    "positive[positive[\"roe_Pearson\"]>0.7]"
   ]
  },
  {
   "cell_type": "code",
   "execution_count": null,
   "metadata": {},
   "outputs": [],
   "source": []
  }
 ]
}