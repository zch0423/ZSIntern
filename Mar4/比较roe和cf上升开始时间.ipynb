{
 "metadata": {
  "language_info": {
   "codemirror_mode": {
    "name": "ipython",
    "version": 3
   },
   "file_extension": ".py",
   "mimetype": "text/x-python",
   "name": "python",
   "nbconvert_exporter": "python",
   "pygments_lexer": "ipython3",
   "version": "3.9.1-final"
  },
  "orig_nbformat": 2,
  "kernelspec": {
   "name": "python3",
   "display_name": "Python 3.9.1 64-bit",
   "metadata": {
    "interpreter": {
     "hash": "bbee7842ce8ba476870a006d5d5b68f11cea175afb0fea017b7f81beccf88892"
    }
   }
  }
 },
 "nbformat": 4,
 "nbformat_minor": 2,
 "cells": [
  {
   "source": [
    "## 比较roe和现金流数据上升开始时间"
   ],
   "cell_type": "markdown",
   "metadata": {}
  },
  {
   "cell_type": "code",
   "execution_count": 1,
   "metadata": {},
   "outputs": [],
   "source": [
    "import pandas as pd"
   ]
  },
  {
   "cell_type": "code",
   "execution_count": 15,
   "metadata": {},
   "outputs": [],
   "source": [
    "import numpy as np"
   ]
  },
  {
   "cell_type": "code",
   "execution_count": 2,
   "metadata": {},
   "outputs": [],
   "source": [
    "df = pd.read_csv(\"both.csv\")"
   ]
  },
  {
   "cell_type": "code",
   "execution_count": 3,
   "metadata": {},
   "outputs": [
    {
     "output_type": "execute_result",
     "data": {
      "text/plain": [
       "        code  name mark startTime_roe  check industry startTime_cf  check.1  \\\n",
       "0  000799.SZ   酒鬼酒    I       2014-12    1.0     食品饮料      2020-03      1.0   \n",
       "1  002216.SZ  三全食品    I       2017-03    1.0     食品饮料      2019-12      1.0   \n",
       "2  002568.SZ  百润股份    I       2017-06    1.0     食品饮料      2017-09      1.0   \n",
       "3  002661.SZ  克明面业    I       2018-06    1.0     食品饮料      2018-06      1.0   \n",
       "4  600809.SH  山西汾酒    I       2015-09    1.0     食品饮料      2018-12      1.0   \n",
       "\n",
       "   both  \n",
       "0   1.0  \n",
       "1   1.0  \n",
       "2   1.0  \n",
       "3   1.0  \n",
       "4   1.0  "
      ],
      "text/html": "<div>\n<style scoped>\n    .dataframe tbody tr th:only-of-type {\n        vertical-align: middle;\n    }\n\n    .dataframe tbody tr th {\n        vertical-align: top;\n    }\n\n    .dataframe thead th {\n        text-align: right;\n    }\n</style>\n<table border=\"1\" class=\"dataframe\">\n  <thead>\n    <tr style=\"text-align: right;\">\n      <th></th>\n      <th>code</th>\n      <th>name</th>\n      <th>mark</th>\n      <th>startTime_roe</th>\n      <th>check</th>\n      <th>industry</th>\n      <th>startTime_cf</th>\n      <th>check.1</th>\n      <th>both</th>\n    </tr>\n  </thead>\n  <tbody>\n    <tr>\n      <th>0</th>\n      <td>000799.SZ</td>\n      <td>酒鬼酒</td>\n      <td>I</td>\n      <td>2014-12</td>\n      <td>1.0</td>\n      <td>食品饮料</td>\n      <td>2020-03</td>\n      <td>1.0</td>\n      <td>1.0</td>\n    </tr>\n    <tr>\n      <th>1</th>\n      <td>002216.SZ</td>\n      <td>三全食品</td>\n      <td>I</td>\n      <td>2017-03</td>\n      <td>1.0</td>\n      <td>食品饮料</td>\n      <td>2019-12</td>\n      <td>1.0</td>\n      <td>1.0</td>\n    </tr>\n    <tr>\n      <th>2</th>\n      <td>002568.SZ</td>\n      <td>百润股份</td>\n      <td>I</td>\n      <td>2017-06</td>\n      <td>1.0</td>\n      <td>食品饮料</td>\n      <td>2017-09</td>\n      <td>1.0</td>\n      <td>1.0</td>\n    </tr>\n    <tr>\n      <th>3</th>\n      <td>002661.SZ</td>\n      <td>克明面业</td>\n      <td>I</td>\n      <td>2018-06</td>\n      <td>1.0</td>\n      <td>食品饮料</td>\n      <td>2018-06</td>\n      <td>1.0</td>\n      <td>1.0</td>\n    </tr>\n    <tr>\n      <th>4</th>\n      <td>600809.SH</td>\n      <td>山西汾酒</td>\n      <td>I</td>\n      <td>2015-09</td>\n      <td>1.0</td>\n      <td>食品饮料</td>\n      <td>2018-12</td>\n      <td>1.0</td>\n      <td>1.0</td>\n    </tr>\n  </tbody>\n</table>\n</div>"
     },
     "metadata": {},
     "execution_count": 3
    }
   ],
   "source": [
    "df.head()"
   ]
  },
  {
   "cell_type": "code",
   "execution_count": 6,
   "metadata": {},
   "outputs": [],
   "source": [
    "t1 = \"2019-12\"\n",
    "t2 = \"2020-03\""
   ]
  },
  {
   "cell_type": "code",
   "execution_count": 7,
   "metadata": {},
   "outputs": [],
   "source": [
    "n11, n12 = [int(i) for i in t1.split(\"-\")]\n",
    "n21, n22 = [int(i) for i in t2.split(\"-\")]"
   ]
  },
  {
   "cell_type": "code",
   "execution_count": 9,
   "metadata": {},
   "outputs": [],
   "source": [
    "yGap = n11-n21\n",
    "mGap = n12-n22"
   ]
  },
  {
   "cell_type": "code",
   "execution_count": 10,
   "metadata": {},
   "outputs": [
    {
     "output_type": "execute_result",
     "data": {
      "text/plain": [
       "-3"
      ]
     },
     "metadata": {},
     "execution_count": 10
    }
   ],
   "source": [
    "yGap*12+mGap"
   ]
  },
  {
   "cell_type": "code",
   "execution_count": 11,
   "metadata": {},
   "outputs": [],
   "source": [
    "def timeDiff(time1:str, time2:str)->int:\n",
    "    '''\n",
    "    Description:\n",
    "    计算两个时间相差的月份\n",
    "    time2-time1的相差月份\n",
    "    ---\n",
    "    Params:\n",
    "    time, str, like \"2014-12\"\n",
    "    ---\n",
    "    Returns:\n",
    "    month gap, int\n",
    "    '''\n",
    "    year1, month1 = [int(i) for i in time1.split(\"-\")]\n",
    "    year2, month2 = [int(i) for i in time2.split(\"-\")]\n",
    "    return (year2-year1)*12+(month2-month1)"
   ]
  },
  {
   "cell_type": "code",
   "execution_count": 13,
   "metadata": {},
   "outputs": [],
   "source": [
    "gaps = []\n",
    "for row in df.itertuples():\n",
    "    gaps.append(timeDiff(row.startTime_roe, row.startTime_cf))"
   ]
  },
  {
   "cell_type": "code",
   "execution_count": 16,
   "metadata": {},
   "outputs": [
    {
     "output_type": "execute_result",
     "data": {
      "text/plain": [
       "4.756756756756757"
      ]
     },
     "metadata": {},
     "execution_count": 16
    }
   ],
   "source": [
    "np.average(gaps)"
   ]
  },
  {
   "cell_type": "code",
   "execution_count": 18,
   "metadata": {},
   "outputs": [],
   "source": [
    "gapDf = pd.DataFrame(data={\"code\":df.code, \"name\":df.name, \"roe比cf提前月份数\":gaps})"
   ]
  },
  {
   "cell_type": "code",
   "execution_count": 20,
   "metadata": {},
   "outputs": [],
   "source": [
    "gapDf.to_csv(\"roe比cf提前月份数.csv\", index=False)"
   ]
  },
  {
   "cell_type": "code",
   "execution_count": 23,
   "metadata": {},
   "outputs": [
    {
     "output_type": "execute_result",
     "data": {
      "text/plain": [
       "roe比cf提前月份数    20.333333\n",
       "dtype: float64"
      ]
     },
     "metadata": {},
     "execution_count": 23
    }
   ],
   "source": [
    "gapDf[gapDf[\"roe比cf提前月份数\"]>0].mean()"
   ]
  },
  {
   "cell_type": "code",
   "execution_count": 26,
   "metadata": {},
   "outputs": [
    {
     "output_type": "execute_result",
     "data": {
      "text/plain": [
       "roe比cf提前月份数   -13.255814\n",
       "dtype: float64"
      ]
     },
     "metadata": {},
     "execution_count": 26
    }
   ],
   "source": [
    "gapDf[gapDf[\"roe比cf提前月份数\"]<0].mean()"
   ]
  },
  {
   "cell_type": "code",
   "execution_count": 28,
   "metadata": {},
   "outputs": [
    {
     "output_type": "execute_result",
     "data": {
      "text/plain": [
       "14"
      ]
     },
     "metadata": {},
     "execution_count": 28
    }
   ],
   "source": [
    "len(gapDf[gapDf[\"roe比cf提前月份数\"]==0])"
   ]
  },
  {
   "source": [
    "## 检验roe cf时间关系是否会对价格相关性产生影响"
   ],
   "cell_type": "markdown",
   "metadata": {}
  },
  {
   "cell_type": "code",
   "execution_count": 29,
   "metadata": {},
   "outputs": [],
   "source": [
    "corr = pd.read_csv(\"roe-cf-price相关系数.csv\")"
   ]
  },
  {
   "cell_type": "code",
   "execution_count": 34,
   "metadata": {},
   "outputs": [],
   "source": [
    "corr = corr.merge(gapDf)"
   ]
  },
  {
   "cell_type": "code",
   "execution_count": 35,
   "metadata": {},
   "outputs": [
    {
     "output_type": "execute_result",
     "data": {
      "text/plain": [
       "          code  name  roe_Pearson  roe_Spearman  roe_pvalue  cf_Pearson  \\\n",
       "0    000799.SZ   酒鬼酒     0.417900      0.238142    0.273851    0.939209   \n",
       "1    002216.SZ  三全食品     0.922612      0.414286    0.124715   -0.222069   \n",
       "2    002568.SZ  百润股份     0.629124      0.573626    0.031971    0.844735   \n",
       "3    002661.SZ  克明面业     0.623749      0.345455    0.328227    0.380465   \n",
       "4    600809.SH  山西汾酒     0.480645      0.498701    0.021381    0.140199   \n",
       "..         ...   ...          ...           ...         ...         ...   \n",
       "101  002080.SZ  中材科技     0.512410      0.516484    0.070749    0.504233   \n",
       "102  002556.SZ  辉隆股份    -0.503784     -0.200000    0.800000    0.335735   \n",
       "103  002683.SZ  宏大爆破     0.398804      0.611765    0.011788    0.444148   \n",
       "104  002194.SZ  武汉凡谷     0.873593      0.866667    0.001174   -0.428256   \n",
       "105  002467.SZ   二六三     0.381932      0.363636    0.271638    0.244042   \n",
       "\n",
       "     cf_Spearman  cf_pvalue  roe比cf提前月份数  \n",
       "0       0.500000   0.666667           63  \n",
       "1      -0.400000   0.600000           33  \n",
       "2       0.829670   0.000450            3  \n",
       "3       0.296970   0.404702            0  \n",
       "4       0.190476   0.651401           39  \n",
       "..           ...        ...          ...  \n",
       "101     0.243956   0.400625           -3  \n",
       "102     0.214286   0.610344          -12  \n",
       "103     0.597059   0.014610            0  \n",
       "104    -0.380952   0.351813            6  \n",
       "105     0.500000   0.666667           24  \n",
       "\n",
       "[106 rows x 9 columns]"
      ],
      "text/html": "<div>\n<style scoped>\n    .dataframe tbody tr th:only-of-type {\n        vertical-align: middle;\n    }\n\n    .dataframe tbody tr th {\n        vertical-align: top;\n    }\n\n    .dataframe thead th {\n        text-align: right;\n    }\n</style>\n<table border=\"1\" class=\"dataframe\">\n  <thead>\n    <tr style=\"text-align: right;\">\n      <th></th>\n      <th>code</th>\n      <th>name</th>\n      <th>roe_Pearson</th>\n      <th>roe_Spearman</th>\n      <th>roe_pvalue</th>\n      <th>cf_Pearson</th>\n      <th>cf_Spearman</th>\n      <th>cf_pvalue</th>\n      <th>roe比cf提前月份数</th>\n    </tr>\n  </thead>\n  <tbody>\n    <tr>\n      <th>0</th>\n      <td>000799.SZ</td>\n      <td>酒鬼酒</td>\n      <td>0.417900</td>\n      <td>0.238142</td>\n      <td>0.273851</td>\n      <td>0.939209</td>\n      <td>0.500000</td>\n      <td>0.666667</td>\n      <td>63</td>\n    </tr>\n    <tr>\n      <th>1</th>\n      <td>002216.SZ</td>\n      <td>三全食品</td>\n      <td>0.922612</td>\n      <td>0.414286</td>\n      <td>0.124715</td>\n      <td>-0.222069</td>\n      <td>-0.400000</td>\n      <td>0.600000</td>\n      <td>33</td>\n    </tr>\n    <tr>\n      <th>2</th>\n      <td>002568.SZ</td>\n      <td>百润股份</td>\n      <td>0.629124</td>\n      <td>0.573626</td>\n      <td>0.031971</td>\n      <td>0.844735</td>\n      <td>0.829670</td>\n      <td>0.000450</td>\n      <td>3</td>\n    </tr>\n    <tr>\n      <th>3</th>\n      <td>002661.SZ</td>\n      <td>克明面业</td>\n      <td>0.623749</td>\n      <td>0.345455</td>\n      <td>0.328227</td>\n      <td>0.380465</td>\n      <td>0.296970</td>\n      <td>0.404702</td>\n      <td>0</td>\n    </tr>\n    <tr>\n      <th>4</th>\n      <td>600809.SH</td>\n      <td>山西汾酒</td>\n      <td>0.480645</td>\n      <td>0.498701</td>\n      <td>0.021381</td>\n      <td>0.140199</td>\n      <td>0.190476</td>\n      <td>0.651401</td>\n      <td>39</td>\n    </tr>\n    <tr>\n      <th>...</th>\n      <td>...</td>\n      <td>...</td>\n      <td>...</td>\n      <td>...</td>\n      <td>...</td>\n      <td>...</td>\n      <td>...</td>\n      <td>...</td>\n      <td>...</td>\n    </tr>\n    <tr>\n      <th>101</th>\n      <td>002080.SZ</td>\n      <td>中材科技</td>\n      <td>0.512410</td>\n      <td>0.516484</td>\n      <td>0.070749</td>\n      <td>0.504233</td>\n      <td>0.243956</td>\n      <td>0.400625</td>\n      <td>-3</td>\n    </tr>\n    <tr>\n      <th>102</th>\n      <td>002556.SZ</td>\n      <td>辉隆股份</td>\n      <td>-0.503784</td>\n      <td>-0.200000</td>\n      <td>0.800000</td>\n      <td>0.335735</td>\n      <td>0.214286</td>\n      <td>0.610344</td>\n      <td>-12</td>\n    </tr>\n    <tr>\n      <th>103</th>\n      <td>002683.SZ</td>\n      <td>宏大爆破</td>\n      <td>0.398804</td>\n      <td>0.611765</td>\n      <td>0.011788</td>\n      <td>0.444148</td>\n      <td>0.597059</td>\n      <td>0.014610</td>\n      <td>0</td>\n    </tr>\n    <tr>\n      <th>104</th>\n      <td>002194.SZ</td>\n      <td>武汉凡谷</td>\n      <td>0.873593</td>\n      <td>0.866667</td>\n      <td>0.001174</td>\n      <td>-0.428256</td>\n      <td>-0.380952</td>\n      <td>0.351813</td>\n      <td>6</td>\n    </tr>\n    <tr>\n      <th>105</th>\n      <td>002467.SZ</td>\n      <td>二六三</td>\n      <td>0.381932</td>\n      <td>0.363636</td>\n      <td>0.271638</td>\n      <td>0.244042</td>\n      <td>0.500000</td>\n      <td>0.666667</td>\n      <td>24</td>\n    </tr>\n  </tbody>\n</table>\n<p>106 rows × 9 columns</p>\n</div>"
     },
     "metadata": {},
     "execution_count": 35
    }
   ],
   "source": [
    "corr"
   ]
  },
  {
   "cell_type": "code",
   "execution_count": 36,
   "metadata": {},
   "outputs": [],
   "source": [
    "positive = corr[(corr[\"roe_Pearson\"]>0)&(corr[\"cf_Pearson\"]>0)&(corr[\"roe_Spearman\"]>0)&(corr[\"cf_Spearman\"]>0)]"
   ]
  },
  {
   "cell_type": "code",
   "execution_count": 37,
   "metadata": {},
   "outputs": [
    {
     "output_type": "execute_result",
     "data": {
      "text/plain": [
       "          code  name  roe_Pearson  roe_Spearman  roe_pvalue  cf_Pearson  \\\n",
       "0    000799.SZ   酒鬼酒     0.417900      0.238142    0.273851    0.939209   \n",
       "2    002568.SZ  百润股份     0.629124      0.573626    0.031971    0.844735   \n",
       "3    002661.SZ  克明面业     0.623749      0.345455    0.328227    0.380465   \n",
       "4    600809.SH  山西汾酒     0.480645      0.498701    0.021381    0.140199   \n",
       "7    000682.SZ  东方电子     0.634268      0.527273    0.117308    0.029009   \n",
       "8    002129.SZ  中环股份     0.617306      0.425000    0.114295    0.572790   \n",
       "10   600577.SH  精达股份     0.261737      0.600000    0.400000    0.094626   \n",
       "12   000019.SZ  深粮控股     0.136365      0.071429    0.866526    0.439241   \n",
       "14   002014.SZ  永新股份     0.851215      0.818182    0.001143    0.354754   \n",
       "15   002243.SZ  力合科创     0.529957      0.536364    0.012191    0.036248   \n",
       "17   002111.SZ  威海广泰     0.728042      0.538462    0.070894    0.186173   \n",
       "18   002487.SZ  大金重工     0.126725      0.254545    0.450037    0.834128   \n",
       "20   300092.SZ  科新机电     0.030524      0.261905    0.530923    0.535470   \n",
       "21   300095.SZ  华伍股份     0.253961      0.600000    0.284757    0.674459   \n",
       "22   300171.SZ   东富龙     0.853513      0.900000    0.037386    0.661613   \n",
       "26   601038.SH  一拖股份     0.889649      0.400000    0.504632    0.579042   \n",
       "27   601100.SH  恒立液压     0.726252      0.897059    0.000001    0.599403   \n",
       "31   002157.SZ  正邦科技     0.221164      0.200000    0.704000    0.558281   \n",
       "32   002385.SZ   大北农     0.318325      0.400000    0.600000    0.767025   \n",
       "34   300119.SZ  瑞普生物     0.741060      0.523810    0.182721    0.841220   \n",
       "38   300012.SZ  华测检测     0.546172      0.509091    0.109737    0.247841   \n",
       "41   600685.SH  中船防务     0.484990      0.250000    0.588724    0.044565   \n",
       "42   000955.SZ  欣龙控股     0.775282      0.800000    0.200000    0.837587   \n",
       "43   600496.SH  精工钢构     0.290801      0.272727    0.445838    0.926888   \n",
       "45   002045.SZ  国光电器     0.106571      0.100000    0.872889    0.086703   \n",
       "46   002134.SZ  天津普林     0.787823      0.500000    0.391002    0.724014   \n",
       "49   002409.SZ  雅克科技     0.702850      0.766667    0.015944    0.738777   \n",
       "50   002436.SZ  兴森科技     0.395623      0.285714    0.492726    0.363172   \n",
       "51   002463.SZ  沪电股份     0.772618      0.724675    0.000203    0.746098   \n",
       "54   300346.SZ  南大光电     0.184023      0.292308    0.310526    0.301310   \n",
       "56   600584.SH  长电科技     0.929068      1.000000    0.000000    0.745397   \n",
       "57   000401.SZ  冀东水泥     0.375054      0.453431    0.067548    0.511962   \n",
       "58   002392.SZ  北京利尔     0.303643      0.320588    0.226045    0.661643   \n",
       "59   002641.SZ  永高股份     0.806654      0.854545    0.000807    0.418936   \n",
       "60   600720.SH   祁连山     0.553691      0.389706    0.122034    0.315370   \n",
       "63   600166.SH  福田汽车     0.004223      0.035714    0.939408    0.272728   \n",
       "65   601799.SH  星宇股份     0.590484      0.482517    0.112109    0.577684   \n",
       "68   600961.SH  株冶集团     0.515422      0.357143    0.431611    0.279399   \n",
       "69   601168.SH  西部矿业     0.269414      0.146429    0.602550    0.697181   \n",
       "73   600026.SH  中远海能     0.524428      0.400000    0.600000    0.663634   \n",
       "75   002312.SZ  三泰控股     0.857284      0.900000    0.037386    0.790852   \n",
       "79   000686.SZ  东北证券     0.481258      0.309524    0.455645    0.295684   \n",
       "80   002242.SZ  九阳股份     0.722810      0.766667    0.015944    0.214083   \n",
       "92   000661.SZ  长春高新     0.439242      0.536364    0.088953    0.774100   \n",
       "93   000739.SZ  普洛药业     0.657358      0.854545    0.001637    0.728386   \n",
       "94   002223.SZ  鱼跃医疗     0.927525      0.518182    0.102492    0.799313   \n",
       "96   002432.SZ  九安医疗     0.913233      0.547619    0.160026    0.304825   \n",
       "97   300142.SZ  沃森生物     0.377458      0.282353    0.289350    0.963740   \n",
       "98   300206.SZ  理邦仪器     0.904734      0.916084    0.000028    0.796830   \n",
       "99   300314.SZ  戴维医疗     0.553921      0.642857    0.119392    0.921936   \n",
       "101  002080.SZ  中材科技     0.512410      0.516484    0.070749    0.504233   \n",
       "103  002683.SZ  宏大爆破     0.398804      0.611765    0.011788    0.444148   \n",
       "105  002467.SZ   二六三     0.381932      0.363636    0.271638    0.244042   \n",
       "\n",
       "     cf_Spearman  cf_pvalue  roe比cf提前月份数  \n",
       "0       0.500000   0.666667           63  \n",
       "2       0.829670   0.000450            3  \n",
       "3       0.296970   0.404702            0  \n",
       "4       0.190476   0.651401           39  \n",
       "7       0.017408   0.964546            3  \n",
       "8       0.616667   0.076929           33  \n",
       "10      0.016667   0.966055          -15  \n",
       "12      0.535714   0.215217            3  \n",
       "14      0.350000   0.355820            6  \n",
       "15      0.142857   0.787172           45  \n",
       "17      0.238095   0.570156           12  \n",
       "18      0.895405   0.001099            6  \n",
       "20      0.481818   0.133434           -9  \n",
       "21      0.571429   0.180202           -6  \n",
       "22      0.443771   0.198893          -15  \n",
       "26      0.678571   0.093750           -6  \n",
       "27      0.590909   0.055576           18  \n",
       "31      0.317168   0.443989           -6  \n",
       "32      0.705575   0.022626          -18  \n",
       "34      0.750000   0.052181            3  \n",
       "38      0.216667   0.575515            6  \n",
       "41      0.150342   0.659047          -12  \n",
       "42      0.560674   0.116327          -15  \n",
       "43      0.900000   0.037386           15  \n",
       "45      0.317168   0.443989           -9  \n",
       "46      0.783333   0.012520          -12  \n",
       "49      0.933333   0.000236            0  \n",
       "50      0.135836   0.629311          -21  \n",
       "51      0.644295   0.003901            9  \n",
       "54      0.150000   0.700094           15  \n",
       "56      0.400000   0.600000            0  \n",
       "57      0.522544   0.228878           33  \n",
       "58      0.600000   0.284757           33  \n",
       "59      0.600000   0.208000           15  \n",
       "60      0.290990   0.226795           -6  \n",
       "63      0.428571   0.289403           -3  \n",
       "65      0.400000   0.600000           24  \n",
       "68      0.341560   0.232003          -21  \n",
       "69      0.300000   0.623838           33  \n",
       "73      0.714286   0.110787           -6  \n",
       "75      0.672727   0.033041          -18  \n",
       "79      0.182418   0.532509          -18  \n",
       "80      0.100000   0.872889           12  \n",
       "92      0.800000   0.003110            0  \n",
       "93      0.776224   0.002993           -6  \n",
       "94      0.857143   0.013697           12  \n",
       "96      0.051299   0.934713            9  \n",
       "97      0.700000   0.188120           36  \n",
       "98      0.291176   0.273887          -12  \n",
       "99      0.828571   0.041563            0  \n",
       "101     0.243956   0.400625           -3  \n",
       "103     0.597059   0.014610            0  \n",
       "105     0.500000   0.666667           24  "
      ],
      "text/html": "<div>\n<style scoped>\n    .dataframe tbody tr th:only-of-type {\n        vertical-align: middle;\n    }\n\n    .dataframe tbody tr th {\n        vertical-align: top;\n    }\n\n    .dataframe thead th {\n        text-align: right;\n    }\n</style>\n<table border=\"1\" class=\"dataframe\">\n  <thead>\n    <tr style=\"text-align: right;\">\n      <th></th>\n      <th>code</th>\n      <th>name</th>\n      <th>roe_Pearson</th>\n      <th>roe_Spearman</th>\n      <th>roe_pvalue</th>\n      <th>cf_Pearson</th>\n      <th>cf_Spearman</th>\n      <th>cf_pvalue</th>\n      <th>roe比cf提前月份数</th>\n    </tr>\n  </thead>\n  <tbody>\n    <tr>\n      <th>0</th>\n      <td>000799.SZ</td>\n      <td>酒鬼酒</td>\n      <td>0.417900</td>\n      <td>0.238142</td>\n      <td>0.273851</td>\n      <td>0.939209</td>\n      <td>0.500000</td>\n      <td>0.666667</td>\n      <td>63</td>\n    </tr>\n    <tr>\n      <th>2</th>\n      <td>002568.SZ</td>\n      <td>百润股份</td>\n      <td>0.629124</td>\n      <td>0.573626</td>\n      <td>0.031971</td>\n      <td>0.844735</td>\n      <td>0.829670</td>\n      <td>0.000450</td>\n      <td>3</td>\n    </tr>\n    <tr>\n      <th>3</th>\n      <td>002661.SZ</td>\n      <td>克明面业</td>\n      <td>0.623749</td>\n      <td>0.345455</td>\n      <td>0.328227</td>\n      <td>0.380465</td>\n      <td>0.296970</td>\n      <td>0.404702</td>\n      <td>0</td>\n    </tr>\n    <tr>\n      <th>4</th>\n      <td>600809.SH</td>\n      <td>山西汾酒</td>\n      <td>0.480645</td>\n      <td>0.498701</td>\n      <td>0.021381</td>\n      <td>0.140199</td>\n      <td>0.190476</td>\n      <td>0.651401</td>\n      <td>39</td>\n    </tr>\n    <tr>\n      <th>7</th>\n      <td>000682.SZ</td>\n      <td>东方电子</td>\n      <td>0.634268</td>\n      <td>0.527273</td>\n      <td>0.117308</td>\n      <td>0.029009</td>\n      <td>0.017408</td>\n      <td>0.964546</td>\n      <td>3</td>\n    </tr>\n    <tr>\n      <th>8</th>\n      <td>002129.SZ</td>\n      <td>中环股份</td>\n      <td>0.617306</td>\n      <td>0.425000</td>\n      <td>0.114295</td>\n      <td>0.572790</td>\n      <td>0.616667</td>\n      <td>0.076929</td>\n      <td>33</td>\n    </tr>\n    <tr>\n      <th>10</th>\n      <td>600577.SH</td>\n      <td>精达股份</td>\n      <td>0.261737</td>\n      <td>0.600000</td>\n      <td>0.400000</td>\n      <td>0.094626</td>\n      <td>0.016667</td>\n      <td>0.966055</td>\n      <td>-15</td>\n    </tr>\n    <tr>\n      <th>12</th>\n      <td>000019.SZ</td>\n      <td>深粮控股</td>\n      <td>0.136365</td>\n      <td>0.071429</td>\n      <td>0.866526</td>\n      <td>0.439241</td>\n      <td>0.535714</td>\n      <td>0.215217</td>\n      <td>3</td>\n    </tr>\n    <tr>\n      <th>14</th>\n      <td>002014.SZ</td>\n      <td>永新股份</td>\n      <td>0.851215</td>\n      <td>0.818182</td>\n      <td>0.001143</td>\n      <td>0.354754</td>\n      <td>0.350000</td>\n      <td>0.355820</td>\n      <td>6</td>\n    </tr>\n    <tr>\n      <th>15</th>\n      <td>002243.SZ</td>\n      <td>力合科创</td>\n      <td>0.529957</td>\n      <td>0.536364</td>\n      <td>0.012191</td>\n      <td>0.036248</td>\n      <td>0.142857</td>\n      <td>0.787172</td>\n      <td>45</td>\n    </tr>\n    <tr>\n      <th>17</th>\n      <td>002111.SZ</td>\n      <td>威海广泰</td>\n      <td>0.728042</td>\n      <td>0.538462</td>\n      <td>0.070894</td>\n      <td>0.186173</td>\n      <td>0.238095</td>\n      <td>0.570156</td>\n      <td>12</td>\n    </tr>\n    <tr>\n      <th>18</th>\n      <td>002487.SZ</td>\n      <td>大金重工</td>\n      <td>0.126725</td>\n      <td>0.254545</td>\n      <td>0.450037</td>\n      <td>0.834128</td>\n      <td>0.895405</td>\n      <td>0.001099</td>\n      <td>6</td>\n    </tr>\n    <tr>\n      <th>20</th>\n      <td>300092.SZ</td>\n      <td>科新机电</td>\n      <td>0.030524</td>\n      <td>0.261905</td>\n      <td>0.530923</td>\n      <td>0.535470</td>\n      <td>0.481818</td>\n      <td>0.133434</td>\n      <td>-9</td>\n    </tr>\n    <tr>\n      <th>21</th>\n      <td>300095.SZ</td>\n      <td>华伍股份</td>\n      <td>0.253961</td>\n      <td>0.600000</td>\n      <td>0.284757</td>\n      <td>0.674459</td>\n      <td>0.571429</td>\n      <td>0.180202</td>\n      <td>-6</td>\n    </tr>\n    <tr>\n      <th>22</th>\n      <td>300171.SZ</td>\n      <td>东富龙</td>\n      <td>0.853513</td>\n      <td>0.900000</td>\n      <td>0.037386</td>\n      <td>0.661613</td>\n      <td>0.443771</td>\n      <td>0.198893</td>\n      <td>-15</td>\n    </tr>\n    <tr>\n      <th>26</th>\n      <td>601038.SH</td>\n      <td>一拖股份</td>\n      <td>0.889649</td>\n      <td>0.400000</td>\n      <td>0.504632</td>\n      <td>0.579042</td>\n      <td>0.678571</td>\n      <td>0.093750</td>\n      <td>-6</td>\n    </tr>\n    <tr>\n      <th>27</th>\n      <td>601100.SH</td>\n      <td>恒立液压</td>\n      <td>0.726252</td>\n      <td>0.897059</td>\n      <td>0.000001</td>\n      <td>0.599403</td>\n      <td>0.590909</td>\n      <td>0.055576</td>\n      <td>18</td>\n    </tr>\n    <tr>\n      <th>31</th>\n      <td>002157.SZ</td>\n      <td>正邦科技</td>\n      <td>0.221164</td>\n      <td>0.200000</td>\n      <td>0.704000</td>\n      <td>0.558281</td>\n      <td>0.317168</td>\n      <td>0.443989</td>\n      <td>-6</td>\n    </tr>\n    <tr>\n      <th>32</th>\n      <td>002385.SZ</td>\n      <td>大北农</td>\n      <td>0.318325</td>\n      <td>0.400000</td>\n      <td>0.600000</td>\n      <td>0.767025</td>\n      <td>0.705575</td>\n      <td>0.022626</td>\n      <td>-18</td>\n    </tr>\n    <tr>\n      <th>34</th>\n      <td>300119.SZ</td>\n      <td>瑞普生物</td>\n      <td>0.741060</td>\n      <td>0.523810</td>\n      <td>0.182721</td>\n      <td>0.841220</td>\n      <td>0.750000</td>\n      <td>0.052181</td>\n      <td>3</td>\n    </tr>\n    <tr>\n      <th>38</th>\n      <td>300012.SZ</td>\n      <td>华测检测</td>\n      <td>0.546172</td>\n      <td>0.509091</td>\n      <td>0.109737</td>\n      <td>0.247841</td>\n      <td>0.216667</td>\n      <td>0.575515</td>\n      <td>6</td>\n    </tr>\n    <tr>\n      <th>41</th>\n      <td>600685.SH</td>\n      <td>中船防务</td>\n      <td>0.484990</td>\n      <td>0.250000</td>\n      <td>0.588724</td>\n      <td>0.044565</td>\n      <td>0.150342</td>\n      <td>0.659047</td>\n      <td>-12</td>\n    </tr>\n    <tr>\n      <th>42</th>\n      <td>000955.SZ</td>\n      <td>欣龙控股</td>\n      <td>0.775282</td>\n      <td>0.800000</td>\n      <td>0.200000</td>\n      <td>0.837587</td>\n      <td>0.560674</td>\n      <td>0.116327</td>\n      <td>-15</td>\n    </tr>\n    <tr>\n      <th>43</th>\n      <td>600496.SH</td>\n      <td>精工钢构</td>\n      <td>0.290801</td>\n      <td>0.272727</td>\n      <td>0.445838</td>\n      <td>0.926888</td>\n      <td>0.900000</td>\n      <td>0.037386</td>\n      <td>15</td>\n    </tr>\n    <tr>\n      <th>45</th>\n      <td>002045.SZ</td>\n      <td>国光电器</td>\n      <td>0.106571</td>\n      <td>0.100000</td>\n      <td>0.872889</td>\n      <td>0.086703</td>\n      <td>0.317168</td>\n      <td>0.443989</td>\n      <td>-9</td>\n    </tr>\n    <tr>\n      <th>46</th>\n      <td>002134.SZ</td>\n      <td>天津普林</td>\n      <td>0.787823</td>\n      <td>0.500000</td>\n      <td>0.391002</td>\n      <td>0.724014</td>\n      <td>0.783333</td>\n      <td>0.012520</td>\n      <td>-12</td>\n    </tr>\n    <tr>\n      <th>49</th>\n      <td>002409.SZ</td>\n      <td>雅克科技</td>\n      <td>0.702850</td>\n      <td>0.766667</td>\n      <td>0.015944</td>\n      <td>0.738777</td>\n      <td>0.933333</td>\n      <td>0.000236</td>\n      <td>0</td>\n    </tr>\n    <tr>\n      <th>50</th>\n      <td>002436.SZ</td>\n      <td>兴森科技</td>\n      <td>0.395623</td>\n      <td>0.285714</td>\n      <td>0.492726</td>\n      <td>0.363172</td>\n      <td>0.135836</td>\n      <td>0.629311</td>\n      <td>-21</td>\n    </tr>\n    <tr>\n      <th>51</th>\n      <td>002463.SZ</td>\n      <td>沪电股份</td>\n      <td>0.772618</td>\n      <td>0.724675</td>\n      <td>0.000203</td>\n      <td>0.746098</td>\n      <td>0.644295</td>\n      <td>0.003901</td>\n      <td>9</td>\n    </tr>\n    <tr>\n      <th>54</th>\n      <td>300346.SZ</td>\n      <td>南大光电</td>\n      <td>0.184023</td>\n      <td>0.292308</td>\n      <td>0.310526</td>\n      <td>0.301310</td>\n      <td>0.150000</td>\n      <td>0.700094</td>\n      <td>15</td>\n    </tr>\n    <tr>\n      <th>56</th>\n      <td>600584.SH</td>\n      <td>长电科技</td>\n      <td>0.929068</td>\n      <td>1.000000</td>\n      <td>0.000000</td>\n      <td>0.745397</td>\n      <td>0.400000</td>\n      <td>0.600000</td>\n      <td>0</td>\n    </tr>\n    <tr>\n      <th>57</th>\n      <td>000401.SZ</td>\n      <td>冀东水泥</td>\n      <td>0.375054</td>\n      <td>0.453431</td>\n      <td>0.067548</td>\n      <td>0.511962</td>\n      <td>0.522544</td>\n      <td>0.228878</td>\n      <td>33</td>\n    </tr>\n    <tr>\n      <th>58</th>\n      <td>002392.SZ</td>\n      <td>北京利尔</td>\n      <td>0.303643</td>\n      <td>0.320588</td>\n      <td>0.226045</td>\n      <td>0.661643</td>\n      <td>0.600000</td>\n      <td>0.284757</td>\n      <td>33</td>\n    </tr>\n    <tr>\n      <th>59</th>\n      <td>002641.SZ</td>\n      <td>永高股份</td>\n      <td>0.806654</td>\n      <td>0.854545</td>\n      <td>0.000807</td>\n      <td>0.418936</td>\n      <td>0.600000</td>\n      <td>0.208000</td>\n      <td>15</td>\n    </tr>\n    <tr>\n      <th>60</th>\n      <td>600720.SH</td>\n      <td>祁连山</td>\n      <td>0.553691</td>\n      <td>0.389706</td>\n      <td>0.122034</td>\n      <td>0.315370</td>\n      <td>0.290990</td>\n      <td>0.226795</td>\n      <td>-6</td>\n    </tr>\n    <tr>\n      <th>63</th>\n      <td>600166.SH</td>\n      <td>福田汽车</td>\n      <td>0.004223</td>\n      <td>0.035714</td>\n      <td>0.939408</td>\n      <td>0.272728</td>\n      <td>0.428571</td>\n      <td>0.289403</td>\n      <td>-3</td>\n    </tr>\n    <tr>\n      <th>65</th>\n      <td>601799.SH</td>\n      <td>星宇股份</td>\n      <td>0.590484</td>\n      <td>0.482517</td>\n      <td>0.112109</td>\n      <td>0.577684</td>\n      <td>0.400000</td>\n      <td>0.600000</td>\n      <td>24</td>\n    </tr>\n    <tr>\n      <th>68</th>\n      <td>600961.SH</td>\n      <td>株冶集团</td>\n      <td>0.515422</td>\n      <td>0.357143</td>\n      <td>0.431611</td>\n      <td>0.279399</td>\n      <td>0.341560</td>\n      <td>0.232003</td>\n      <td>-21</td>\n    </tr>\n    <tr>\n      <th>69</th>\n      <td>601168.SH</td>\n      <td>西部矿业</td>\n      <td>0.269414</td>\n      <td>0.146429</td>\n      <td>0.602550</td>\n      <td>0.697181</td>\n      <td>0.300000</td>\n      <td>0.623838</td>\n      <td>33</td>\n    </tr>\n    <tr>\n      <th>73</th>\n      <td>600026.SH</td>\n      <td>中远海能</td>\n      <td>0.524428</td>\n      <td>0.400000</td>\n      <td>0.600000</td>\n      <td>0.663634</td>\n      <td>0.714286</td>\n      <td>0.110787</td>\n      <td>-6</td>\n    </tr>\n    <tr>\n      <th>75</th>\n      <td>002312.SZ</td>\n      <td>三泰控股</td>\n      <td>0.857284</td>\n      <td>0.900000</td>\n      <td>0.037386</td>\n      <td>0.790852</td>\n      <td>0.672727</td>\n      <td>0.033041</td>\n      <td>-18</td>\n    </tr>\n    <tr>\n      <th>79</th>\n      <td>000686.SZ</td>\n      <td>东北证券</td>\n      <td>0.481258</td>\n      <td>0.309524</td>\n      <td>0.455645</td>\n      <td>0.295684</td>\n      <td>0.182418</td>\n      <td>0.532509</td>\n      <td>-18</td>\n    </tr>\n    <tr>\n      <th>80</th>\n      <td>002242.SZ</td>\n      <td>九阳股份</td>\n      <td>0.722810</td>\n      <td>0.766667</td>\n      <td>0.015944</td>\n      <td>0.214083</td>\n      <td>0.100000</td>\n      <td>0.872889</td>\n      <td>12</td>\n    </tr>\n    <tr>\n      <th>92</th>\n      <td>000661.SZ</td>\n      <td>长春高新</td>\n      <td>0.439242</td>\n      <td>0.536364</td>\n      <td>0.088953</td>\n      <td>0.774100</td>\n      <td>0.800000</td>\n      <td>0.003110</td>\n      <td>0</td>\n    </tr>\n    <tr>\n      <th>93</th>\n      <td>000739.SZ</td>\n      <td>普洛药业</td>\n      <td>0.657358</td>\n      <td>0.854545</td>\n      <td>0.001637</td>\n      <td>0.728386</td>\n      <td>0.776224</td>\n      <td>0.002993</td>\n      <td>-6</td>\n    </tr>\n    <tr>\n      <th>94</th>\n      <td>002223.SZ</td>\n      <td>鱼跃医疗</td>\n      <td>0.927525</td>\n      <td>0.518182</td>\n      <td>0.102492</td>\n      <td>0.799313</td>\n      <td>0.857143</td>\n      <td>0.013697</td>\n      <td>12</td>\n    </tr>\n    <tr>\n      <th>96</th>\n      <td>002432.SZ</td>\n      <td>九安医疗</td>\n      <td>0.913233</td>\n      <td>0.547619</td>\n      <td>0.160026</td>\n      <td>0.304825</td>\n      <td>0.051299</td>\n      <td>0.934713</td>\n      <td>9</td>\n    </tr>\n    <tr>\n      <th>97</th>\n      <td>300142.SZ</td>\n      <td>沃森生物</td>\n      <td>0.377458</td>\n      <td>0.282353</td>\n      <td>0.289350</td>\n      <td>0.963740</td>\n      <td>0.700000</td>\n      <td>0.188120</td>\n      <td>36</td>\n    </tr>\n    <tr>\n      <th>98</th>\n      <td>300206.SZ</td>\n      <td>理邦仪器</td>\n      <td>0.904734</td>\n      <td>0.916084</td>\n      <td>0.000028</td>\n      <td>0.796830</td>\n      <td>0.291176</td>\n      <td>0.273887</td>\n      <td>-12</td>\n    </tr>\n    <tr>\n      <th>99</th>\n      <td>300314.SZ</td>\n      <td>戴维医疗</td>\n      <td>0.553921</td>\n      <td>0.642857</td>\n      <td>0.119392</td>\n      <td>0.921936</td>\n      <td>0.828571</td>\n      <td>0.041563</td>\n      <td>0</td>\n    </tr>\n    <tr>\n      <th>101</th>\n      <td>002080.SZ</td>\n      <td>中材科技</td>\n      <td>0.512410</td>\n      <td>0.516484</td>\n      <td>0.070749</td>\n      <td>0.504233</td>\n      <td>0.243956</td>\n      <td>0.400625</td>\n      <td>-3</td>\n    </tr>\n    <tr>\n      <th>103</th>\n      <td>002683.SZ</td>\n      <td>宏大爆破</td>\n      <td>0.398804</td>\n      <td>0.611765</td>\n      <td>0.011788</td>\n      <td>0.444148</td>\n      <td>0.597059</td>\n      <td>0.014610</td>\n      <td>0</td>\n    </tr>\n    <tr>\n      <th>105</th>\n      <td>002467.SZ</td>\n      <td>二六三</td>\n      <td>0.381932</td>\n      <td>0.363636</td>\n      <td>0.271638</td>\n      <td>0.244042</td>\n      <td>0.500000</td>\n      <td>0.666667</td>\n      <td>24</td>\n    </tr>\n  </tbody>\n</table>\n</div>"
     },
     "metadata": {},
     "execution_count": 37
    }
   ],
   "source": [
    "positive"
   ]
  },
  {
   "cell_type": "code",
   "execution_count": 38,
   "metadata": {},
   "outputs": [
    {
     "output_type": "execute_result",
     "data": {
      "text/plain": [
       "          code  name  roe_Pearson  roe_Spearman  roe_pvalue  cf_Pearson  \\\n",
       "2    002568.SZ  百润股份     0.629124      0.573626    0.031971    0.844735   \n",
       "27   601100.SH  恒立液压     0.726252      0.897059    0.000001    0.599403   \n",
       "49   002409.SZ  雅克科技     0.702850      0.766667    0.015944    0.738777   \n",
       "51   002463.SZ  沪电股份     0.772618      0.724675    0.000203    0.746098   \n",
       "75   002312.SZ  三泰控股     0.857284      0.900000    0.037386    0.790852   \n",
       "92   000661.SZ  长春高新     0.439242      0.536364    0.088953    0.774100   \n",
       "93   000739.SZ  普洛药业     0.657358      0.854545    0.001637    0.728386   \n",
       "103  002683.SZ  宏大爆破     0.398804      0.611765    0.011788    0.444148   \n",
       "\n",
       "     cf_Spearman  cf_pvalue  roe比cf提前月份数  \n",
       "2       0.829670   0.000450            3  \n",
       "27      0.590909   0.055576           18  \n",
       "49      0.933333   0.000236            0  \n",
       "51      0.644295   0.003901            9  \n",
       "75      0.672727   0.033041          -18  \n",
       "92      0.800000   0.003110            0  \n",
       "93      0.776224   0.002993           -6  \n",
       "103     0.597059   0.014610            0  "
      ],
      "text/html": "<div>\n<style scoped>\n    .dataframe tbody tr th:only-of-type {\n        vertical-align: middle;\n    }\n\n    .dataframe tbody tr th {\n        vertical-align: top;\n    }\n\n    .dataframe thead th {\n        text-align: right;\n    }\n</style>\n<table border=\"1\" class=\"dataframe\">\n  <thead>\n    <tr style=\"text-align: right;\">\n      <th></th>\n      <th>code</th>\n      <th>name</th>\n      <th>roe_Pearson</th>\n      <th>roe_Spearman</th>\n      <th>roe_pvalue</th>\n      <th>cf_Pearson</th>\n      <th>cf_Spearman</th>\n      <th>cf_pvalue</th>\n      <th>roe比cf提前月份数</th>\n    </tr>\n  </thead>\n  <tbody>\n    <tr>\n      <th>2</th>\n      <td>002568.SZ</td>\n      <td>百润股份</td>\n      <td>0.629124</td>\n      <td>0.573626</td>\n      <td>0.031971</td>\n      <td>0.844735</td>\n      <td>0.829670</td>\n      <td>0.000450</td>\n      <td>3</td>\n    </tr>\n    <tr>\n      <th>27</th>\n      <td>601100.SH</td>\n      <td>恒立液压</td>\n      <td>0.726252</td>\n      <td>0.897059</td>\n      <td>0.000001</td>\n      <td>0.599403</td>\n      <td>0.590909</td>\n      <td>0.055576</td>\n      <td>18</td>\n    </tr>\n    <tr>\n      <th>49</th>\n      <td>002409.SZ</td>\n      <td>雅克科技</td>\n      <td>0.702850</td>\n      <td>0.766667</td>\n      <td>0.015944</td>\n      <td>0.738777</td>\n      <td>0.933333</td>\n      <td>0.000236</td>\n      <td>0</td>\n    </tr>\n    <tr>\n      <th>51</th>\n      <td>002463.SZ</td>\n      <td>沪电股份</td>\n      <td>0.772618</td>\n      <td>0.724675</td>\n      <td>0.000203</td>\n      <td>0.746098</td>\n      <td>0.644295</td>\n      <td>0.003901</td>\n      <td>9</td>\n    </tr>\n    <tr>\n      <th>75</th>\n      <td>002312.SZ</td>\n      <td>三泰控股</td>\n      <td>0.857284</td>\n      <td>0.900000</td>\n      <td>0.037386</td>\n      <td>0.790852</td>\n      <td>0.672727</td>\n      <td>0.033041</td>\n      <td>-18</td>\n    </tr>\n    <tr>\n      <th>92</th>\n      <td>000661.SZ</td>\n      <td>长春高新</td>\n      <td>0.439242</td>\n      <td>0.536364</td>\n      <td>0.088953</td>\n      <td>0.774100</td>\n      <td>0.800000</td>\n      <td>0.003110</td>\n      <td>0</td>\n    </tr>\n    <tr>\n      <th>93</th>\n      <td>000739.SZ</td>\n      <td>普洛药业</td>\n      <td>0.657358</td>\n      <td>0.854545</td>\n      <td>0.001637</td>\n      <td>0.728386</td>\n      <td>0.776224</td>\n      <td>0.002993</td>\n      <td>-6</td>\n    </tr>\n    <tr>\n      <th>103</th>\n      <td>002683.SZ</td>\n      <td>宏大爆破</td>\n      <td>0.398804</td>\n      <td>0.611765</td>\n      <td>0.011788</td>\n      <td>0.444148</td>\n      <td>0.597059</td>\n      <td>0.014610</td>\n      <td>0</td>\n    </tr>\n  </tbody>\n</table>\n</div>"
     },
     "metadata": {},
     "execution_count": 38
    }
   ],
   "source": [
    "positive[(positive[\"cf_pvalue\"]<0.1)&(positive[\"roe_pvalue\"]<0.1)]"
   ]
  },
  {
   "source": [
    "没有发现必然的联系"
   ],
   "cell_type": "markdown",
   "metadata": {}
  },
  {
   "cell_type": "code",
   "execution_count": 39,
   "metadata": {},
   "outputs": [],
   "source": [
    "positive.to_csv(\"plusCorrWithGap.csv\", index=False)"
   ]
  },
  {
   "cell_type": "code",
   "execution_count": 41,
   "metadata": {},
   "outputs": [],
   "source": [
    "result1 = positive[(positive[\"cf_pvalue\"]<0.1)&(positive[\"roe_pvalue\"]<0.1)]\n",
    "result2 = positive[(positive[\"cf_pvalue\"]<0.1)]\n",
    "result3 = positive[(positive[\"roe_pvalue\"]<0.1)]"
   ]
  },
  {
   "cell_type": "code",
   "execution_count": 43,
   "metadata": {},
   "outputs": [],
   "source": [
    "result1.to_excel(\"两者都显著.xlsx\", index=False)\n",
    "result2.to_excel(\"现金流显著.xlsx\", index=False)\n",
    "result3.to_excel(\"roe显著.xlsx\", index=False)"
   ]
  },
  {
   "cell_type": "code",
   "execution_count": 44,
   "metadata": {},
   "outputs": [
    {
     "output_type": "execute_result",
     "data": {
      "text/plain": [
       "(8, 17, 19)"
      ]
     },
     "metadata": {},
     "execution_count": 44
    }
   ],
   "source": [
    "len(result1), len(result2), len(result3)"
   ]
  },
  {
   "cell_type": "code",
   "execution_count": null,
   "metadata": {},
   "outputs": [],
   "source": []
  }
 ]
}