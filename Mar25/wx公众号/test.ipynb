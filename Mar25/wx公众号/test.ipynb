{
 "metadata": {
  "language_info": {
   "codemirror_mode": {
    "name": "ipython",
    "version": 3
   },
   "file_extension": ".py",
   "mimetype": "text/x-python",
   "name": "python",
   "nbconvert_exporter": "python",
   "pygments_lexer": "ipython3",
   "version": "3.9.1-final"
  },
  "orig_nbformat": 2,
  "kernelspec": {
   "name": "python3",
   "display_name": "Python 3.9.1 64-bit",
   "metadata": {
    "interpreter": {
     "hash": "bbee7842ce8ba476870a006d5d5b68f11cea175afb0fea017b7f81beccf88892"
    }
   }
  }
 },
 "nbformat": 4,
 "nbformat_minor": 2,
 "cells": [
  {
   "source": [
    "cookie\tpgv_pvid=7816645300\n",
    "cookie\tpgv_pvi=231238656\n",
    "accept\ttext/html,application/xhtml+xml,application/xml;q=0.9,*/*;q=0.8\n",
    "user-agent\tMozilla/5.0 (Macintosh; Intel Mac OS X 10_16) AppleWebKit/605.1.15 (KHTML, like Gecko) MicroMessenger/6.8.0(0x16080000) MacWechat/2.6.1(0x12060113) Chrome/39.0.2171.95 Safari/537.36 NetType/WIFI WindowsWechat\n",
    "accept-language\tzh-cn\n",
    "accept-encoding\tgzip, deflate, br\n",
    "\n",
    "query_string\n",
    "__biz\tMjM5ODAyMDY2MQ==\n",
    "uin\tMTk5Nzk3MTgw\n",
    "key\t4e0fdefb3a2d3c58be82ce28a2365ac5a2700f44c131fd2e231df41c95406f5cf14ed61eb13c250d2239adb0c3eb6d87fb069176bc278f72b10cfa15efb5d817cbb74e2316c166985a61e51762ddff46d67193c65d007b0dc819fe88863a06548b9e37add9e290a28adbb1b7e2431fddbf3a64ef86dc9e366c37cf54906a3f6a\n",
    "devicetype\tiMac MacBookPro16,1 OSX OSX 10.16 build(20D91)\n",
    "version\t12060113\n",
    "lang\tzh_CN\n",
    "nettype\tWIFI\n",
    "ascene\t3\n",
    "fontScale\t100\n",
    "pass_ticket\tixZioKrNKjQP6KZjdG8a121T1k1rKOBqgcHz5snLDUx4YBg1OuwCTDhKXoYVk8E7\n",
    "\n",
    "home_query_string"
   ],
   "cell_type": "markdown",
   "metadata": {}
  },
  {
   "cell_type": "code",
   "execution_count": null,
   "metadata": {},
   "outputs": [],
   "source": [
    "query_string唯一变动参数\n",
    "key\te71bb03ffd27cbcc7da6e11e179ed5ba7add350dbcac15e07b2c785cb38e03d960ea49159e04aae1abfc47a220f920c7541df2402600a544b0e76d344bfbbccae82840999c50e6fbbada5c5cd12fd73c9f635adaeb20987671c9dc81583e13b74cbf2121a2fcdf77ad95cb27e6fa236ad20e80103d73ce69a3a1d7d93b0aa8dc\n"
   ]
  },
  {
   "cell_type": "code",
   "execution_count": null,
   "metadata": {},
   "outputs": [],
   "source": [
    "https://mp.weixin.qq.com/mp/getmasssendmsg?__biz=MjM5ODAyMDY2MQ==&uin=MTk5Nzk3MTgw&key=1c4a7b1b19689e9223ad79994cf60c3e917ee76d116663236250874f8b90472e86f4a00ad388b971ed831d0ea1a88b97ae9beac1b39cd8d09a5f847f43b0ad1f945f5f2a1f51641b9313d31c9930418941198514d7e923e1481f49f1000762c3521f2e0c6e9d8857d8c9719ea82ca6a7279f659e70cc64214f313d5af74d4eee&devicetype=iMac+MacBookPro16%2C1+OSX+OSX+10.16+build(20D91)&version=12060113&lang=zh_CN&nettype=WIFI&ascene=3&fontScale=100&pass_ticket=ixZioKrNKjQP6KZjdG8a121T1k1rKOBqgcHz5snLDUx4YBg1OuwCTDhKXoYVk8E7\n",
    "\n",
    "最早的302的key\n",
    "1c4a7b1b19689e9223ad79994cf60c3e917ee76d116663236250874f8b90472e86f4a00ad388b971ed831d0ea1a88b97ae9beac1b39cd8d09a5f847f43b0ad1f945f5f2a1f51641b9313d31c9930418941198514d7e923e1481f49f1000762c3521f2e0c6e9d8857d8c9719ea82ca6a7279f659e70cc64214f313d5af74d4eee\n",
    "\n",
    "\n",
    "\n",
    "获取列表\n",
    "https://mp.weixin.qq.com/mp/profile_ext?action=getmsg&__biz=MjM5ODAyMDY2MQ==&f=json&offset=20&count=10&is_ok=1&scene=124&uin=MTk5Nzk3MTgw&key=e71bb03ffd27cbcc7da6e11e179ed5ba7add350dbcac15e07b2c785cb38e03d960ea49159e04aae1abfc47a220f920c7541df2402600a544b0e76d344bfbbccae82840999c50e6fbbada5c5cd12fd73c9f635adaeb20987671c9dc81583e13b74cbf2121a2fcdf77ad95cb27e6fa236ad20e80103d73ce69a3a1d7d93b0aa8dc&pass_ticket=ixZioKrNKjQP6KZjdG8a121T1k1rKOBqgcHz5snLDUx4YBg1OuwCTDhKXoYVk8E7&wxtoken=&appmsg_token=1105_qO2AK96BhEGEM3zDBwWqdIQN8V9U1OILMAyXjw~~&x5=0&f=json\n",
    "\n",
    "action\tgetmsg\n",
    "__biz\tMjM5ODAyMDY2MQ==\n",
    "f\tjson\n",
    "offset\t20\n",
    "count\t10\n",
    "is_ok\t1\n",
    "scene\t124\n",
    "uin\tMTk5Nzk3MTgw\n",
    "key\te71bb03ffd27cbcc7da6e11e179ed5ba7add350dbcac15e07b2c785cb38e03d960ea49159e04aae1abfc47a220f920c7541df2402600a544b0e76d344bfbbccae82840999c50e6fbbada5c5cd12fd73c9f635adaeb20987671c9dc81583e13b74cbf2121a2fcdf77ad95cb27e6fa236ad20e80103d73ce69a3a1d7d93b0aa8dc\n",
    "pass_ticket\tixZioKrNKjQP6KZjdG8a121T1k1rKOBqgcHz5snLDUx4YBg1OuwCTDhKXoYVk8E7\n",
    "wxtoken\t\n",
    "appmsg_token\t1105_qO2AK96BhEGEM3zDBwWqdIQN8V9U1OILMAyXjw~~\n",
    "x5\t0\n",
    "f\tjson\n",
    "\n",
    "\n",
    "accept\t*/*\n",
    "cookie\tdevicetype=android-29\n",
    "cookie\tlang=zh_CN\n",
    "cookie\tpass_ticket=ixZioKrNKjQP6KZjdG8a121T1k1rKOBqgcHz5snLDUx4YBg1OuwCTDhKXoYVk8E7\n",
    "cookie\tversion=2800015d\n",
    "cookie\twap_sid2=CLzTol8SigF5X0hNTkx1UktRVmphd0JBR2k1NXNTckU4YTVmSjZUdUMtWXNtTmZGN1VPSmNnMldXSE9IYkszaklWYUpaMEs4TUZVWjRMVk1MUkVXUVhYcHZZXzV5YlpHQUdyQUJ0eXFvVHdQTVctckswLThlMk5ocUhKSjlfa0NTUk5YTWtGU2VLdnk4U0FBQX4wnsbmggY4DUCVTg==\n",
    "cookie\twxuin=199797180\n",
    "cookie\tpgv_pvid=7816645300\n",
    "cookie\tpgv_pvi=231238656\n",
    "accept-language\tzh-cn\n",
    "x-requested-with\tXMLHttpRequest\n",
    "user-agent\tMozilla/5.0 (Macintosh; Intel Mac OS X 10_16) AppleWebKit/605.1.15 (KHTML, like Gecko) MicroMessenger/6.8.0(0x16080000) MacWechat/2.6.1(0x12060113) Chrome/39.0.2171.95 Safari/537.36 NetType/WIFI WindowsWechat\n",
    "referer\thttps://mp.weixin.qq.com/mp/profile_ext?action=home&__biz=MjM5ODAyMDY2MQ==&scene=124&uin=MTk5Nzk3MTgw&key=e71bb03ffd27cbcc7da6e11e179ed5ba7add350dbcac15e07b2c785cb38e03d960ea49159e04aae1abfc47a220f920c7541df2402600a544b0e76d344bfbbccae82840999c50e6fbbada5c5cd12fd73c9f635adaeb20987671c9dc81583e13b74cbf2121a2fcdf77ad95cb27e6fa236ad20e80103d73ce69a3a1d7d93b0aa8dc&devicetype=iMac+MacBookPro16%2C1+OSX+OSX+10.16+build(20D91)&version=12060113&lang=zh_CN&nettype=WIFI&a8scene=3&fontScale=100&pass_ticket=ixZioKrNKjQP6KZjdG8a121T1k1rKOBqgcHz5snLDUx4YBg1OuwCTDhKXoYVk8E7\n",
    "accept-encoding\tgzip, deflate, br"
   ]
  },
  {
   "cell_type": "code",
   "execution_count": 1,
   "metadata": {},
   "outputs": [],
   "source": [
    "import requests\n",
    "from bs4 import BeautifulSoup"
   ]
  },
  {
   "cell_type": "code",
   "execution_count": 150,
   "metadata": {},
   "outputs": [],
   "source": [
    "query_string = {\"action\":\"home\",\n",
    "                \"__biz\":\"MjM5ODAyMDY2MQ==\",\n",
    "                \"scene\":\"124\",\n",
    "                \"uin\": \"MTk5Nzk3MTgw\",\n",
    "                \"key\": \"1c4a7b1b19689e921e9b41756963991acc6819a34ca4195daa862a713698e2e3086292e5f8e81a937b3af13c517a4a2c4aa451320076047f62457932a0e572a7798e95a782a41c4e692351afb832ac66be160b913b460bc47fa61f58f70dea26c41d64a5b3e42c03f674276e2050e99f11859b51498893a19385660dcf020881\",                        \"devicetype\": \"iMac+MacBookPro16%2C1+OSX+OSX+10.16+build(20D91)\",\n",
    "                \"version\": \"12060113\",\n",
    "                \"lang\": \"zh_CN\",\n",
    "                \"nettype\": \"WIFI\",\n",
    "                \"a8scene\": \"3\",\n",
    "                \"fontScale\": \"100\",\n",
    "                \"pass_ticket\": \"ixZioKrNKjQP6KZjdG8a121T1k1rKOBqgcHz5snLDUx4YBg1OuwCTDhKXoYVk8E7\",}"
   ]
  },
  {
   "cell_type": "code",
   "execution_count": 151,
   "metadata": {},
   "outputs": [],
   "source": [
    "HEADERS = {\n",
    "    \"cookie\": \"devicetype=iMacMacBookPro161OSXOSX10.16build(20D91); lang=zh_CN; pass_ticket=ixZioKrNKjQP6KZjdG8a121T1k1rKOBqgcHz5snLDUx4YBg1OuwCTDhKXoYVk8E7; version=12060113; wap_sid2=CLzTol8SigF5X0hBdmxBN0czcUNEbl9XdGZSWHpvak1Ob3Z0RnBzVXFpem5MV0hHdUxQQ3Q4aGU2TWotVEQyZE5nZjZuR0NsdE5PbWh3V2JtcGthcmRvMUdNbjk2eF9ldVZoNEd2TzJGVkN0R0FQUXNHR3M0V3Rjb1EweDNaVUREeVJaTWlia2tYakM4U0FBQX4wopfmggY4DUCVTg==; wxuin=199797180; pgv_pvid=7816645300; pgv_pvi=231238656;\",\n",
    "    \"accept\": \"text/html,application/xhtml+xml,application/xml;q=0.9,*/*;q=0.8\",\n",
    "    \"user-agent\":\"Mozilla/5.0 (Macintosh; Intel Mac OS X 10_16) AppleWebKit/605.1.15 (KHTML, like Gecko) MicroMessenger/6.8.0(0x16080000) MacWechat/2.6.1(0x12060113) Chrome/39.0.2171.95 Safari/537.36 NetType/WIFI WindowsWechat\", \n",
    "    \"accept-language\": \"zh-cn\",\n",
    "    \"accept-encoding\": \"gzip, deflate\",\n",
    "}"
   ]
  },
  {
   "cell_type": "code",
   "execution_count": 152,
   "metadata": {},
   "outputs": [],
   "source": [
    "home_page = \"https://mp.weixin.qq.com/mp/profile_ext?\""
   ]
  },
  {
   "cell_type": "code",
   "execution_count": 153,
   "metadata": {},
   "outputs": [],
   "source": [
    "r = requests.get(home_page, headers=HEADERS, params=query_string)"
   ]
  },
  {
   "cell_type": "code",
   "execution_count": 154,
   "metadata": {},
   "outputs": [
    {
     "output_type": "execute_result",
     "data": {
      "text/plain": [
       "200"
      ]
     },
     "metadata": {},
     "execution_count": 154
    }
   ],
   "source": [
    "r.status_code"
   ]
  },
  {
   "cell_type": "code",
   "execution_count": 155,
   "metadata": {},
   "outputs": [],
   "source": [
    "soup = BeautifulSoup(r.text, \"lxml\")"
   ]
  },
  {
   "cell_type": "code",
   "execution_count": 16,
   "metadata": {},
   "outputs": [],
   "source": [
    "# with open(\"test.html\", \"a\") as f:\n",
    "#     f.write(soup.prettify())"
   ]
  },
  {
   "cell_type": "code",
   "execution_count": 160,
   "metadata": {},
   "outputs": [
    {
     "output_type": "execute_result",
     "data": {
      "text/plain": [
       "'<!DOCTYPE HTML>\\n<html>\\n <head>\\n  <meta charset=\"utf-8\"/>\\n  <title>\\n   验证\\n  </title>\\n  <meta charset=\"utf-8\"/>\\n  <meta content=\"width=device-width,initial-scale=1.0,maximum-scale=1.0,user-scalable=0\" id=\"viewport\" name=\"viewport\"/>\\n  <style>\\n   body{\\n\\t\\t\\tmargin:0;\\n\\t\\t\\tpadding:10px;\\n\\t\\t\\tbackground-color:#E1E0DE;\\n\\t\\t\\tfont:12px/18px \"Lucida Grande\", \"Lucida Sans Unicode\", Helvetica, Arial, Verdana, sans-serif;\\n\\t\\t}\\n\\t\\tp{\\n\\t\\t\\tfont-size:16px;\\n\\t\\t\\tline-height:1.3em;\\n\\t\\t\\tcolor:#000;\\n\\t\\t\\ttext-align:center;\\n\\t\\t\\tfont-weight:bold;\\n\\t\\t\\ttext-shadow:0px 1px 0px #EFEFED;\\n\\t\\t\\tmargin:0px;\\n\\t\\t\\tmargin-top:20px;\\n\\t\\t\\tmargin-bottom:18px;\\n\\t\\t}\\n  </style>\\n </head>\\n <body>\\n  <p>\\n   请在微信客户端打开链接。\\n  </p>\\n  <script>\\n   (function(){\\n\\n\\t\\t\\t\\tdocument.addEventListener(\\'WeixinJSBridgeReady\\', function onBridgeReady() {\\n\\t\\t\\t\\t\\tvar appId = \\'\\',\\n\\t\\t\\t\\t\\t\\timgUrl = \\'\\'\\n\\t\\t\\t\\t\\t\\tlink = \\'http://mp.weixin.qq.com/mp/conference/default/share\\',\\n\\t\\t\\t\\t\\t\\ttitle = \\'失效的验证页面\\'\\n\\t\\t\\t\\t\\t\\tdesc = \\'你暂无权限查看此页面内容。\\',\\n\\t\\t\\t\\t\\t\\tcontent = \\'#微信分享#，你暂无权限查看此页面内容。\\';\\n\\n\\t\\t\\t\\t\\t\\n\\t\\t\\t\\t\\tWeixinJSBridge.on(\\'menu:share:appmessage\\', function(argv){\\n\\t\\t\\t\\t\\t\\tWeixinJSBridge.invoke(\\'sendAppMessage\\',{\\n\\t\\t\\t\\t\\t\\t\\t\\t\\t\\t\\t  \"appid\":appId,\\n\\t\\t\\t\\t\\t\\t\\t\\t\\t\\t\\t  \"img_url\":imgUrl,\\n\\t\\t\\t\\t\\t\\t\\t\\t\\t\\t\\t  \"img_width\":\"640\",\\n\\t\\t\\t\\t\\t\\t\\t\\t\\t\\t\\t  \"img_height\":\"640\",\\n\\t\\t\\t\\t\\t\\t\\t\\t\\t\\t\\t  \"link\":link,\\n\\t\\t\\t\\t\\t\\t\\t\\t\\t\\t\\t  \"desc\":desc,\\n\\t\\t\\t\\t\\t\\t\\t\\t\\t\\t\\t  \"title\":title\\n\\t\\t\\t\\t\\t\\t\\t\\t\\t\\t\\t  }, function(res) {})\\n\\t\\t\\t\\t\\t});\\n\\t\\t\\t\\t\\t\\n\\t\\t\\t\\t\\tWeixinJSBridge.on(\\'menu:share:timeline\\', function(argv){\\n\\t\\t\\t\\t\\t\\tWeixinJSBridge.invoke(\\'shareTimeline\\',{\\n\\t\\t\\t\\t\\t\\t\\t\\t\\t\\t\\t  \"img_url\":imgUrl,\\n\\t\\t\\t\\t\\t\\t\\t\\t\\t\\t\\t  \"img_width\":\"640\",\\n\\t\\t\\t\\t\\t\\t\\t\\t\\t\\t\\t  \"img_height\":\"640\",\\n\\t\\t\\t\\t\\t\\t\\t\\t\\t\\t\\t  \"link\":link,\\n\\t\\t\\t\\t\\t\\t\\t\\t\\t\\t\\t  \"desc\": desc,\\n\\t\\t\\t\\t\\t\\t\\t\\t\\t\\t\\t  \"title\":title\\n\\t\\t\\t\\t\\t\\t\\t\\t\\t\\t\\t  }, function(res) {\\n\\t\\t\\t\\t\\t\\t\\t\\t\\t\\t\\t  });\\n\\t\\t\\t\\t\\t});\\n\\n\\t\\t\\t\\t\\t\\n\\t\\t\\t\\t\\tvar weiboContent = \\'\\';\\n\\t\\t\\t\\t\\tWeixinJSBridge.on(\\'menu:share:weibo\\', function(argv){\\n\\t\\t\\t\\t\\t\\tWeixinJSBridge.invoke(\\'shareWeibo\\',{\\n\\t\\t\\t\\t\\t\\t\\t\\t\\t\\t\\t  \"content\":content,\\n\\t\\t\\t\\t\\t\\t\\t\\t\\t\\t\\t  \"url\":link,\\n\\t\\t\\t\\t\\t\\t\\t\\t\\t\\t\\t  }, function(res) {\\n\\t\\t\\t\\t\\t\\t\\t\\t\\t\\t\\t  });\\n\\t\\t\\t\\t\\t});\\n\\t\\t\\t\\t\\t\\n\\t\\t\\t\\t\\tWeixinJSBridge.call(\\'hideOptionMenu\\');\\n\\t\\t\\t\\t}, false);\\n\\t\\t\\t})();\\n  </script>\\n </body>\\n</html>\\n'"
      ]
     },
     "metadata": {},
     "execution_count": 160
    }
   ],
   "source": [
    "soup.prettify()"
   ]
  },
  {
   "cell_type": "code",
   "execution_count": 156,
   "metadata": {},
   "outputs": [],
   "source": [
    "import re"
   ]
  },
  {
   "cell_type": "code",
   "execution_count": 157,
   "metadata": {},
   "outputs": [],
   "source": [
    "pattern = r\"var msgList = '(.*)'\""
   ]
  },
  {
   "cell_type": "code",
   "execution_count": 158,
   "metadata": {},
   "outputs": [],
   "source": [
    "result = re.search(pattern, soup.prettify())"
   ]
  },
  {
   "cell_type": "code",
   "execution_count": 159,
   "metadata": {},
   "outputs": [
    {
     "output_type": "error",
     "ename": "AttributeError",
     "evalue": "'NoneType' object has no attribute 'group'",
     "traceback": [
      "\u001b[0;31m---------------------------------------------------------------------------\u001b[0m",
      "\u001b[0;31mAttributeError\u001b[0m                            Traceback (most recent call last)",
      "\u001b[0;32m<ipython-input-159-0eb385418e59>\u001b[0m in \u001b[0;36m<module>\u001b[0;34m\u001b[0m\n\u001b[0;32m----> 1\u001b[0;31m \u001b[0mmatch\u001b[0m \u001b[0;34m=\u001b[0m \u001b[0mresult\u001b[0m\u001b[0;34m.\u001b[0m\u001b[0mgroup\u001b[0m\u001b[0;34m(\u001b[0m\u001b[0;36m1\u001b[0m\u001b[0;34m)\u001b[0m\u001b[0;34m\u001b[0m\u001b[0;34m\u001b[0m\u001b[0m\n\u001b[0m",
      "\u001b[0;31mAttributeError\u001b[0m: 'NoneType' object has no attribute 'group'"
     ]
    }
   ],
   "source": [
    "match = result.group(1)"
   ]
  },
  {
   "cell_type": "code",
   "execution_count": 25,
   "metadata": {},
   "outputs": [],
   "source": [
    "subed = re.sub(r\"&quot;\", \" \", match)"
   ]
  },
  {
   "cell_type": "code",
   "execution_count": 78,
   "metadata": {},
   "outputs": [],
   "source": [
    "p = r\"\"\n"
   ]
  },
  {
   "cell_type": "code",
   "execution_count": 79,
   "metadata": {
    "tags": []
   },
   "outputs": [],
   "source": [
    "list1 = list(results)"
   ]
  },
  {
   "cell_type": "code",
   "execution_count": 80,
   "metadata": {},
   "outputs": [],
   "source": [
    "a1 = list1[1]"
   ]
  },
  {
   "cell_type": "code",
   "execution_count": 85,
   "metadata": {},
   "outputs": [],
   "source": [
    "# a1.group(1)"
   ]
  },
  {
   "cell_type": "code",
   "execution_count": 92,
   "metadata": {},
   "outputs": [],
   "source": [
    "p = r\"app_msg_ext_info :{(.*?)multi_app_msg_item_list :\\[(.*?)\\], author(.*?)}}\"\n",
    "results = re.finditer(p, subed)"
   ]
  },
  {
   "cell_type": "code",
   "execution_count": 93,
   "metadata": {},
   "outputs": [],
   "source": [
    "list1 = list(results)"
   ]
  },
  {
   "cell_type": "code",
   "execution_count": 94,
   "metadata": {},
   "outputs": [
    {
     "output_type": "execute_result",
     "data": {
      "text/plain": [
       "10"
      ]
     },
     "metadata": {},
     "execution_count": 94
    }
   ],
   "source": [
    "len(list1)"
   ]
  },
  {
   "cell_type": "code",
   "execution_count": 144,
   "metadata": {},
   "outputs": [],
   "source": [
    "results = []\n",
    "for each in list1:\n",
    "    first = each.group(1)\n",
    "    p = r\"title\\s?:\\s?(.*?)\\s?,\\s?digest\\s?:\\s?(.*?)\\s?,\\s?content.*?(https?.*?)\\s?,\\s?source_url\\s?:\\s?(https?.*?)\\s?,\\s?cover\"\n",
    "    result = re.search(p, first)\n",
    "    results.append(result.groups())\n",
    "    # 注意非贪婪匹配\n",
    "    # p = r\"title\\s?:\\s?(.*?)\\s?,\\s?digest\\s?:\\s?(.*?)\\s?,\\s?content.*?(https?.*)\\s?,\\s?source_url\\s?:\\s?(https?.*)\\s?,\\s?cover\"\n",
    "    second = each.group(2)\n",
    "    result = re.finditer(p, second)\n",
    "    for i in result:\n",
    "        results.append(i.groups())"
   ]
  },
  {
   "cell_type": "code",
   "execution_count": 147,
   "metadata": {},
   "outputs": [
    {
     "output_type": "execute_result",
     "data": {
      "text/plain": [
       "('“迁移”F1赛道技术&nbsp;杜邦如何解决EV电池热管理难题？',\n",
       " '【高工锂电】CIBF2021展会上，杜邦首次向公众展示了最新研发的BETATECH™聚氨酯热界面材料。该材料可在较大的工作温度范围内保持黏度导热性，增强散热和防止热失控，可应用于粘接电池包的模组和冷却板等关键部件。',\n",
       " 'http://mp.weixin.qq.com/s?__biz=MjM5ODAyMDY2MQ==&amp;amp;mid=2651806289&amp;amp;idx=1&amp;amp;sn=f437ff5c5ce0fe92b573cabade44bbf3&amp;amp;chksm=bd2ae90b8a5d601dc2ed10f91cbdafb667fbb71fffd34d579895d052ee0ceb1438daaefcf879&amp;amp;scene=27#wechat_redirect',\n",
       " 'https://www.gg-lb.com/')"
      ]
     },
     "metadata": {},
     "execution_count": 147
    }
   ],
   "source": [
    "results[0]"
   ]
  },
  {
   "cell_type": "code",
   "execution_count": 148,
   "metadata": {},
   "outputs": [
    {
     "output_type": "execute_result",
     "data": {
      "text/plain": [
       "('技领全球——“星恒之夜”登陆天津展，即将震撼来袭！',\n",
       " '【高工锂电】星恒将带来怎样的技术、产品、服务惊喜，3月26日，“星恒之夜”揭晓。\\u200b',\n",
       " 'http://mp.weixin.qq.com/s?__biz=MjM5ODAyMDY2MQ==&amp;amp;mid=2651806289&amp;amp;idx=2&amp;amp;sn=b27d3aa6014e65d4eefd2e837de1cb6d&amp;amp;chksm=bd2ae90b8a5d601dab3b5b2f9164ba5bed0ec57fe528d55a6c099bc4d1c928b37a630d37bd67&amp;amp;scene=27#wechat_redirect',\n",
       " 'https://www.gg-lb.com/')"
      ]
     },
     "metadata": {},
     "execution_count": 148
    }
   ],
   "source": [
    "results[1]"
   ]
  },
  {
   "cell_type": "code",
   "execution_count": 149,
   "metadata": {},
   "outputs": [],
   "source": [
    "import csv\n",
    "with open(\"test.csv\", \"a\") as f:\n",
    "    csv_writer = csv.writer(f)\n",
    "    csv_writer.writerow([\"title\", \"digest\", \"content_url\", \"source_url\"])\n",
    "    csv_writer.writerows(results)"
   ]
  },
  {
   "cell_type": "code",
   "execution_count": 102,
   "metadata": {},
   "outputs": [
    {
     "output_type": "execute_result",
     "data": {
      "text/plain": [
       "('“迁移”F1赛道技术&nbsp;杜邦如何解决EV电池热管理难题？ ',\n",
       " '【高工锂电】CIBF2021展会上，杜邦首次向公众展示了最新研发的BETATECH™聚氨酯热界面材料。该材料可在较大的工作温度范围内保持黏度导热性，增强散热和防止热失控，可应用于粘接电池包的模组和冷却板等关键部件。',\n",
       " 'http://mp.weixin.qq.com/s?__biz=MjM5ODAyMDY2MQ==&amp;amp;mid=2651806289&amp;amp;idx=1&amp;amp;sn=f437ff5c5ce0fe92b573cabade44bbf3&amp;amp;chksm=bd2ae90b8a5d601dc2ed10f91cbdafb667fbb71fffd34d579895d052ee0ceb1438daaefcf879&amp;amp;scene=27#wechat_redirect ',\n",
       " 'https://www.gg-lb.com/ ')"
      ]
     },
     "metadata": {},
     "execution_count": 102
    }
   ],
   "source": [
    "first_r.groups()"
   ]
  },
  {
   "cell_type": "code",
   "execution_count": 103,
   "metadata": {},
   "outputs": [],
   "source": [
    "msg_lists = t.group(2)"
   ]
  },
  {
   "cell_type": "code",
   "execution_count": 141,
   "metadata": {},
   "outputs": [],
   "source": []
  },
  {
   "cell_type": "code",
   "execution_count": 142,
   "metadata": {},
   "outputs": [],
   "source": [
    "msg_r = re.findall(p, test)"
   ]
  },
  {
   "cell_type": "code",
   "execution_count": 143,
   "metadata": {},
   "outputs": [
    {
     "output_type": "execute_result",
     "data": {
      "text/plain": [
       "[('先导智能全景展示锂电智造整体解决方案',\n",
       "  '【高工锂电】CIBF2021电池展上，先导智能向业界展示了其拥有完整自主知识产权的锂电池整体解决方案。\\u200b',\n",
       "  'http://mp.weixin.qq.com/s?__biz=MjM5ODAyMDY2MQ==&amp;amp;mid=2651806289&amp;amp;idx=3&amp;amp;sn=e8533d4ae9c1e51e8d3b277df4bdf817&amp;amp;chksm=bd2ae90b8a5d601d9b0ae7e914b453267156afbab7e7f37d3e316bb0b9955a2a79fcc5ebb334&amp;amp;scene=27#wechat_redirect',\n",
       "  'https://www.gg-lb.com/'),\n",
       " ('【普沃思•高工会议】力神电池智能制造路径选择',\n",
       "  '【高工锂电】力神电池集团高级专家、工艺设备总监李伟发表了“锂电池智能工作体系建设与解析”的主题演讲。',\n",
       "  'http://mp.weixin.qq.com/s?__biz=MjM5ODAyMDY2MQ==&amp;amp;mid=2651806289&amp;amp;idx=4&amp;amp;sn=c75db005e0be2ecf7f72de01382c020a&amp;amp;chksm=bd2ae90b8a5d601d91a826814ef2f210989098f46d9a534192d5b52931abe18db331374ea745&amp;amp;scene=27#wechat_redirect',\n",
       "  'https://www.gg-lb.com/'),\n",
       " ('【广舜检测•设备专栏】科瑞技术切叠一体机再升级',\n",
       "  '【高工锂电】科瑞技术最新升级的切叠一体机，以及包蓝膜机、振动抑制平台等设备亮相CIBF2021展会\\u200b。\\u200b',\n",
       "  'http://mp.weixin.qq.com/s?__biz=MjM5ODAyMDY2MQ==&amp;amp;mid=2651806289&amp;amp;idx=6&amp;amp;sn=064ecdcc7684198d017e57da0b2e1deb&amp;amp;chksm=bd2ae90b8a5d601d7e209c026ffce4c776b7204647c11a6ef734d24756b1ac38eddc8d9f135e&amp;amp;scene=27#wechat_redirect',\n",
       "  'https://www.gg-lb.com/'),\n",
       " ('【科达利•材料专栏】5家锂电材料项目按下“启动键”',\n",
       "  '【高工锂电】进入3月中旬以来，\\u200b近期包括华北铝业、华创新材、杉杉能源、龙蟠科技、东方钛业等纷纷宣布锂电材料项目开工，涉及正极材料、铜箔、铝箔等。',\n",
       "  'http://mp.weixin.qq.com/s?__biz=MjM5ODAyMDY2MQ==&amp;amp;mid=2651806289&amp;amp;idx=7&amp;amp;sn=d04565a58a9be642444f765cf378e22f&amp;amp;chksm=bd2ae90b8a5d601d08a84e0b53669d97eb0975dc544a1b4f4c5b886fb7d5c1eb443b4d6eec77&amp;amp;scene=27#wechat_redirect',\n",
       "  'https://www.gg-lb.com/'),\n",
       " ('【聚创新能源•EV专栏】如何看待大众将要进行的大规模高功率快充的投资？',\n",
       "  '【高工锂电】换电和快充之间，换电更匹配商业模式，后者更匹配长远和兼容性发展，这波350kW快充桩撒下去，真的演变成未来的加油站了，按照单车10%-80%未来预期10-12分钟来设计，快充的车辆一定要把目标往高了展望。',\n",
       "  'http://mp.weixin.qq.com/s?__biz=MjM5ODAyMDY2MQ==&amp;amp;mid=2651806289&amp;amp;idx=8&amp;amp;sn=ffe4695023bc054d45948efc6576db53&amp;amp;chksm=bd2ae90b8a5d601dde8508c705090f4882ebd4c2d798b618b02a214dd06eda6614bdcd2ff5c1&amp;amp;scene=27#wechat_redirect',\n",
       "  'https://www.gg-lb.com/')]"
      ]
     },
     "metadata": {},
     "execution_count": 143
    }
   ],
   "source": [
    "msg_r"
   ]
  },
  {
   "cell_type": "code",
   "execution_count": 132,
   "metadata": {},
   "outputs": [
    {
     "output_type": "execute_result",
     "data": {
      "text/plain": [
       "'{ title : 技领全球——“星恒之夜”登陆天津展，即将震撼来袭！ , digest : 【高工锂电】星恒将带来怎样的技术、产品、服务惊喜，3月26日，“星恒之夜”揭晓。\\u200b , content :  , fileid :504319844, content_url : http://mp.weixin.qq.com/s?__biz=MjM5ODAyMDY2MQ==&amp;amp;mid=2651806289&amp;amp;idx=2&amp;amp;sn=b27d3aa6014e65d4eefd2e837de1cb6d&amp;amp;chksm=bd2ae90b8a5d601dab3b5b2f9164ba5bed0ec57fe528d55a6c099bc4d1c928b37a630d37bd67&amp;amp;scene=27#wechat_redirect , source_url : https://www.gg-lb.com/ , cover : http://mmbiz.qpic.cn/sz_mmbiz_jpg/w9ZW3EibiaibeNCqh7gkjTOJFYkUsZLfqB8iaBibGb3fvRRyR6wn6GuMpiaNicmND3yibJibrGhCWdKRXEJwazJIXcRK8Qg/0?wx_fmt=jpeg , author : 欧杨宇 , copyright_stat :11, del_flag :1, item_show_type :0, audio_fileid :0, duration :0, play_url :  , malicious_title_reason_id :0, malicious_content_type :0},{ title : 先导智能全景展示锂电智造整体解决方案 , digest : 【高工锂电】CIBF2021电池展上，先导智能向业界展示了其拥有完整自主知识产权的锂电池整体解决方案。\\u200b , content :  , fileid :504319848, content_url : http://mp.weixin.qq.com/s?__biz=MjM5ODAyMDY2MQ==&amp;amp;mid=2651806289&amp;amp;idx=3&amp;amp;sn=e8533d4ae9c1e51e8d3b277df4bdf817&amp;amp;chksm=bd2ae90b8a5d601d9b0ae7e914b453267156afbab7e7f37d3e316bb0b9955a2a79fcc5ebb334&amp;amp;scene=27#wechat_redirect , source_url : https://www.gg-lb.com/ , cover : http://mmbiz.qpic.cn/sz_mmbiz_jpg/w9ZW3EibiaibeNCqh7gkjTOJFYkUsZLfqB8tmDUv2oumgxvlwTH5gahpAc3pE68408HLX2X5ISJbla0WxsicA9A00A/0?wx_fmt=jpeg , author : 编辑部 , copyright_stat :100, del_flag :1, item_show_type :0, audio_fileid :0, duration :0, play_url :  , malicious_title_reason_id :0, malicious_content_type :0},{ title : 【普沃思•高工会议】力神电池智能制造路径选择 , digest : 【高工锂电】力神电池集团高级专家、工艺设备总监李伟发表了“锂电池智能工作体系建设与解析”的主题演讲。 , content :  , fileid :504320126, content_url : http://mp.weixin.qq.com/s?__biz=MjM5ODAyMDY2MQ==&amp;amp;mid=2651806289&amp;amp;idx=4&amp;amp;sn=c75db005e0be2ecf7f72de01382c020a&amp;amp;chksm=bd2ae90b8a5d601d91a826814ef2f210989098f46d9a534192d5b52931abe18db331374ea745&amp;amp;scene=27#wechat_redirect , source_url : https://www.gg-lb.com/ , cover : http://mmbiz.qpic.cn/sz_mmbiz_jpg/w9ZW3EibiaibeNCqh7gkjTOJFYkUsZLfqB8GGPqS0uxWz6gIgnLfcTvmaZHhlklJyYkcz7blhvEZD7LU5eX7paJEw/0?wx_fmt=jpeg , author : 编辑部 , copyright_stat :11, del_flag :1, item_show_type :0, audio_fileid :0, duration :0, play_url :  , malicious_title_reason_id :0, malicious_content_type :0},{ title : 【广舜检测•设备专栏】科瑞技术切叠一体机再升级 , digest : 【高工锂电】科瑞技术最新升级的切叠一体机，以及包蓝膜机、振动抑制平台等设备亮相CIBF2021展会\\u200b。\\u200b , content :  , fileid :504319848, content_url : http://mp.weixin.qq.com/s?__biz=MjM5ODAyMDY2MQ==&amp;amp;mid=2651806289&amp;amp;idx=6&amp;amp;sn=064ecdcc7684198d017e57da0b2e1deb&amp;amp;chksm=bd2ae90b8a5d601d7e209c026ffce4c776b7204647c11a6ef734d24756b1ac38eddc8d9f135e&amp;amp;scene=27#wechat_redirect , source_url : https://www.gg-lb.com/ , cover : http://mmbiz.qpic.cn/sz_mmbiz_jpg/w9ZW3EibiaibeNCqh7gkjTOJFYkUsZLfqB8tmDUv2oumgxvlwTH5gahpAc3pE68408HLX2X5ISJbla0WxsicA9A00A/0?wx_fmt=jpeg , author : Colibri , copyright_stat :101, del_flag :1, item_show_type :0, audio_fileid :0, duration :0, play_url :  , malicious_title_reason_id :0, malicious_content_type :0},{ title : 【科达利•材料专栏】5家锂电材料项目按下“启动键” , digest : 【高工锂电】进入3月中旬以来，\\u200b近期包括华北铝业、华创新材、杉杉能源、龙蟠科技、东方钛业等纷纷宣布锂电材料项目开工，涉及正极材料、铜箔、铝箔等。 , content :  , fileid :504319841, content_url : http://mp.weixin.qq.com/s?__biz=MjM5ODAyMDY2MQ==&amp;amp;mid=2651806289&amp;amp;idx=7&amp;amp;sn=d04565a58a9be642444f765cf378e22f&amp;amp;chksm=bd2ae90b8a5d601d08a84e0b53669d97eb0975dc544a1b4f4c5b886fb7d5c1eb443b4d6eec77&amp;amp;scene=27#wechat_redirect , source_url : https://www.gg-lb.com/ , cover : http://mmbiz.qpic.cn/sz_mmbiz_jpg/w9ZW3EibiaibeNCqh7gkjTOJFYkUsZLfqB8YicQ1nIOTUIxcA6aBicesoicaCuGEDl6ic5gibj7qmzpLowcskfM5LfodKQ/0?wx_fmt=jpeg , author : 编辑部 , copyright_stat :11, del_flag :1, item_show_type :0, audio_fileid :0, duration :0, play_url :  , malicious_title_reason_id :0, malicious_content_type :0},{ title : 【聚创新能源•EV专栏】如何看待大众将要进行的大规模高功率快充的投资？ , digest : 【高工锂电】换电和快充之间，换电更匹配商业模式，后者更匹配长远和兼容性发展，这波350kW快充桩撒下去，真的演变成未来的加油站了，按照单车10%-80%未来预期10-12分钟来设计，快充的车辆一定要把目标往高了展望。 , content :  , fileid :504319845, content_url : http://mp.weixin.qq.com/s?__biz=MjM5ODAyMDY2MQ==&amp;amp;mid=2651806289&amp;amp;idx=8&amp;amp;sn=ffe4695023bc054d45948efc6576db53&amp;amp;chksm=bd2ae90b8a5d601dde8508c705090f4882ebd4c2d798b618b02a214dd06eda6614bdcd2ff5c1&amp;amp;scene=27#wechat_redirect , source_url : https://www.gg-lb.com/ , cover : http://mmbiz.qpic.cn/sz_mmbiz_jpg/w9ZW3EibiaibeNCqh7gkjTOJFYkUsZLfqB8XoxcFKpYtCJ3EGOQr5AoMSXcWqPC0cGua7yBfYwB8exLDLvMnlIOzw/0?wx_fmt=jpeg , author : 朱玉龙 , copyright_stat :101, del_flag :1, item_show_type :0, audio_fileid :0, duration :0, play_url :  , malicious_title_reason_id :0, malicious_content_type :0}'"
      ]
     },
     "metadata": {},
     "execution_count": 132
    }
   ],
   "source": [
    "msg_lists"
   ]
  },
  {
   "cell_type": "code",
   "execution_count": 117,
   "metadata": {},
   "outputs": [
    {
     "output_type": "execute_result",
     "data": {
      "text/plain": [
       "1"
      ]
     },
     "metadata": {},
     "execution_count": 117
    }
   ],
   "source": []
  },
  {
   "cell_type": "code",
   "execution_count": 112,
   "metadata": {},
   "outputs": [
    {
     "output_type": "execute_result",
     "data": {
      "text/plain": [
       "'{ title : 技领全球——“星恒之夜”登陆天津展，即将震撼来袭！ , digest : 【高工锂电】星恒将带来怎样的技术、产品、服务惊喜，3月26日，“星恒之夜”揭晓。\\u200b , content :  , fileid :504319844, content_url : http://mp.weixin.qq.com/s?__biz=MjM5ODAyMDY2MQ==&amp;amp;mid=2651806289&amp;amp;idx=2&amp;amp;sn=b27d3aa6014e65d4eefd2e837de1cb6d&amp;amp;chksm=bd2ae90b8a5d601dab3b5b2f9164ba5bed0ec57fe528d55a6c099bc4d1c928b37a630d37bd67&amp;amp;scene=27#wechat_redirect , source_url : https://www.gg-lb.com/ , cover : http://mmbiz.qpic.cn/sz_mmbiz_jpg/w9ZW3EibiaibeNCqh7gkjTOJFYkUsZLfqB8iaBibGb3fvRRyR6wn6GuMpiaNicmND3yibJibrGhCWdKRXEJwazJIXcRK8Qg/0?wx_fmt=jpeg , author : 欧杨宇 , copyright_stat :11, del_flag :1, item_show_type :0, audio_fileid :0, duration :0, play_url :  , malicious_title_reason_id :0, malicious_content_type :0},{ title : 先导智能全景展示锂电智造整体解决方案 , digest : 【高工锂电】CIBF2021电池展上，先导智能向业界展示了其拥有完整自主知识产权的锂电池整体解决方案。\\u200b , content :  , fileid :504319848, content_url : http://mp.weixin.qq.com/s?__biz=MjM5ODAyMDY2MQ==&amp;amp;mid=2651806289&amp;amp;idx=3&amp;amp;sn=e8533d4ae9c1e51e8d3b277df4bdf817&amp;amp;chksm=bd2ae90b8a5d601d9b0ae7e914b453267156afbab7e7f37d3e316bb0b9955a2a79fcc5ebb334&amp;amp;scene=27#wechat_redirect , source_url : https://www.gg-lb.com/ , cover : http://mmbiz.qpic.cn/sz_mmbiz_jpg/w9ZW3EibiaibeNCqh7gkjTOJFYkUsZLfqB8tmDUv2oumgxvlwTH5gahpAc3pE68408HLX2X5ISJbla0WxsicA9A00A/0?wx_fmt=jpeg , author : 编辑部 , copyright_stat :100, del_flag :1, item_show_type :0, audio_fileid :0, duration :0, play_url :  , malicious_title_reason_id :0, malicious_content_type :0},{ title : 【普沃思•高工会议】力神电池智能制造路径选择 , digest : 【高工锂电】力神电池集团高级专家、工艺设备总监李伟发表了“锂电池智能工作体系建设与解析”的主题演讲。 , content :  , fileid :504320126, content_url : http://mp.weixin.qq.com/s?__biz=MjM5ODAyMDY2MQ==&amp;amp;mid=2651806289&amp;amp;idx=4&amp;amp;sn=c75db005e0be2ecf7f72de01382c020a&amp;amp;chksm=bd2ae90b8a5d601d91a826814ef2f210989098f46d9a534192d5b52931abe18db331374ea745&amp;amp;scene=27#wechat_redirect , source_url : https://www.gg-lb.com/ , cover : http://mmbiz.qpic.cn/sz_mmbiz_jpg/w9ZW3EibiaibeNCqh7gkjTOJFYkUsZLfqB8GGPqS0uxWz6gIgnLfcTvmaZHhlklJyYkcz7blhvEZD7LU5eX7paJEw/0?wx_fmt=jpeg , author : 编辑部 , copyright_stat :11, del_flag :1, item_show_type :0, audio_fileid :0, duration :0, play_url :  , malicious_title_reason_id :0, malicious_content_type :0},{ title : 【广舜检测•设备专栏】科瑞技术切叠一体机再升级 , digest : 【高工锂电】科瑞技术最新升级的切叠一体机，以及包蓝膜机、振动抑制平台等设备亮相CIBF2021展会\\u200b。\\u200b , content :  , fileid :504319848, content_url : http://mp.weixin.qq.com/s?__biz=MjM5ODAyMDY2MQ==&amp;amp;mid=2651806289&amp;amp;idx=6&amp;amp;sn=064ecdcc7684198d017e57da0b2e1deb&amp;amp;chksm=bd2ae90b8a5d601d7e209c026ffce4c776b7204647c11a6ef734d24756b1ac38eddc8d9f135e&amp;amp;scene=27#wechat_redirect , source_url : https://www.gg-lb.com/ , cover : http://mmbiz.qpic.cn/sz_mmbiz_jpg/w9ZW3EibiaibeNCqh7gkjTOJFYkUsZLfqB8tmDUv2oumgxvlwTH5gahpAc3pE68408HLX2X5ISJbla0WxsicA9A00A/0?wx_fmt=jpeg , author : Colibri , copyright_stat :101, del_flag :1, item_show_type :0, audio_fileid :0, duration :0, play_url :  , malicious_title_reason_id :0, malicious_content_type :0},{ title : 【科达利•材料专栏】5家锂电材料项目按下“启动键” , digest : 【高工锂电】进入3月中旬以来，\\u200b近期包括华北铝业、华创新材、杉杉能源、龙蟠科技、东方钛业等纷纷宣布锂电材料项目开工，涉及正极材料、铜箔、铝箔等。 , content :  , fileid :504319841, content_url : http://mp.weixin.qq.com/s?__biz=MjM5ODAyMDY2MQ==&amp;amp;mid=2651806289&amp;amp;idx=7&amp;amp;sn=d04565a58a9be642444f765cf378e22f&amp;amp;chksm=bd2ae90b8a5d601d08a84e0b53669d97eb0975dc544a1b4f4c5b886fb7d5c1eb443b4d6eec77&amp;amp;scene=27#wechat_redirect , source_url : https://www.gg-lb.com/ , cover : http://mmbiz.qpic.cn/sz_mmbiz_jpg/w9ZW3EibiaibeNCqh7gkjTOJFYkUsZLfqB8YicQ1nIOTUIxcA6aBicesoicaCuGEDl6ic5gibj7qmzpLowcskfM5LfodKQ/0?wx_fmt=jpeg , author : 编辑部 , copyright_stat :11, del_flag :1, item_show_type :0, audio_fileid :0, duration :0, play_url :  , malicious_title_reason_id :0, malicious_content_type :0},{ title : 【聚创新能源•EV专栏】如何看待大众将要进行的大规模高功率快充的投资？ , digest : 【高工锂电】换电和快充之间，换电更匹配商业模式，后者更匹配长远和兼容性发展，这波350kW快充桩撒下去，真的演变成未来的加油站了，按照单车10%-80%未来预期10-12分钟来设计，快充的车辆一定要把目标往高了展望。 , content :  , fileid :504319845, content_url : http://mp.weixin.qq.com/s?__biz=MjM5ODAyMDY2MQ==&amp;amp;mid=2651806289&amp;amp;idx=8&amp;amp;sn=ffe4695023bc054d45948efc6576db53&amp;amp;chksm=bd2ae90b8a5d601dde8508c705090f4882ebd4c2d798b618b02a214dd06eda6614bdcd2ff5c1&amp;amp;scene=27#wechat_redirect , source_url : https://www.gg-lb.com/ , cover : http://mmbiz.qpic.cn/sz_mmbiz_jpg/w9ZW3EibiaibeNCqh7gkjTOJFYkUsZLfqB8XoxcFKpYtCJ3EGOQr5AoMSXcWqPC0cGua7yBfYwB8exLDLvMnlIOzw/0?wx_fmt=jpeg , author : 朱玉龙 , copyright_stat :101, del_flag :1, item_show_type :0, audio_fileid :0, duration :0, play_url :  , malicious_title_reason_id :0, malicious_content_type :0}'"
      ]
     },
     "metadata": {},
     "execution_count": 112
    }
   ],
   "source": [
    "msg_lists"
   ]
  },
  {
   "source": [
    "# 换接口"
   ],
   "cell_type": "markdown",
   "metadata": {}
  },
  {
   "cell_type": "code",
   "execution_count": null,
   "metadata": {},
   "outputs": [],
   "source": [
    "https://mp.weixin.qq.com/mp/profile_ext?action=getmsg&__biz=MjM5ODAyMDY2MQ==&f=json&offset=10&count=10&is_ok=1&scene=124&uin=MTk5Nzk3MTgw&key=e71bb03ffd27cbcc7da6e11e179ed5ba7add350dbcac15e07b2c785cb38e03d960ea49159e04aae1abfc47a220f920c7541df2402600a544b0e76d344bfbbccae82840999c50e6fbbada5c5cd12fd73c9f635adaeb20987671c9dc81583e13b74cbf2121a2fcdf77ad95cb27e6fa236ad20e80103d73ce69a3a1d7d93b0aa8dc&pass_ticket=ixZioKrNKjQP6KZjdG8a121T1k1rKOBqgcHz5snLDUx4YBg1OuwCTDhKXoYVk8E7&wxtoken=&appmsg_token=1105_qO2AK96BhEGEM3zDBwWqdIQN8V9U1OILMAyXjw~~&x5=0&f=json"
   ]
  },
  {
   "cell_type": "code",
   "execution_count": null,
   "metadata": {},
   "outputs": [],
   "source": [
    "appmsg_token=1105_qO2AK96BhEGEM3zDBwWqdIQN8V9U1OILMAyXjw~~    "
   ]
  },
  {
   "cell_type": "code",
   "execution_count": null,
   "metadata": {},
   "outputs": [],
   "source": []
  },
  {
   "cell_type": "code",
   "execution_count": null,
   "metadata": {},
   "outputs": [],
   "source": []
  },
  {
   "cell_type": "code",
   "execution_count": null,
   "metadata": {},
   "outputs": [],
   "source": []
  }
 ]
}