{
 "metadata": {
  "language_info": {
   "codemirror_mode": {
    "name": "ipython",
    "version": 3
   },
   "file_extension": ".py",
   "mimetype": "text/x-python",
   "name": "python",
   "nbconvert_exporter": "python",
   "pygments_lexer": "ipython3",
   "version": "3.9.1-final"
  },
  "orig_nbformat": 2,
  "kernelspec": {
   "name": "python3",
   "display_name": "Python 3",
   "language": "python"
  }
 },
 "nbformat": 4,
 "nbformat_minor": 2,
 "cells": [
  {
   "source": [
    "#coding:utf-8\n",
    "'''\n",
    "    FileName      ：processPrice.py\n",
    "    Author        ：@zch0423\n",
    "    Date          ：Jan 14, 2021\n",
    "    Description   ：\n",
    "    以机械设备行业为例，处理股价信息\n",
    "    - 数据清洗，标准化\n",
    "    - 提取季度数据，取3 6 9 12月末收盘价，导出为price处理后.xlsx\n",
    "    - 选择上市超过15年的公司，即空值不超过20，导出为price15year.xlsx\n",
    "    - 去除中间中断的公司（潍柴重机000880.SZ）导出为price59c.xlsx\n",
    "    剩下59家公司\n",
    "'''"
   ],
   "cell_type": "markdown",
   "metadata": {}
  },
  {
   "cell_type": "code",
   "execution_count": 1,
   "metadata": {},
   "outputs": [],
   "source": [
    "import pandas as pd\n",
    "import numpy as np\n",
    "import matplotlib.pyplot as plt\n",
    "from datetime import datetime"
   ]
  },
  {
   "source": [
    "## 预处理价格数据"
   ],
   "cell_type": "markdown",
   "metadata": {}
  },
  {
   "cell_type": "code",
   "execution_count": 3,
   "metadata": {},
   "outputs": [],
   "source": [
    "filePath = \"price前复权.xlsx\"\n",
    "raw = pd.read_excel(filePath)"
   ]
  },
  {
   "cell_type": "code",
   "execution_count": 4,
   "metadata": {},
   "outputs": [
    {
     "output_type": "execute_result",
     "data": {
      "text/plain": [
       "          日期 神州高铁000008.SZ 中集集团000039.SZ 中联重科000157.SZ *ST沈机000410.SZ  \\\n",
       "0 1992-05-29        1.1737            --            --             --   \n",
       "1 1992-06-30        1.0777            --            --             --   \n",
       "2 1992-07-31        1.1067            --            --             --   \n",
       "3 1992-08-31        0.9818            --            --             --   \n",
       "4 1992-09-30        0.9110            --            --             --   \n",
       "\n",
       "  徐工机械000425.SZ 柳工000528.SZ 冰山冷热000530.SZ 创元科技000551.SZ 苏常柴A000570.SZ  ...  \\\n",
       "0            --          --            --            --            --  ...   \n",
       "1            --          --            --            --            --  ...   \n",
       "2            --          --            --            --            --  ...   \n",
       "3            --          --            --            --            --  ...   \n",
       "4            --          --            --            --            --  ...   \n",
       "\n",
       "  正帆科技688596.SH 皖仪科技688600.SH 奥普特688686.SH 创远仪器831961.OC 三友科技834475.OC  \\\n",
       "0            --            --           --            --            --   \n",
       "1            --            --           --            --            --   \n",
       "2            --            --           --            --            --   \n",
       "3            --            --           --            --            --   \n",
       "4            --            --           --            --            --   \n",
       "\n",
       "  连城数控835368.OC 上柴B股900920.SH 上工B股900924.SH 机电B股900925.SH 振华B股900947.SH  \n",
       "0            --            --            --            --            --  \n",
       "1            --            --            --            --            --  \n",
       "2            --            --            --            --            --  \n",
       "3            --            --            --            --            --  \n",
       "4            --            --            --            --            --  \n",
       "\n",
       "[5 rows x 414 columns]"
      ],
      "text/html": "<div>\n<style scoped>\n    .dataframe tbody tr th:only-of-type {\n        vertical-align: middle;\n    }\n\n    .dataframe tbody tr th {\n        vertical-align: top;\n    }\n\n    .dataframe thead th {\n        text-align: right;\n    }\n</style>\n<table border=\"1\" class=\"dataframe\">\n  <thead>\n    <tr style=\"text-align: right;\">\n      <th></th>\n      <th>日期</th>\n      <th>神州高铁000008.SZ</th>\n      <th>中集集团000039.SZ</th>\n      <th>中联重科000157.SZ</th>\n      <th>*ST沈机000410.SZ</th>\n      <th>徐工机械000425.SZ</th>\n      <th>柳工000528.SZ</th>\n      <th>冰山冷热000530.SZ</th>\n      <th>创元科技000551.SZ</th>\n      <th>苏常柴A000570.SZ</th>\n      <th>...</th>\n      <th>正帆科技688596.SH</th>\n      <th>皖仪科技688600.SH</th>\n      <th>奥普特688686.SH</th>\n      <th>创远仪器831961.OC</th>\n      <th>三友科技834475.OC</th>\n      <th>连城数控835368.OC</th>\n      <th>上柴B股900920.SH</th>\n      <th>上工B股900924.SH</th>\n      <th>机电B股900925.SH</th>\n      <th>振华B股900947.SH</th>\n    </tr>\n  </thead>\n  <tbody>\n    <tr>\n      <th>0</th>\n      <td>1992-05-29</td>\n      <td>1.1737</td>\n      <td>--</td>\n      <td>--</td>\n      <td>--</td>\n      <td>--</td>\n      <td>--</td>\n      <td>--</td>\n      <td>--</td>\n      <td>--</td>\n      <td>...</td>\n      <td>--</td>\n      <td>--</td>\n      <td>--</td>\n      <td>--</td>\n      <td>--</td>\n      <td>--</td>\n      <td>--</td>\n      <td>--</td>\n      <td>--</td>\n      <td>--</td>\n    </tr>\n    <tr>\n      <th>1</th>\n      <td>1992-06-30</td>\n      <td>1.0777</td>\n      <td>--</td>\n      <td>--</td>\n      <td>--</td>\n      <td>--</td>\n      <td>--</td>\n      <td>--</td>\n      <td>--</td>\n      <td>--</td>\n      <td>...</td>\n      <td>--</td>\n      <td>--</td>\n      <td>--</td>\n      <td>--</td>\n      <td>--</td>\n      <td>--</td>\n      <td>--</td>\n      <td>--</td>\n      <td>--</td>\n      <td>--</td>\n    </tr>\n    <tr>\n      <th>2</th>\n      <td>1992-07-31</td>\n      <td>1.1067</td>\n      <td>--</td>\n      <td>--</td>\n      <td>--</td>\n      <td>--</td>\n      <td>--</td>\n      <td>--</td>\n      <td>--</td>\n      <td>--</td>\n      <td>...</td>\n      <td>--</td>\n      <td>--</td>\n      <td>--</td>\n      <td>--</td>\n      <td>--</td>\n      <td>--</td>\n      <td>--</td>\n      <td>--</td>\n      <td>--</td>\n      <td>--</td>\n    </tr>\n    <tr>\n      <th>3</th>\n      <td>1992-08-31</td>\n      <td>0.9818</td>\n      <td>--</td>\n      <td>--</td>\n      <td>--</td>\n      <td>--</td>\n      <td>--</td>\n      <td>--</td>\n      <td>--</td>\n      <td>--</td>\n      <td>...</td>\n      <td>--</td>\n      <td>--</td>\n      <td>--</td>\n      <td>--</td>\n      <td>--</td>\n      <td>--</td>\n      <td>--</td>\n      <td>--</td>\n      <td>--</td>\n      <td>--</td>\n    </tr>\n    <tr>\n      <th>4</th>\n      <td>1992-09-30</td>\n      <td>0.9110</td>\n      <td>--</td>\n      <td>--</td>\n      <td>--</td>\n      <td>--</td>\n      <td>--</td>\n      <td>--</td>\n      <td>--</td>\n      <td>--</td>\n      <td>...</td>\n      <td>--</td>\n      <td>--</td>\n      <td>--</td>\n      <td>--</td>\n      <td>--</td>\n      <td>--</td>\n      <td>--</td>\n      <td>--</td>\n      <td>--</td>\n      <td>--</td>\n    </tr>\n  </tbody>\n</table>\n<p>5 rows × 414 columns</p>\n</div>"
     },
     "metadata": {},
     "execution_count": 4
    }
   ],
   "source": [
    "raw.head()"
   ]
  },
  {
   "cell_type": "code",
   "execution_count": 5,
   "metadata": {},
   "outputs": [
    {
     "output_type": "execute_result",
     "data": {
      "text/plain": [
       "           神州高铁000008.SZ 中集集团000039.SZ 中联重科000157.SZ *ST沈机000410.SZ  \\\n",
       "日期                                                                    \n",
       "1992-05-29        1.1737            --            --             --   \n",
       "1992-06-30        1.0777            --            --             --   \n",
       "1992-07-31        1.1067            --            --             --   \n",
       "1992-08-31        0.9818            --            --             --   \n",
       "1992-09-30        0.9110            --            --             --   \n",
       "\n",
       "           徐工机械000425.SZ 柳工000528.SZ 冰山冷热000530.SZ 创元科技000551.SZ  \\\n",
       "日期                                                                 \n",
       "1992-05-29            --          --            --            --   \n",
       "1992-06-30            --          --            --            --   \n",
       "1992-07-31            --          --            --            --   \n",
       "1992-08-31            --          --            --            --   \n",
       "1992-09-30            --          --            --            --   \n",
       "\n",
       "           苏常柴A000570.SZ 哈工智能000584.SZ  ... 正帆科技688596.SH 皖仪科技688600.SH  \\\n",
       "日期                                      ...                               \n",
       "1992-05-29            --            --  ...            --            --   \n",
       "1992-06-30            --            --  ...            --            --   \n",
       "1992-07-31            --            --  ...            --            --   \n",
       "1992-08-31            --            --  ...            --            --   \n",
       "1992-09-30            --            --  ...            --            --   \n",
       "\n",
       "           奥普特688686.SH 创远仪器831961.OC 三友科技834475.OC 连城数控835368.OC  \\\n",
       "日期                                                                  \n",
       "1992-05-29           --            --            --            --   \n",
       "1992-06-30           --            --            --            --   \n",
       "1992-07-31           --            --            --            --   \n",
       "1992-08-31           --            --            --            --   \n",
       "1992-09-30           --            --            --            --   \n",
       "\n",
       "           上柴B股900920.SH 上工B股900924.SH 机电B股900925.SH 振华B股900947.SH  \n",
       "日期                                                                  \n",
       "1992-05-29            --            --            --            --  \n",
       "1992-06-30            --            --            --            --  \n",
       "1992-07-31            --            --            --            --  \n",
       "1992-08-31            --            --            --            --  \n",
       "1992-09-30            --            --            --            --  \n",
       "\n",
       "[5 rows x 413 columns]"
      ],
      "text/html": "<div>\n<style scoped>\n    .dataframe tbody tr th:only-of-type {\n        vertical-align: middle;\n    }\n\n    .dataframe tbody tr th {\n        vertical-align: top;\n    }\n\n    .dataframe thead th {\n        text-align: right;\n    }\n</style>\n<table border=\"1\" class=\"dataframe\">\n  <thead>\n    <tr style=\"text-align: right;\">\n      <th></th>\n      <th>神州高铁000008.SZ</th>\n      <th>中集集团000039.SZ</th>\n      <th>中联重科000157.SZ</th>\n      <th>*ST沈机000410.SZ</th>\n      <th>徐工机械000425.SZ</th>\n      <th>柳工000528.SZ</th>\n      <th>冰山冷热000530.SZ</th>\n      <th>创元科技000551.SZ</th>\n      <th>苏常柴A000570.SZ</th>\n      <th>哈工智能000584.SZ</th>\n      <th>...</th>\n      <th>正帆科技688596.SH</th>\n      <th>皖仪科技688600.SH</th>\n      <th>奥普特688686.SH</th>\n      <th>创远仪器831961.OC</th>\n      <th>三友科技834475.OC</th>\n      <th>连城数控835368.OC</th>\n      <th>上柴B股900920.SH</th>\n      <th>上工B股900924.SH</th>\n      <th>机电B股900925.SH</th>\n      <th>振华B股900947.SH</th>\n    </tr>\n    <tr>\n      <th>日期</th>\n      <th></th>\n      <th></th>\n      <th></th>\n      <th></th>\n      <th></th>\n      <th></th>\n      <th></th>\n      <th></th>\n      <th></th>\n      <th></th>\n      <th></th>\n      <th></th>\n      <th></th>\n      <th></th>\n      <th></th>\n      <th></th>\n      <th></th>\n      <th></th>\n      <th></th>\n      <th></th>\n      <th></th>\n    </tr>\n  </thead>\n  <tbody>\n    <tr>\n      <th>1992-05-29</th>\n      <td>1.1737</td>\n      <td>--</td>\n      <td>--</td>\n      <td>--</td>\n      <td>--</td>\n      <td>--</td>\n      <td>--</td>\n      <td>--</td>\n      <td>--</td>\n      <td>--</td>\n      <td>...</td>\n      <td>--</td>\n      <td>--</td>\n      <td>--</td>\n      <td>--</td>\n      <td>--</td>\n      <td>--</td>\n      <td>--</td>\n      <td>--</td>\n      <td>--</td>\n      <td>--</td>\n    </tr>\n    <tr>\n      <th>1992-06-30</th>\n      <td>1.0777</td>\n      <td>--</td>\n      <td>--</td>\n      <td>--</td>\n      <td>--</td>\n      <td>--</td>\n      <td>--</td>\n      <td>--</td>\n      <td>--</td>\n      <td>--</td>\n      <td>...</td>\n      <td>--</td>\n      <td>--</td>\n      <td>--</td>\n      <td>--</td>\n      <td>--</td>\n      <td>--</td>\n      <td>--</td>\n      <td>--</td>\n      <td>--</td>\n      <td>--</td>\n    </tr>\n    <tr>\n      <th>1992-07-31</th>\n      <td>1.1067</td>\n      <td>--</td>\n      <td>--</td>\n      <td>--</td>\n      <td>--</td>\n      <td>--</td>\n      <td>--</td>\n      <td>--</td>\n      <td>--</td>\n      <td>--</td>\n      <td>...</td>\n      <td>--</td>\n      <td>--</td>\n      <td>--</td>\n      <td>--</td>\n      <td>--</td>\n      <td>--</td>\n      <td>--</td>\n      <td>--</td>\n      <td>--</td>\n      <td>--</td>\n    </tr>\n    <tr>\n      <th>1992-08-31</th>\n      <td>0.9818</td>\n      <td>--</td>\n      <td>--</td>\n      <td>--</td>\n      <td>--</td>\n      <td>--</td>\n      <td>--</td>\n      <td>--</td>\n      <td>--</td>\n      <td>--</td>\n      <td>...</td>\n      <td>--</td>\n      <td>--</td>\n      <td>--</td>\n      <td>--</td>\n      <td>--</td>\n      <td>--</td>\n      <td>--</td>\n      <td>--</td>\n      <td>--</td>\n      <td>--</td>\n    </tr>\n    <tr>\n      <th>1992-09-30</th>\n      <td>0.9110</td>\n      <td>--</td>\n      <td>--</td>\n      <td>--</td>\n      <td>--</td>\n      <td>--</td>\n      <td>--</td>\n      <td>--</td>\n      <td>--</td>\n      <td>--</td>\n      <td>...</td>\n      <td>--</td>\n      <td>--</td>\n      <td>--</td>\n      <td>--</td>\n      <td>--</td>\n      <td>--</td>\n      <td>--</td>\n      <td>--</td>\n      <td>--</td>\n      <td>--</td>\n    </tr>\n  </tbody>\n</table>\n<p>5 rows × 413 columns</p>\n</div>"
     },
     "metadata": {},
     "execution_count": 5
    }
   ],
   "source": [
    "# 将时间设置为index\n",
    "raw[\"日期\"] = pd.to_datetime(raw[\"日期\"])\n",
    "raw.set_index(\"日期\", inplace=True)\n",
    "raw.head()"
   ]
  },
  {
   "cell_type": "code",
   "execution_count": 6,
   "metadata": {},
   "outputs": [
    {
     "output_type": "execute_result",
     "data": {
      "text/plain": [
       "           神州高铁000008.SZ 中集集团000039.SZ 中联重科000157.SZ 徐工机械000425.SZ  \\\n",
       "日期                                                                   \n",
       "1992-05-29        1.1737            --            --            --   \n",
       "1992-06-30        1.0777            --            --            --   \n",
       "1992-07-31        1.1067            --            --            --   \n",
       "1992-08-31        0.9818            --            --            --   \n",
       "1992-09-30        0.9110            --            --            --   \n",
       "\n",
       "           柳工000528.SZ 冰山冷热000530.SZ 创元科技000551.SZ 苏常柴A000570.SZ  \\\n",
       "日期                                                                 \n",
       "1992-05-29          --            --            --            --   \n",
       "1992-06-30          --            --            --            --   \n",
       "1992-07-31          --            --            --            --   \n",
       "1992-08-31          --            --            --            --   \n",
       "1992-09-30          --            --            --            --   \n",
       "\n",
       "           哈工智能000584.SZ 山推股份000680.SZ  ... 正帆科技688596.SH 皖仪科技688600.SH  \\\n",
       "日期                                      ...                               \n",
       "1992-05-29            --            --  ...            --            --   \n",
       "1992-06-30            --            --  ...            --            --   \n",
       "1992-07-31            --            --  ...            --            --   \n",
       "1992-08-31            --            --  ...            --            --   \n",
       "1992-09-30            --            --  ...            --            --   \n",
       "\n",
       "           奥普特688686.SH 创远仪器831961.OC 三友科技834475.OC 连城数控835368.OC  \\\n",
       "日期                                                                  \n",
       "1992-05-29           --            --            --            --   \n",
       "1992-06-30           --            --            --            --   \n",
       "1992-07-31           --            --            --            --   \n",
       "1992-08-31           --            --            --            --   \n",
       "1992-09-30           --            --            --            --   \n",
       "\n",
       "           上柴B股900920.SH 上工B股900924.SH 机电B股900925.SH 振华B股900947.SH  \n",
       "日期                                                                  \n",
       "1992-05-29            --            --            --            --  \n",
       "1992-06-30            --            --            --            --  \n",
       "1992-07-31            --            --            --            --  \n",
       "1992-08-31            --            --            --            --  \n",
       "1992-09-30            --            --            --            --  \n",
       "\n",
       "[5 rows x 398 columns]"
      ],
      "text/html": "<div>\n<style scoped>\n    .dataframe tbody tr th:only-of-type {\n        vertical-align: middle;\n    }\n\n    .dataframe tbody tr th {\n        vertical-align: top;\n    }\n\n    .dataframe thead th {\n        text-align: right;\n    }\n</style>\n<table border=\"1\" class=\"dataframe\">\n  <thead>\n    <tr style=\"text-align: right;\">\n      <th></th>\n      <th>神州高铁000008.SZ</th>\n      <th>中集集团000039.SZ</th>\n      <th>中联重科000157.SZ</th>\n      <th>徐工机械000425.SZ</th>\n      <th>柳工000528.SZ</th>\n      <th>冰山冷热000530.SZ</th>\n      <th>创元科技000551.SZ</th>\n      <th>苏常柴A000570.SZ</th>\n      <th>哈工智能000584.SZ</th>\n      <th>山推股份000680.SZ</th>\n      <th>...</th>\n      <th>正帆科技688596.SH</th>\n      <th>皖仪科技688600.SH</th>\n      <th>奥普特688686.SH</th>\n      <th>创远仪器831961.OC</th>\n      <th>三友科技834475.OC</th>\n      <th>连城数控835368.OC</th>\n      <th>上柴B股900920.SH</th>\n      <th>上工B股900924.SH</th>\n      <th>机电B股900925.SH</th>\n      <th>振华B股900947.SH</th>\n    </tr>\n    <tr>\n      <th>日期</th>\n      <th></th>\n      <th></th>\n      <th></th>\n      <th></th>\n      <th></th>\n      <th></th>\n      <th></th>\n      <th></th>\n      <th></th>\n      <th></th>\n      <th></th>\n      <th></th>\n      <th></th>\n      <th></th>\n      <th></th>\n      <th></th>\n      <th></th>\n      <th></th>\n      <th></th>\n      <th></th>\n      <th></th>\n    </tr>\n  </thead>\n  <tbody>\n    <tr>\n      <th>1992-05-29</th>\n      <td>1.1737</td>\n      <td>--</td>\n      <td>--</td>\n      <td>--</td>\n      <td>--</td>\n      <td>--</td>\n      <td>--</td>\n      <td>--</td>\n      <td>--</td>\n      <td>--</td>\n      <td>...</td>\n      <td>--</td>\n      <td>--</td>\n      <td>--</td>\n      <td>--</td>\n      <td>--</td>\n      <td>--</td>\n      <td>--</td>\n      <td>--</td>\n      <td>--</td>\n      <td>--</td>\n    </tr>\n    <tr>\n      <th>1992-06-30</th>\n      <td>1.0777</td>\n      <td>--</td>\n      <td>--</td>\n      <td>--</td>\n      <td>--</td>\n      <td>--</td>\n      <td>--</td>\n      <td>--</td>\n      <td>--</td>\n      <td>--</td>\n      <td>...</td>\n      <td>--</td>\n      <td>--</td>\n      <td>--</td>\n      <td>--</td>\n      <td>--</td>\n      <td>--</td>\n      <td>--</td>\n      <td>--</td>\n      <td>--</td>\n      <td>--</td>\n    </tr>\n    <tr>\n      <th>1992-07-31</th>\n      <td>1.1067</td>\n      <td>--</td>\n      <td>--</td>\n      <td>--</td>\n      <td>--</td>\n      <td>--</td>\n      <td>--</td>\n      <td>--</td>\n      <td>--</td>\n      <td>--</td>\n      <td>...</td>\n      <td>--</td>\n      <td>--</td>\n      <td>--</td>\n      <td>--</td>\n      <td>--</td>\n      <td>--</td>\n      <td>--</td>\n      <td>--</td>\n      <td>--</td>\n      <td>--</td>\n    </tr>\n    <tr>\n      <th>1992-08-31</th>\n      <td>0.9818</td>\n      <td>--</td>\n      <td>--</td>\n      <td>--</td>\n      <td>--</td>\n      <td>--</td>\n      <td>--</td>\n      <td>--</td>\n      <td>--</td>\n      <td>--</td>\n      <td>...</td>\n      <td>--</td>\n      <td>--</td>\n      <td>--</td>\n      <td>--</td>\n      <td>--</td>\n      <td>--</td>\n      <td>--</td>\n      <td>--</td>\n      <td>--</td>\n      <td>--</td>\n    </tr>\n    <tr>\n      <th>1992-09-30</th>\n      <td>0.9110</td>\n      <td>--</td>\n      <td>--</td>\n      <td>--</td>\n      <td>--</td>\n      <td>--</td>\n      <td>--</td>\n      <td>--</td>\n      <td>--</td>\n      <td>--</td>\n      <td>...</td>\n      <td>--</td>\n      <td>--</td>\n      <td>--</td>\n      <td>--</td>\n      <td>--</td>\n      <td>--</td>\n      <td>--</td>\n      <td>--</td>\n      <td>--</td>\n      <td>--</td>\n    </tr>\n  </tbody>\n</table>\n<p>5 rows × 398 columns</p>\n</div>"
     },
     "metadata": {},
     "execution_count": 6
    }
   ],
   "source": [
    "# 删除ST\n",
    "drop = [each for each in raw.columns if \"ST\" in each]\n",
    "raw.drop(drop, axis=1, inplace=True)\n",
    "raw.head()"
   ]
  },
  {
   "source": [
    "## 选出机械设备的股票季度收盘价\n",
    "选择3、6、9、12月份四个月份的收盘价"
   ],
   "cell_type": "markdown",
   "metadata": {}
  },
  {
   "cell_type": "code",
   "execution_count": 7,
   "metadata": {},
   "outputs": [
    {
     "output_type": "execute_result",
     "data": {
      "text/plain": [
       "        code  name  2000-03  2000-06  2000-09  2000-12  2001-03  2001-06  \\\n",
       "0  000008.SZ  神州高铁      NaN      NaN      NaN      NaN      NaN      NaN   \n",
       "1  000039.SZ  中集集团      NaN      NaN      NaN      NaN      NaN      NaN   \n",
       "2  000157.SZ  中联重科      NaN      NaN      NaN      NaN      NaN      NaN   \n",
       "3  000425.SZ  徐工机械      NaN      NaN      NaN      NaN      NaN      NaN   \n",
       "4  000528.SZ    柳工      NaN      NaN      NaN      NaN      NaN      NaN   \n",
       "\n",
       "   2001-09  2001-12  ...  2018-09  2018-12  2019-03  2019-06  2019-09  \\\n",
       "0      NaN      NaN  ...   0.8794   2.7954   0.1604   0.7463   1.1356   \n",
       "1      NaN   1.5906  ...   4.2918   3.0535   1.0623   0.7117  -0.1142   \n",
       "2      NaN   3.7083  ...   1.1780   1.8944   2.5903   4.1326   2.4141   \n",
       "3      NaN      NaN  ...   1.5403   1.8615   3.4380   3.9074   2.2892   \n",
       "4      NaN      NaN  ...   1.2561   0.7812   3.1375   3.6226   2.2035   \n",
       "\n",
       "   2019-12  2020-03  2020-06  2020-09  2020-12  \n",
       "0   3.9001  -1.4616  -2.5378   0.7020      NaN  \n",
       "1   2.3391  -1.6447   1.1583   2.1542      NaN  \n",
       "2   2.3247   2.6003   7.0930   3.6814      NaN  \n",
       "3   1.8277   1.8240   4.2272   1.1084      NaN  \n",
       "4   1.3220   1.6257   4.7731   2.8909      NaN  \n",
       "\n",
       "[5 rows x 86 columns]"
      ],
      "text/html": "<div>\n<style scoped>\n    .dataframe tbody tr th:only-of-type {\n        vertical-align: middle;\n    }\n\n    .dataframe tbody tr th {\n        vertical-align: top;\n    }\n\n    .dataframe thead th {\n        text-align: right;\n    }\n</style>\n<table border=\"1\" class=\"dataframe\">\n  <thead>\n    <tr style=\"text-align: right;\">\n      <th></th>\n      <th>code</th>\n      <th>name</th>\n      <th>2000-03</th>\n      <th>2000-06</th>\n      <th>2000-09</th>\n      <th>2000-12</th>\n      <th>2001-03</th>\n      <th>2001-06</th>\n      <th>2001-09</th>\n      <th>2001-12</th>\n      <th>...</th>\n      <th>2018-09</th>\n      <th>2018-12</th>\n      <th>2019-03</th>\n      <th>2019-06</th>\n      <th>2019-09</th>\n      <th>2019-12</th>\n      <th>2020-03</th>\n      <th>2020-06</th>\n      <th>2020-09</th>\n      <th>2020-12</th>\n    </tr>\n  </thead>\n  <tbody>\n    <tr>\n      <th>0</th>\n      <td>000008.SZ</td>\n      <td>神州高铁</td>\n      <td>NaN</td>\n      <td>NaN</td>\n      <td>NaN</td>\n      <td>NaN</td>\n      <td>NaN</td>\n      <td>NaN</td>\n      <td>NaN</td>\n      <td>NaN</td>\n      <td>...</td>\n      <td>0.8794</td>\n      <td>2.7954</td>\n      <td>0.1604</td>\n      <td>0.7463</td>\n      <td>1.1356</td>\n      <td>3.9001</td>\n      <td>-1.4616</td>\n      <td>-2.5378</td>\n      <td>0.7020</td>\n      <td>NaN</td>\n    </tr>\n    <tr>\n      <th>1</th>\n      <td>000039.SZ</td>\n      <td>中集集团</td>\n      <td>NaN</td>\n      <td>NaN</td>\n      <td>NaN</td>\n      <td>NaN</td>\n      <td>NaN</td>\n      <td>NaN</td>\n      <td>NaN</td>\n      <td>1.5906</td>\n      <td>...</td>\n      <td>4.2918</td>\n      <td>3.0535</td>\n      <td>1.0623</td>\n      <td>0.7117</td>\n      <td>-0.1142</td>\n      <td>2.3391</td>\n      <td>-1.6447</td>\n      <td>1.1583</td>\n      <td>2.1542</td>\n      <td>NaN</td>\n    </tr>\n    <tr>\n      <th>2</th>\n      <td>000157.SZ</td>\n      <td>中联重科</td>\n      <td>NaN</td>\n      <td>NaN</td>\n      <td>NaN</td>\n      <td>NaN</td>\n      <td>NaN</td>\n      <td>NaN</td>\n      <td>NaN</td>\n      <td>3.7083</td>\n      <td>...</td>\n      <td>1.1780</td>\n      <td>1.8944</td>\n      <td>2.5903</td>\n      <td>4.1326</td>\n      <td>2.4141</td>\n      <td>2.3247</td>\n      <td>2.6003</td>\n      <td>7.0930</td>\n      <td>3.6814</td>\n      <td>NaN</td>\n    </tr>\n    <tr>\n      <th>3</th>\n      <td>000425.SZ</td>\n      <td>徐工机械</td>\n      <td>NaN</td>\n      <td>NaN</td>\n      <td>NaN</td>\n      <td>NaN</td>\n      <td>NaN</td>\n      <td>NaN</td>\n      <td>NaN</td>\n      <td>NaN</td>\n      <td>...</td>\n      <td>1.5403</td>\n      <td>1.8615</td>\n      <td>3.4380</td>\n      <td>3.9074</td>\n      <td>2.2892</td>\n      <td>1.8277</td>\n      <td>1.8240</td>\n      <td>4.2272</td>\n      <td>1.1084</td>\n      <td>NaN</td>\n    </tr>\n    <tr>\n      <th>4</th>\n      <td>000528.SZ</td>\n      <td>柳工</td>\n      <td>NaN</td>\n      <td>NaN</td>\n      <td>NaN</td>\n      <td>NaN</td>\n      <td>NaN</td>\n      <td>NaN</td>\n      <td>NaN</td>\n      <td>NaN</td>\n      <td>...</td>\n      <td>1.2561</td>\n      <td>0.7812</td>\n      <td>3.1375</td>\n      <td>3.6226</td>\n      <td>2.2035</td>\n      <td>1.3220</td>\n      <td>1.6257</td>\n      <td>4.7731</td>\n      <td>2.8909</td>\n      <td>NaN</td>\n    </tr>\n  </tbody>\n</table>\n<p>5 rows × 86 columns</p>\n</div>"
     },
     "metadata": {},
     "execution_count": 7
    }
   ],
   "source": [
    "# 从中筛选出机械的股票\n",
    "machineROEFile = \"机械roeData.xlsx\"\n",
    "roe = pd.read_excel(machineROEFile)\n",
    "roe.head()"
   ]
  },
  {
   "cell_type": "code",
   "execution_count": 8,
   "metadata": {},
   "outputs": [
    {
     "output_type": "stream",
     "name": "stdout",
     "text": [
      "398\n"
     ]
    }
   ],
   "source": [
    "# name+code获得一列\n",
    "df = pd.DataFrame()\n",
    "df[\"name\"] = roe[\"name\"]+roe[\"code\"]\n",
    "values = df[\"name\"].values  # array\n",
    "print(len(values))"
   ]
  },
  {
   "cell_type": "code",
   "execution_count": 9,
   "metadata": {},
   "outputs": [],
   "source": [
    "data = raw[values]"
   ]
  },
  {
   "cell_type": "code",
   "execution_count": 10,
   "metadata": {},
   "outputs": [
    {
     "output_type": "execute_result",
     "data": {
      "text/plain": [
       "           神州高铁000008.SZ 中集集团000039.SZ 中联重科000157.SZ 徐工机械000425.SZ  \\\n",
       "日期                                                                   \n",
       "1992-05-29        1.1737            --            --            --   \n",
       "1992-06-30        1.0777            --            --            --   \n",
       "1992-07-31        1.1067            --            --            --   \n",
       "1992-08-31        0.9818            --            --            --   \n",
       "1992-09-30        0.9110            --            --            --   \n",
       "\n",
       "           柳工000528.SZ 冰山冷热000530.SZ 创元科技000551.SZ 苏常柴A000570.SZ  \\\n",
       "日期                                                                 \n",
       "1992-05-29          --            --            --            --   \n",
       "1992-06-30          --            --            --            --   \n",
       "1992-07-31          --            --            --            --   \n",
       "1992-08-31          --            --            --            --   \n",
       "1992-09-30          --            --            --            --   \n",
       "\n",
       "           哈工智能000584.SZ 山推股份000680.SZ  ... 正帆科技688596.SH 皖仪科技688600.SH  \\\n",
       "日期                                      ...                               \n",
       "1992-05-29            --            --  ...            --            --   \n",
       "1992-06-30            --            --  ...            --            --   \n",
       "1992-07-31            --            --  ...            --            --   \n",
       "1992-08-31            --            --  ...            --            --   \n",
       "1992-09-30            --            --  ...            --            --   \n",
       "\n",
       "           奥普特688686.SH 创远仪器831961.OC 三友科技834475.OC 连城数控835368.OC  \\\n",
       "日期                                                                  \n",
       "1992-05-29           --            --            --            --   \n",
       "1992-06-30           --            --            --            --   \n",
       "1992-07-31           --            --            --            --   \n",
       "1992-08-31           --            --            --            --   \n",
       "1992-09-30           --            --            --            --   \n",
       "\n",
       "           上柴B股900920.SH 上工B股900924.SH 机电B股900925.SH 振华B股900947.SH  \n",
       "日期                                                                  \n",
       "1992-05-29            --            --            --            --  \n",
       "1992-06-30            --            --            --            --  \n",
       "1992-07-31            --            --            --            --  \n",
       "1992-08-31            --            --            --            --  \n",
       "1992-09-30            --            --            --            --  \n",
       "\n",
       "[5 rows x 398 columns]"
      ],
      "text/html": "<div>\n<style scoped>\n    .dataframe tbody tr th:only-of-type {\n        vertical-align: middle;\n    }\n\n    .dataframe tbody tr th {\n        vertical-align: top;\n    }\n\n    .dataframe thead th {\n        text-align: right;\n    }\n</style>\n<table border=\"1\" class=\"dataframe\">\n  <thead>\n    <tr style=\"text-align: right;\">\n      <th></th>\n      <th>神州高铁000008.SZ</th>\n      <th>中集集团000039.SZ</th>\n      <th>中联重科000157.SZ</th>\n      <th>徐工机械000425.SZ</th>\n      <th>柳工000528.SZ</th>\n      <th>冰山冷热000530.SZ</th>\n      <th>创元科技000551.SZ</th>\n      <th>苏常柴A000570.SZ</th>\n      <th>哈工智能000584.SZ</th>\n      <th>山推股份000680.SZ</th>\n      <th>...</th>\n      <th>正帆科技688596.SH</th>\n      <th>皖仪科技688600.SH</th>\n      <th>奥普特688686.SH</th>\n      <th>创远仪器831961.OC</th>\n      <th>三友科技834475.OC</th>\n      <th>连城数控835368.OC</th>\n      <th>上柴B股900920.SH</th>\n      <th>上工B股900924.SH</th>\n      <th>机电B股900925.SH</th>\n      <th>振华B股900947.SH</th>\n    </tr>\n    <tr>\n      <th>日期</th>\n      <th></th>\n      <th></th>\n      <th></th>\n      <th></th>\n      <th></th>\n      <th></th>\n      <th></th>\n      <th></th>\n      <th></th>\n      <th></th>\n      <th></th>\n      <th></th>\n      <th></th>\n      <th></th>\n      <th></th>\n      <th></th>\n      <th></th>\n      <th></th>\n      <th></th>\n      <th></th>\n      <th></th>\n    </tr>\n  </thead>\n  <tbody>\n    <tr>\n      <th>1992-05-29</th>\n      <td>1.1737</td>\n      <td>--</td>\n      <td>--</td>\n      <td>--</td>\n      <td>--</td>\n      <td>--</td>\n      <td>--</td>\n      <td>--</td>\n      <td>--</td>\n      <td>--</td>\n      <td>...</td>\n      <td>--</td>\n      <td>--</td>\n      <td>--</td>\n      <td>--</td>\n      <td>--</td>\n      <td>--</td>\n      <td>--</td>\n      <td>--</td>\n      <td>--</td>\n      <td>--</td>\n    </tr>\n    <tr>\n      <th>1992-06-30</th>\n      <td>1.0777</td>\n      <td>--</td>\n      <td>--</td>\n      <td>--</td>\n      <td>--</td>\n      <td>--</td>\n      <td>--</td>\n      <td>--</td>\n      <td>--</td>\n      <td>--</td>\n      <td>...</td>\n      <td>--</td>\n      <td>--</td>\n      <td>--</td>\n      <td>--</td>\n      <td>--</td>\n      <td>--</td>\n      <td>--</td>\n      <td>--</td>\n      <td>--</td>\n      <td>--</td>\n    </tr>\n    <tr>\n      <th>1992-07-31</th>\n      <td>1.1067</td>\n      <td>--</td>\n      <td>--</td>\n      <td>--</td>\n      <td>--</td>\n      <td>--</td>\n      <td>--</td>\n      <td>--</td>\n      <td>--</td>\n      <td>--</td>\n      <td>...</td>\n      <td>--</td>\n      <td>--</td>\n      <td>--</td>\n      <td>--</td>\n      <td>--</td>\n      <td>--</td>\n      <td>--</td>\n      <td>--</td>\n      <td>--</td>\n      <td>--</td>\n    </tr>\n    <tr>\n      <th>1992-08-31</th>\n      <td>0.9818</td>\n      <td>--</td>\n      <td>--</td>\n      <td>--</td>\n      <td>--</td>\n      <td>--</td>\n      <td>--</td>\n      <td>--</td>\n      <td>--</td>\n      <td>--</td>\n      <td>...</td>\n      <td>--</td>\n      <td>--</td>\n      <td>--</td>\n      <td>--</td>\n      <td>--</td>\n      <td>--</td>\n      <td>--</td>\n      <td>--</td>\n      <td>--</td>\n      <td>--</td>\n    </tr>\n    <tr>\n      <th>1992-09-30</th>\n      <td>0.9110</td>\n      <td>--</td>\n      <td>--</td>\n      <td>--</td>\n      <td>--</td>\n      <td>--</td>\n      <td>--</td>\n      <td>--</td>\n      <td>--</td>\n      <td>--</td>\n      <td>...</td>\n      <td>--</td>\n      <td>--</td>\n      <td>--</td>\n      <td>--</td>\n      <td>--</td>\n      <td>--</td>\n      <td>--</td>\n      <td>--</td>\n      <td>--</td>\n      <td>--</td>\n    </tr>\n  </tbody>\n</table>\n<p>5 rows × 398 columns</p>\n</div>"
     },
     "metadata": {},
     "execution_count": 10
    }
   ],
   "source": [
    "data.head()"
   ]
  },
  {
   "cell_type": "code",
   "execution_count": 11,
   "metadata": {},
   "outputs": [],
   "source": [
    "data.replace(\"--\",np.nan,inplace=True)"
   ]
  },
  {
   "cell_type": "code",
   "execution_count": 12,
   "metadata": {},
   "outputs": [
    {
     "output_type": "execute_result",
     "data": {
      "text/plain": [
       "            神州高铁000008.SZ  中集集团000039.SZ  中联重科000157.SZ  徐工机械000425.SZ  \\\n",
       "日期                                                                       \n",
       "1992-05-29         1.1737            NaN            NaN            NaN   \n",
       "1992-06-30         1.0777            NaN            NaN            NaN   \n",
       "1992-07-31         1.1067            NaN            NaN            NaN   \n",
       "1992-08-31         0.9818            NaN            NaN            NaN   \n",
       "1992-09-30         0.9110            NaN            NaN            NaN   \n",
       "\n",
       "            柳工000528.SZ  冰山冷热000530.SZ  创元科技000551.SZ  苏常柴A000570.SZ  \\\n",
       "日期                                                                     \n",
       "1992-05-29          NaN            NaN            NaN            NaN   \n",
       "1992-06-30          NaN            NaN            NaN            NaN   \n",
       "1992-07-31          NaN            NaN            NaN            NaN   \n",
       "1992-08-31          NaN            NaN            NaN            NaN   \n",
       "1992-09-30          NaN            NaN            NaN            NaN   \n",
       "\n",
       "            哈工智能000584.SZ  山推股份000680.SZ  ...  正帆科技688596.SH  皖仪科技688600.SH  \\\n",
       "日期                                        ...                                 \n",
       "1992-05-29            NaN            NaN  ...            NaN            NaN   \n",
       "1992-06-30            NaN            NaN  ...            NaN            NaN   \n",
       "1992-07-31            NaN            NaN  ...            NaN            NaN   \n",
       "1992-08-31            NaN            NaN  ...            NaN            NaN   \n",
       "1992-09-30            NaN            NaN  ...            NaN            NaN   \n",
       "\n",
       "            奥普特688686.SH  创远仪器831961.OC  三友科技834475.OC  连城数控835368.OC  \\\n",
       "日期                                                                      \n",
       "1992-05-29           NaN            NaN            NaN            NaN   \n",
       "1992-06-30           NaN            NaN            NaN            NaN   \n",
       "1992-07-31           NaN            NaN            NaN            NaN   \n",
       "1992-08-31           NaN            NaN            NaN            NaN   \n",
       "1992-09-30           NaN            NaN            NaN            NaN   \n",
       "\n",
       "            上柴B股900920.SH  上工B股900924.SH  机电B股900925.SH  振华B股900947.SH  \n",
       "日期                                                                      \n",
       "1992-05-29            NaN            NaN            NaN            NaN  \n",
       "1992-06-30            NaN            NaN            NaN            NaN  \n",
       "1992-07-31            NaN            NaN            NaN            NaN  \n",
       "1992-08-31            NaN            NaN            NaN            NaN  \n",
       "1992-09-30            NaN            NaN            NaN            NaN  \n",
       "\n",
       "[5 rows x 398 columns]"
      ],
      "text/html": "<div>\n<style scoped>\n    .dataframe tbody tr th:only-of-type {\n        vertical-align: middle;\n    }\n\n    .dataframe tbody tr th {\n        vertical-align: top;\n    }\n\n    .dataframe thead th {\n        text-align: right;\n    }\n</style>\n<table border=\"1\" class=\"dataframe\">\n  <thead>\n    <tr style=\"text-align: right;\">\n      <th></th>\n      <th>神州高铁000008.SZ</th>\n      <th>中集集团000039.SZ</th>\n      <th>中联重科000157.SZ</th>\n      <th>徐工机械000425.SZ</th>\n      <th>柳工000528.SZ</th>\n      <th>冰山冷热000530.SZ</th>\n      <th>创元科技000551.SZ</th>\n      <th>苏常柴A000570.SZ</th>\n      <th>哈工智能000584.SZ</th>\n      <th>山推股份000680.SZ</th>\n      <th>...</th>\n      <th>正帆科技688596.SH</th>\n      <th>皖仪科技688600.SH</th>\n      <th>奥普特688686.SH</th>\n      <th>创远仪器831961.OC</th>\n      <th>三友科技834475.OC</th>\n      <th>连城数控835368.OC</th>\n      <th>上柴B股900920.SH</th>\n      <th>上工B股900924.SH</th>\n      <th>机电B股900925.SH</th>\n      <th>振华B股900947.SH</th>\n    </tr>\n    <tr>\n      <th>日期</th>\n      <th></th>\n      <th></th>\n      <th></th>\n      <th></th>\n      <th></th>\n      <th></th>\n      <th></th>\n      <th></th>\n      <th></th>\n      <th></th>\n      <th></th>\n      <th></th>\n      <th></th>\n      <th></th>\n      <th></th>\n      <th></th>\n      <th></th>\n      <th></th>\n      <th></th>\n      <th></th>\n      <th></th>\n    </tr>\n  </thead>\n  <tbody>\n    <tr>\n      <th>1992-05-29</th>\n      <td>1.1737</td>\n      <td>NaN</td>\n      <td>NaN</td>\n      <td>NaN</td>\n      <td>NaN</td>\n      <td>NaN</td>\n      <td>NaN</td>\n      <td>NaN</td>\n      <td>NaN</td>\n      <td>NaN</td>\n      <td>...</td>\n      <td>NaN</td>\n      <td>NaN</td>\n      <td>NaN</td>\n      <td>NaN</td>\n      <td>NaN</td>\n      <td>NaN</td>\n      <td>NaN</td>\n      <td>NaN</td>\n      <td>NaN</td>\n      <td>NaN</td>\n    </tr>\n    <tr>\n      <th>1992-06-30</th>\n      <td>1.0777</td>\n      <td>NaN</td>\n      <td>NaN</td>\n      <td>NaN</td>\n      <td>NaN</td>\n      <td>NaN</td>\n      <td>NaN</td>\n      <td>NaN</td>\n      <td>NaN</td>\n      <td>NaN</td>\n      <td>...</td>\n      <td>NaN</td>\n      <td>NaN</td>\n      <td>NaN</td>\n      <td>NaN</td>\n      <td>NaN</td>\n      <td>NaN</td>\n      <td>NaN</td>\n      <td>NaN</td>\n      <td>NaN</td>\n      <td>NaN</td>\n    </tr>\n    <tr>\n      <th>1992-07-31</th>\n      <td>1.1067</td>\n      <td>NaN</td>\n      <td>NaN</td>\n      <td>NaN</td>\n      <td>NaN</td>\n      <td>NaN</td>\n      <td>NaN</td>\n      <td>NaN</td>\n      <td>NaN</td>\n      <td>NaN</td>\n      <td>...</td>\n      <td>NaN</td>\n      <td>NaN</td>\n      <td>NaN</td>\n      <td>NaN</td>\n      <td>NaN</td>\n      <td>NaN</td>\n      <td>NaN</td>\n      <td>NaN</td>\n      <td>NaN</td>\n      <td>NaN</td>\n    </tr>\n    <tr>\n      <th>1992-08-31</th>\n      <td>0.9818</td>\n      <td>NaN</td>\n      <td>NaN</td>\n      <td>NaN</td>\n      <td>NaN</td>\n      <td>NaN</td>\n      <td>NaN</td>\n      <td>NaN</td>\n      <td>NaN</td>\n      <td>NaN</td>\n      <td>...</td>\n      <td>NaN</td>\n      <td>NaN</td>\n      <td>NaN</td>\n      <td>NaN</td>\n      <td>NaN</td>\n      <td>NaN</td>\n      <td>NaN</td>\n      <td>NaN</td>\n      <td>NaN</td>\n      <td>NaN</td>\n    </tr>\n    <tr>\n      <th>1992-09-30</th>\n      <td>0.9110</td>\n      <td>NaN</td>\n      <td>NaN</td>\n      <td>NaN</td>\n      <td>NaN</td>\n      <td>NaN</td>\n      <td>NaN</td>\n      <td>NaN</td>\n      <td>NaN</td>\n      <td>NaN</td>\n      <td>...</td>\n      <td>NaN</td>\n      <td>NaN</td>\n      <td>NaN</td>\n      <td>NaN</td>\n      <td>NaN</td>\n      <td>NaN</td>\n      <td>NaN</td>\n      <td>NaN</td>\n      <td>NaN</td>\n      <td>NaN</td>\n    </tr>\n  </tbody>\n</table>\n<p>5 rows × 398 columns</p>\n</div>"
     },
     "metadata": {},
     "execution_count": 12
    }
   ],
   "source": [
    "data.head()"
   ]
  },
  {
   "cell_type": "code",
   "execution_count": 18,
   "metadata": {},
   "outputs": [],
   "source": [
    "# 提取2000-2020季度数据 3 6 9 10\n",
    "dates = []\n",
    "for year in range(2000, 2021):\n",
    "    for month in [\"03\", \"06\", \"09\", \"12\"]:\n",
    "        dates.append(str(year)+\"-\"+month)"
   ]
  },
  {
   "cell_type": "code",
   "execution_count": 36,
   "metadata": {},
   "outputs": [],
   "source": [
    "final = pd.concat([data[d] for d in dates])"
   ]
  },
  {
   "cell_type": "code",
   "execution_count": 37,
   "metadata": {},
   "outputs": [
    {
     "output_type": "execute_result",
     "data": {
      "text/plain": [
       "            神州高铁000008.SZ  中集集团000039.SZ  中联重科000157.SZ  徐工机械000425.SZ  \\\n",
       "日期                                                                       \n",
       "2000-03-31         6.8169         1.7141            NaN         1.0030   \n",
       "2000-06-30         6.6332         2.7344            NaN         1.3443   \n",
       "2000-09-29         5.0766         2.2704            NaN         1.3480   \n",
       "2000-12-29         4.7376         2.5609         0.3387         1.6333   \n",
       "2001-03-30         2.4107         2.8469         0.3196         1.6032   \n",
       "...                   ...            ...            ...            ...   \n",
       "2019-12-31         3.6178         9.6612         6.5049         5.4179   \n",
       "2020-03-31         3.1294         7.5853         5.5408         5.0019   \n",
       "2020-06-30         2.9400         7.2300         6.2614         5.8537   \n",
       "2020-09-30         2.8800         8.9600         7.8974         5.5500   \n",
       "2020-12-31         2.5400        14.9900         9.9000         5.3700   \n",
       "\n",
       "            柳工000528.SZ  冰山冷热000530.SZ  创元科技000551.SZ  苏常柴A000570.SZ  \\\n",
       "日期                                                                     \n",
       "2000-03-31       0.9613         2.1426         6.1304         6.3989   \n",
       "2000-06-30       1.1987         2.6916         5.3171         6.0259   \n",
       "2000-09-29       1.3141         2.4075         4.5199         6.4132   \n",
       "2000-12-29       1.3860         3.0181         4.9933         6.2937   \n",
       "2001-03-30       1.3442         2.7422         4.9407         6.2602   \n",
       "...                 ...            ...            ...            ...   \n",
       "2019-12-31       6.7808         3.8986         6.6800         4.5900   \n",
       "2020-03-31       6.1164         3.7002         7.3400         4.2700   \n",
       "2020-06-30       6.3100         3.3134         9.8200         4.4500   \n",
       "2020-09-30       7.0600         3.6100         8.6800         4.6400   \n",
       "2020-12-31       7.3600         4.8600         8.1700         5.6200   \n",
       "\n",
       "            哈工智能000584.SZ  山推股份000680.SZ  ...  正帆科技688596.SH  皖仪科技688600.SH  \\\n",
       "日期                                        ...                                 \n",
       "2000-03-31         2.8847         1.3026  ...            NaN            NaN   \n",
       "2000-06-30         3.9702         3.0431  ...            NaN            NaN   \n",
       "2000-09-29         4.7754         3.1549  ...            NaN            NaN   \n",
       "2000-12-29         4.0056         2.6120  ...            NaN            NaN   \n",
       "2001-03-30         4.0881         2.3382  ...            NaN            NaN   \n",
       "...                   ...            ...  ...            ...            ...   \n",
       "2019-12-31         6.2581         3.6500  ...            NaN            NaN   \n",
       "2020-03-31         5.3998         3.1800  ...            NaN            NaN   \n",
       "2020-06-30         5.5300         3.4300  ...            NaN            NaN   \n",
       "2020-09-30         6.2200         3.6400  ...          23.23          21.86   \n",
       "2020-12-31         5.8300         3.7600  ...          20.09          17.14   \n",
       "\n",
       "            奥普特688686.SH  创远仪器831961.OC  三友科技834475.OC  连城数控835368.OC  \\\n",
       "日期                                                                      \n",
       "2000-03-31           NaN            NaN            NaN            NaN   \n",
       "2000-06-30           NaN            NaN            NaN            NaN   \n",
       "2000-09-29           NaN            NaN            NaN            NaN   \n",
       "2000-12-29           NaN            NaN            NaN            NaN   \n",
       "2001-03-30           NaN            NaN            NaN            NaN   \n",
       "...                  ...            ...            ...            ...   \n",
       "2019-12-31           NaN        10.8875         5.7786           30.0   \n",
       "2020-03-31           NaN        18.8510         7.8369           42.1   \n",
       "2020-06-30           NaN        24.1500        10.3977           44.3   \n",
       "2020-09-30           NaN        22.8900        10.3900           74.1   \n",
       "2020-12-31         216.8        23.9900        12.8900          112.3   \n",
       "\n",
       "            上柴B股900920.SH  上工B股900924.SH  机电B股900925.SH  振华B股900947.SH  \n",
       "日期                                                                      \n",
       "2000-03-31         0.0914         0.1255         0.1274         0.0227  \n",
       "2000-06-30         0.1208         0.1724         0.1532         0.0301  \n",
       "2000-09-29         0.1364         0.2026         0.1497         0.0319  \n",
       "2000-12-29         0.1968         0.3448         0.2146         0.0504  \n",
       "2001-03-30         0.3220         0.6298         0.3871         0.0828  \n",
       "...                   ...            ...            ...            ...  \n",
       "2019-12-31         0.4359         0.4580         1.4183         0.3208  \n",
       "2020-03-31         0.3769         0.4070         1.0520         0.2809  \n",
       "2020-06-30         0.3237         0.3400         0.9707         0.2080  \n",
       "2020-09-30         0.4320         0.3750         1.2260         0.2530  \n",
       "2020-12-31         0.4340         0.3690         1.4860         0.2580  \n",
       "\n",
       "[84 rows x 398 columns]"
      ],
      "text/html": "<div>\n<style scoped>\n    .dataframe tbody tr th:only-of-type {\n        vertical-align: middle;\n    }\n\n    .dataframe tbody tr th {\n        vertical-align: top;\n    }\n\n    .dataframe thead th {\n        text-align: right;\n    }\n</style>\n<table border=\"1\" class=\"dataframe\">\n  <thead>\n    <tr style=\"text-align: right;\">\n      <th></th>\n      <th>神州高铁000008.SZ</th>\n      <th>中集集团000039.SZ</th>\n      <th>中联重科000157.SZ</th>\n      <th>徐工机械000425.SZ</th>\n      <th>柳工000528.SZ</th>\n      <th>冰山冷热000530.SZ</th>\n      <th>创元科技000551.SZ</th>\n      <th>苏常柴A000570.SZ</th>\n      <th>哈工智能000584.SZ</th>\n      <th>山推股份000680.SZ</th>\n      <th>...</th>\n      <th>正帆科技688596.SH</th>\n      <th>皖仪科技688600.SH</th>\n      <th>奥普特688686.SH</th>\n      <th>创远仪器831961.OC</th>\n      <th>三友科技834475.OC</th>\n      <th>连城数控835368.OC</th>\n      <th>上柴B股900920.SH</th>\n      <th>上工B股900924.SH</th>\n      <th>机电B股900925.SH</th>\n      <th>振华B股900947.SH</th>\n    </tr>\n    <tr>\n      <th>日期</th>\n      <th></th>\n      <th></th>\n      <th></th>\n      <th></th>\n      <th></th>\n      <th></th>\n      <th></th>\n      <th></th>\n      <th></th>\n      <th></th>\n      <th></th>\n      <th></th>\n      <th></th>\n      <th></th>\n      <th></th>\n      <th></th>\n      <th></th>\n      <th></th>\n      <th></th>\n      <th></th>\n      <th></th>\n    </tr>\n  </thead>\n  <tbody>\n    <tr>\n      <th>2000-03-31</th>\n      <td>6.8169</td>\n      <td>1.7141</td>\n      <td>NaN</td>\n      <td>1.0030</td>\n      <td>0.9613</td>\n      <td>2.1426</td>\n      <td>6.1304</td>\n      <td>6.3989</td>\n      <td>2.8847</td>\n      <td>1.3026</td>\n      <td>...</td>\n      <td>NaN</td>\n      <td>NaN</td>\n      <td>NaN</td>\n      <td>NaN</td>\n      <td>NaN</td>\n      <td>NaN</td>\n      <td>0.0914</td>\n      <td>0.1255</td>\n      <td>0.1274</td>\n      <td>0.0227</td>\n    </tr>\n    <tr>\n      <th>2000-06-30</th>\n      <td>6.6332</td>\n      <td>2.7344</td>\n      <td>NaN</td>\n      <td>1.3443</td>\n      <td>1.1987</td>\n      <td>2.6916</td>\n      <td>5.3171</td>\n      <td>6.0259</td>\n      <td>3.9702</td>\n      <td>3.0431</td>\n      <td>...</td>\n      <td>NaN</td>\n      <td>NaN</td>\n      <td>NaN</td>\n      <td>NaN</td>\n      <td>NaN</td>\n      <td>NaN</td>\n      <td>0.1208</td>\n      <td>0.1724</td>\n      <td>0.1532</td>\n      <td>0.0301</td>\n    </tr>\n    <tr>\n      <th>2000-09-29</th>\n      <td>5.0766</td>\n      <td>2.2704</td>\n      <td>NaN</td>\n      <td>1.3480</td>\n      <td>1.3141</td>\n      <td>2.4075</td>\n      <td>4.5199</td>\n      <td>6.4132</td>\n      <td>4.7754</td>\n      <td>3.1549</td>\n      <td>...</td>\n      <td>NaN</td>\n      <td>NaN</td>\n      <td>NaN</td>\n      <td>NaN</td>\n      <td>NaN</td>\n      <td>NaN</td>\n      <td>0.1364</td>\n      <td>0.2026</td>\n      <td>0.1497</td>\n      <td>0.0319</td>\n    </tr>\n    <tr>\n      <th>2000-12-29</th>\n      <td>4.7376</td>\n      <td>2.5609</td>\n      <td>0.3387</td>\n      <td>1.6333</td>\n      <td>1.3860</td>\n      <td>3.0181</td>\n      <td>4.9933</td>\n      <td>6.2937</td>\n      <td>4.0056</td>\n      <td>2.6120</td>\n      <td>...</td>\n      <td>NaN</td>\n      <td>NaN</td>\n      <td>NaN</td>\n      <td>NaN</td>\n      <td>NaN</td>\n      <td>NaN</td>\n      <td>0.1968</td>\n      <td>0.3448</td>\n      <td>0.2146</td>\n      <td>0.0504</td>\n    </tr>\n    <tr>\n      <th>2001-03-30</th>\n      <td>2.4107</td>\n      <td>2.8469</td>\n      <td>0.3196</td>\n      <td>1.6032</td>\n      <td>1.3442</td>\n      <td>2.7422</td>\n      <td>4.9407</td>\n      <td>6.2602</td>\n      <td>4.0881</td>\n      <td>2.3382</td>\n      <td>...</td>\n      <td>NaN</td>\n      <td>NaN</td>\n      <td>NaN</td>\n      <td>NaN</td>\n      <td>NaN</td>\n      <td>NaN</td>\n      <td>0.3220</td>\n      <td>0.6298</td>\n      <td>0.3871</td>\n      <td>0.0828</td>\n    </tr>\n    <tr>\n      <th>...</th>\n      <td>...</td>\n      <td>...</td>\n      <td>...</td>\n      <td>...</td>\n      <td>...</td>\n      <td>...</td>\n      <td>...</td>\n      <td>...</td>\n      <td>...</td>\n      <td>...</td>\n      <td>...</td>\n      <td>...</td>\n      <td>...</td>\n      <td>...</td>\n      <td>...</td>\n      <td>...</td>\n      <td>...</td>\n      <td>...</td>\n      <td>...</td>\n      <td>...</td>\n      <td>...</td>\n    </tr>\n    <tr>\n      <th>2019-12-31</th>\n      <td>3.6178</td>\n      <td>9.6612</td>\n      <td>6.5049</td>\n      <td>5.4179</td>\n      <td>6.7808</td>\n      <td>3.8986</td>\n      <td>6.6800</td>\n      <td>4.5900</td>\n      <td>6.2581</td>\n      <td>3.6500</td>\n      <td>...</td>\n      <td>NaN</td>\n      <td>NaN</td>\n      <td>NaN</td>\n      <td>10.8875</td>\n      <td>5.7786</td>\n      <td>30.0</td>\n      <td>0.4359</td>\n      <td>0.4580</td>\n      <td>1.4183</td>\n      <td>0.3208</td>\n    </tr>\n    <tr>\n      <th>2020-03-31</th>\n      <td>3.1294</td>\n      <td>7.5853</td>\n      <td>5.5408</td>\n      <td>5.0019</td>\n      <td>6.1164</td>\n      <td>3.7002</td>\n      <td>7.3400</td>\n      <td>4.2700</td>\n      <td>5.3998</td>\n      <td>3.1800</td>\n      <td>...</td>\n      <td>NaN</td>\n      <td>NaN</td>\n      <td>NaN</td>\n      <td>18.8510</td>\n      <td>7.8369</td>\n      <td>42.1</td>\n      <td>0.3769</td>\n      <td>0.4070</td>\n      <td>1.0520</td>\n      <td>0.2809</td>\n    </tr>\n    <tr>\n      <th>2020-06-30</th>\n      <td>2.9400</td>\n      <td>7.2300</td>\n      <td>6.2614</td>\n      <td>5.8537</td>\n      <td>6.3100</td>\n      <td>3.3134</td>\n      <td>9.8200</td>\n      <td>4.4500</td>\n      <td>5.5300</td>\n      <td>3.4300</td>\n      <td>...</td>\n      <td>NaN</td>\n      <td>NaN</td>\n      <td>NaN</td>\n      <td>24.1500</td>\n      <td>10.3977</td>\n      <td>44.3</td>\n      <td>0.3237</td>\n      <td>0.3400</td>\n      <td>0.9707</td>\n      <td>0.2080</td>\n    </tr>\n    <tr>\n      <th>2020-09-30</th>\n      <td>2.8800</td>\n      <td>8.9600</td>\n      <td>7.8974</td>\n      <td>5.5500</td>\n      <td>7.0600</td>\n      <td>3.6100</td>\n      <td>8.6800</td>\n      <td>4.6400</td>\n      <td>6.2200</td>\n      <td>3.6400</td>\n      <td>...</td>\n      <td>23.23</td>\n      <td>21.86</td>\n      <td>NaN</td>\n      <td>22.8900</td>\n      <td>10.3900</td>\n      <td>74.1</td>\n      <td>0.4320</td>\n      <td>0.3750</td>\n      <td>1.2260</td>\n      <td>0.2530</td>\n    </tr>\n    <tr>\n      <th>2020-12-31</th>\n      <td>2.5400</td>\n      <td>14.9900</td>\n      <td>9.9000</td>\n      <td>5.3700</td>\n      <td>7.3600</td>\n      <td>4.8600</td>\n      <td>8.1700</td>\n      <td>5.6200</td>\n      <td>5.8300</td>\n      <td>3.7600</td>\n      <td>...</td>\n      <td>20.09</td>\n      <td>17.14</td>\n      <td>216.8</td>\n      <td>23.9900</td>\n      <td>12.8900</td>\n      <td>112.3</td>\n      <td>0.4340</td>\n      <td>0.3690</td>\n      <td>1.4860</td>\n      <td>0.2580</td>\n    </tr>\n  </tbody>\n</table>\n<p>84 rows × 398 columns</p>\n</div>"
     },
     "metadata": {},
     "execution_count": 37
    }
   ],
   "source": [
    "final"
   ]
  },
  {
   "cell_type": "code",
   "execution_count": 47,
   "metadata": {},
   "outputs": [],
   "source": [
    "final.to_excel(\"price处理后.xlsx\")"
   ]
  },
  {
   "cell_type": "code",
   "execution_count": 46,
   "metadata": {},
   "outputs": [
    {
     "output_type": "execute_result",
     "data": {
      "text/plain": [
       "Int64Index([ 5,  6,  7,  8,  9, 10, 11, 12,  1,  2,\n",
       "            ...\n",
       "             4,  5,  5,  6,  7,  8,  9, 10, 11, 12],\n",
       "           dtype='int64', name='日期', length=346)"
      ]
     },
     "metadata": {},
     "execution_count": 46
    }
   ],
   "source": []
  },
  {
   "cell_type": "code",
   "execution_count": 57,
   "metadata": {},
   "outputs": [
    {
     "output_type": "execute_result",
     "data": {
      "text/plain": [
       "            神州高铁000008.SZ  中集集团000039.SZ  中联重科000157.SZ  徐工机械000425.SZ  \\\n",
       "日期                                                                       \n",
       "2000-03-31         6.8169         1.7141            NaN         1.0030   \n",
       "2000-06-30         6.6332         2.7344            NaN         1.3443   \n",
       "2000-09-29         5.0766         2.2704            NaN         1.3480   \n",
       "2000-12-29         4.7376         2.5609         0.3387         1.6333   \n",
       "2001-03-30         2.4107         2.8469         0.3196         1.6032   \n",
       "\n",
       "            柳工000528.SZ  冰山冷热000530.SZ  创元科技000551.SZ  苏常柴A000570.SZ  \\\n",
       "日期                                                                     \n",
       "2000-03-31       0.9613         2.1426         6.1304         6.3989   \n",
       "2000-06-30       1.1987         2.6916         5.3171         6.0259   \n",
       "2000-09-29       1.3141         2.4075         4.5199         6.4132   \n",
       "2000-12-29       1.3860         3.0181         4.9933         6.2937   \n",
       "2001-03-30       1.3442         2.7422         4.9407         6.2602   \n",
       "\n",
       "            哈工智能000584.SZ  山推股份000680.SZ  ...  上海机电600835.SH  上柴股份600841.SH  \\\n",
       "日期                                        ...                                 \n",
       "2000-03-31         2.8847         1.3026  ...         4.9487         5.9088   \n",
       "2000-06-30         3.9702         3.0431  ...         4.9106         5.8948   \n",
       "2000-09-29         4.7754         3.1549  ...         4.7693         5.7915   \n",
       "2000-12-29         4.0056         2.6120  ...         5.8953         6.8016   \n",
       "2001-03-30         4.0881         2.3382  ...         5.8482         6.6221   \n",
       "\n",
       "            上工申贝600843.SH  广日股份600894.SH  建设机械600984.SH  贵绳股份600992.SH  \\\n",
       "日期                                                                       \n",
       "2000-03-31         6.8043         2.3801            NaN            NaN   \n",
       "2000-06-30         6.9603         2.6776            NaN            NaN   \n",
       "2000-09-29         7.1729         3.8375            NaN            NaN   \n",
       "2000-12-29         8.3448         4.2582            NaN            NaN   \n",
       "2001-03-30         8.4960         4.8635            NaN            NaN   \n",
       "\n",
       "            上柴B股900920.SH  上工B股900924.SH  机电B股900925.SH  振华B股900947.SH  \n",
       "日期                                                                      \n",
       "2000-03-31         0.0914         0.1255         0.1274         0.0227  \n",
       "2000-06-30         0.1208         0.1724         0.1532         0.0301  \n",
       "2000-09-29         0.1364         0.2026         0.1497         0.0319  \n",
       "2000-12-29         0.1968         0.3448         0.2146         0.0504  \n",
       "2001-03-30         0.3220         0.6298         0.3871         0.0828  \n",
       "\n",
       "[5 rows x 60 columns]"
      ],
      "text/html": "<div>\n<style scoped>\n    .dataframe tbody tr th:only-of-type {\n        vertical-align: middle;\n    }\n\n    .dataframe tbody tr th {\n        vertical-align: top;\n    }\n\n    .dataframe thead th {\n        text-align: right;\n    }\n</style>\n<table border=\"1\" class=\"dataframe\">\n  <thead>\n    <tr style=\"text-align: right;\">\n      <th></th>\n      <th>神州高铁000008.SZ</th>\n      <th>中集集团000039.SZ</th>\n      <th>中联重科000157.SZ</th>\n      <th>徐工机械000425.SZ</th>\n      <th>柳工000528.SZ</th>\n      <th>冰山冷热000530.SZ</th>\n      <th>创元科技000551.SZ</th>\n      <th>苏常柴A000570.SZ</th>\n      <th>哈工智能000584.SZ</th>\n      <th>山推股份000680.SZ</th>\n      <th>...</th>\n      <th>上海机电600835.SH</th>\n      <th>上柴股份600841.SH</th>\n      <th>上工申贝600843.SH</th>\n      <th>广日股份600894.SH</th>\n      <th>建设机械600984.SH</th>\n      <th>贵绳股份600992.SH</th>\n      <th>上柴B股900920.SH</th>\n      <th>上工B股900924.SH</th>\n      <th>机电B股900925.SH</th>\n      <th>振华B股900947.SH</th>\n    </tr>\n    <tr>\n      <th>日期</th>\n      <th></th>\n      <th></th>\n      <th></th>\n      <th></th>\n      <th></th>\n      <th></th>\n      <th></th>\n      <th></th>\n      <th></th>\n      <th></th>\n      <th></th>\n      <th></th>\n      <th></th>\n      <th></th>\n      <th></th>\n      <th></th>\n      <th></th>\n      <th></th>\n      <th></th>\n      <th></th>\n      <th></th>\n    </tr>\n  </thead>\n  <tbody>\n    <tr>\n      <th>2000-03-31</th>\n      <td>6.8169</td>\n      <td>1.7141</td>\n      <td>NaN</td>\n      <td>1.0030</td>\n      <td>0.9613</td>\n      <td>2.1426</td>\n      <td>6.1304</td>\n      <td>6.3989</td>\n      <td>2.8847</td>\n      <td>1.3026</td>\n      <td>...</td>\n      <td>4.9487</td>\n      <td>5.9088</td>\n      <td>6.8043</td>\n      <td>2.3801</td>\n      <td>NaN</td>\n      <td>NaN</td>\n      <td>0.0914</td>\n      <td>0.1255</td>\n      <td>0.1274</td>\n      <td>0.0227</td>\n    </tr>\n    <tr>\n      <th>2000-06-30</th>\n      <td>6.6332</td>\n      <td>2.7344</td>\n      <td>NaN</td>\n      <td>1.3443</td>\n      <td>1.1987</td>\n      <td>2.6916</td>\n      <td>5.3171</td>\n      <td>6.0259</td>\n      <td>3.9702</td>\n      <td>3.0431</td>\n      <td>...</td>\n      <td>4.9106</td>\n      <td>5.8948</td>\n      <td>6.9603</td>\n      <td>2.6776</td>\n      <td>NaN</td>\n      <td>NaN</td>\n      <td>0.1208</td>\n      <td>0.1724</td>\n      <td>0.1532</td>\n      <td>0.0301</td>\n    </tr>\n    <tr>\n      <th>2000-09-29</th>\n      <td>5.0766</td>\n      <td>2.2704</td>\n      <td>NaN</td>\n      <td>1.3480</td>\n      <td>1.3141</td>\n      <td>2.4075</td>\n      <td>4.5199</td>\n      <td>6.4132</td>\n      <td>4.7754</td>\n      <td>3.1549</td>\n      <td>...</td>\n      <td>4.7693</td>\n      <td>5.7915</td>\n      <td>7.1729</td>\n      <td>3.8375</td>\n      <td>NaN</td>\n      <td>NaN</td>\n      <td>0.1364</td>\n      <td>0.2026</td>\n      <td>0.1497</td>\n      <td>0.0319</td>\n    </tr>\n    <tr>\n      <th>2000-12-29</th>\n      <td>4.7376</td>\n      <td>2.5609</td>\n      <td>0.3387</td>\n      <td>1.6333</td>\n      <td>1.3860</td>\n      <td>3.0181</td>\n      <td>4.9933</td>\n      <td>6.2937</td>\n      <td>4.0056</td>\n      <td>2.6120</td>\n      <td>...</td>\n      <td>5.8953</td>\n      <td>6.8016</td>\n      <td>8.3448</td>\n      <td>4.2582</td>\n      <td>NaN</td>\n      <td>NaN</td>\n      <td>0.1968</td>\n      <td>0.3448</td>\n      <td>0.2146</td>\n      <td>0.0504</td>\n    </tr>\n    <tr>\n      <th>2001-03-30</th>\n      <td>2.4107</td>\n      <td>2.8469</td>\n      <td>0.3196</td>\n      <td>1.6032</td>\n      <td>1.3442</td>\n      <td>2.7422</td>\n      <td>4.9407</td>\n      <td>6.2602</td>\n      <td>4.0881</td>\n      <td>2.3382</td>\n      <td>...</td>\n      <td>5.8482</td>\n      <td>6.6221</td>\n      <td>8.4960</td>\n      <td>4.8635</td>\n      <td>NaN</td>\n      <td>NaN</td>\n      <td>0.3220</td>\n      <td>0.6298</td>\n      <td>0.3871</td>\n      <td>0.0828</td>\n    </tr>\n  </tbody>\n</table>\n<p>5 rows × 60 columns</p>\n</div>"
     },
     "metadata": {},
     "execution_count": 57
    }
   ],
   "source": [
    "# 保留上市超过15年的公司 总共80季度 剩60家\n",
    "price15 = final.loc[:, final.isnull().sum(axis=0)<=20]\n",
    "price15.head()"
   ]
  },
  {
   "cell_type": "code",
   "execution_count": 58,
   "metadata": {},
   "outputs": [],
   "source": [
    "price15.to_excel(\"price15year.xlsx\")"
   ]
  },
  {
   "cell_type": "code",
   "execution_count": 60,
   "metadata": {},
   "outputs": [],
   "source": [
    "# 去掉 潍柴重机000880.SZ中间缺失\n",
    "price15.drop(\"潍柴重机000880.SZ\", axis=1, inplace=True)"
   ]
  },
  {
   "cell_type": "code",
   "execution_count": 61,
   "metadata": {},
   "outputs": [],
   "source": [
    "price15.to_excel(\"price59c.xlsx\")  # 剩下59个"
   ]
  },
  {
   "cell_type": "code",
   "execution_count": null,
   "metadata": {},
   "outputs": [],
   "source": []
  }
 ]
}