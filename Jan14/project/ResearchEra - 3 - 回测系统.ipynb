{
 "cells": [
  {
   "cell_type": "markdown",
   "metadata": {},
   "source": [
    "# 每月挑选股票"
   ]
  },
  {
   "cell_type": "markdown",
   "metadata": {},
   "source": [
    "- 初始化"
   ]
  },
  {
   "cell_type": "code",
   "execution_count": 107,
   "metadata": {},
   "outputs": [],
   "source": [
    "import pandas as pd\n",
    "import tushare as ts\n",
    "import numpy as np\n",
    "import matplotlib.pyplot as plt\n",
    "%matplotlib inline"
   ]
  },
  {
   "cell_type": "code",
   "execution_count": 77,
   "metadata": {},
   "outputs": [],
   "source": [
    "ts.set_token('6226a7ee6e9cf039a1bcad9d3bc92f1f39c68d51ba2a53965da6dfc6')\n",
    "pro = ts.pro_api()"
   ]
  },
  {
   "cell_type": "code",
   "execution_count": 1,
   "metadata": {},
   "outputs": [],
   "source": [
    "have_code = []\n",
    "with open('have code.txt', 'r') as fin:\n",
    "    for line in fin:\n",
    "        have_code = line.split(',')"
   ]
  },
  {
   "cell_type": "code",
   "execution_count": 3,
   "metadata": {},
   "outputs": [],
   "source": [
    "have_code = ['600004.SH', '600009.SH', '600011.SH', '600027.SH', '600028.SH', '600029.SH', '600031.SH', '600048.SH', '600066.SH', '600068.SH',\n",
    "             '600085.SH', '600089.SH', '600111.SH', '600115.SH', '600118.SH', '600170.SH', '600176.SH', '600177.SH', '600188.SH', '600196.SH',\n",
    "             '600208.SH', '600276.SH', '600340.SH', '600352.SH', '600362.SH', '600372.SH', '600383.SH', '600415.SH', '600436.SH', '600489.SH',\n",
    "             '600519.SH', '600535.SH', '600570.SH', '600583.SH', '600585.SH', '600588.SH', '600660.SH', '600674.SH', '600703.SH', '600809.SH',\n",
    "             '600867.SH', '600887.SH', '600998.SH', '601006.SH', '601111.SH', '601117.SH', '601186.SH', '601607.SH', '601668.SH', '601808.SH',\n",
    "             '601857.SH', '601898.SH', '601899.SH', '601933.SH', '000157.SZ', '000338.SZ', '000402.SZ', '000423.SZ', '000425.SZ', '000568.SZ',\n",
    "             '000596.SZ', '000661.SZ', '000671.SZ', '000725.SZ', '000768.SZ', '000895.SZ', '000898.SZ', '000961.SZ', '002001.SZ', '002007.SZ',\n",
    "             '002008.SZ', '002024.SZ', '002032.SZ', '002081.SZ', '002146.SZ', '002179.SZ', '002202.SZ', '002236.SZ', '002241.SZ', '002271.SZ',\n",
    "             '002294.SZ', '002304.SZ', '002311.SZ', '002352.SZ', '002422.SZ', '002456.SZ', '002475.SZ', '002493.SZ', '300015.SZ', '300017.SZ',\n",
    "             '300024.SZ', '300033.SZ', '300124.SZ']"
   ]
  },
  {
   "cell_type": "code",
   "execution_count": 4,
   "metadata": {},
   "outputs": [],
   "source": [
    "with open('strtime.txt', 'r') as fin:\n",
    "    for line in fin:\n",
    "        strtime = line.split(',')"
   ]
  },
  {
   "cell_type": "code",
   "execution_count": 6,
   "metadata": {},
   "outputs": [],
   "source": [
    "strtime = ['20110131', '20110228', '20110331', '20110429', '20110531', '20110630', '20110729', '20110831', '20110930', '20111031',\n",
    "           '20111130', '20111230', '20120131', '20120229', '20120330', '20120427', '20120531', '20120629', '20120731', '20120831', '20120928',\n",
    "           '20121031', '20121130', '20121231', '20130131', '20130228', '20130329', '20130426', '20130531', '20130628', '20130731', '20130830',\n",
    "           '20130930', '20131031', '20131129', '20131231', '20140130', '20140228', '20140331', '20140430', '20140530', '20140630', '20140731',\n",
    "           '20140829', '20140930', '20141031', '20141128', '20141231', '20150130', '20150227', '20150331', '20150430', '20150529', '20150630',\n",
    "           '20150731', '20150831', '20150930', '20151030', '20151130', '20151231', '20160129', '20160229', '20160331', '20160429', '20160531',\n",
    "           '20160630', '20160729', '20160831', '20160930', '20161031', '20161130', '20161230', '20170126', '20170228', '20170331', '20170428',\n",
    "           '20170531', '20170630', '20170731', '20170831', '20170929', '20171031', '20171130', '20171229', '20180131', '20180228', '20180330',\n",
    "           '20180427', '20180531', '20180629', '20180731', '20180831', '20180928', '20181031', '20181130', '20181228', '20190131', '20190228',\n",
    "           '20190329', '20190430', '20190531', '20190628', '20190731', '20190830']"
   ]
  },
  {
   "cell_type": "code",
   "execution_count": 7,
   "metadata": {},
   "outputs": [],
   "source": [
    "with open('strtimes.txt', 'r') as fin:\n",
    "    for line in fin:\n",
    "        strtimes = line.split(',')"
   ]
  },
  {
   "cell_type": "code",
   "execution_count": 9,
   "metadata": {},
   "outputs": [],
   "source": [
    "strtimes = ['20110331', '20110630', '20110930', '20111231', '20120331', '20120630', '20120930', '20121231', '20130331', '20130630',\n",
    "            '20130930', '20131231', '20140331', '20140630', '20140930', '20141231', '20150331', '20150630', '20150930', '20151231',\n",
    "            '20160331', '20160630', '20160930', '20161231', '20170331', '20170630', '20170930', '20171231', '20180331', '20180630',\n",
    "            '20180930', '20181231', '20190331', '20190630']"
   ]
  },
  {
   "cell_type": "markdown",
   "metadata": {},
   "source": [
    "- 处理季度数据"
   ]
  },
  {
   "cell_type": "code",
   "execution_count": 34,
   "metadata": {},
   "outputs": [],
   "source": [
    "def get_df():\n",
    "    '''\n",
    "    创建一个dataframe用于存储因子数据\n",
    "    \n",
    "    输入：无\n",
    "    \n",
    "    输出：dataframe对象，共93行，每一行的index都是一只股票\n",
    "    '''\n",
    "    # 创建一个空的dataframe\n",
    "    all_code_factor = pd.DataFrame()\n",
    "    \n",
    "    # 创建一个list，共有93个‘1’\n",
    "    a = ['1' for i in range(93)]\n",
    "    \n",
    "    # 将这列数据加入空的dataframe，这样dataframe共有93行1列\n",
    "    all_code_factor = all_code_factor.append(a)\n",
    "    \n",
    "    # 更改dataframe的index，使其为每只股票的代码（带字母）\n",
    "    all_code_factor.index = have_code\n",
    "    return all_code_factor"
   ]
  },
  {
   "cell_type": "code",
   "execution_count": 59,
   "metadata": {},
   "outputs": [],
   "source": [
    "def process_sdata(indicator):\n",
    "    file = 'f-' + indicator + '.xlsx'\n",
    "    df = pd.read_excel(file, index_col=0)\n",
    "    df.columns = strtimes\n",
    "    \n",
    "    newdf = get_df()\n",
    "    \n",
    "    i = 1\n",
    "    \n",
    "    for season in strtimes:\n",
    "        for j in range(3):\n",
    "            month = strtime[i]\n",
    "            newdf[month] = list(df[season])\n",
    "            i += 1\n",
    "    \n",
    "    newfile = 'f-' + indicator + 'm.xlsx'\n",
    "    newdf.to_excel(newfile)\n",
    "    \n",
    "    return newdf"
   ]
  },
  {
   "cell_type": "code",
   "execution_count": null,
   "metadata": {},
   "outputs": [],
   "source": [
    "# 处理季度数据\n",
    "process_sdata('roe')\n",
    "process_sdata('roa')\n",
    "# 已运行"
   ]
  },
  {
   "cell_type": "markdown",
   "metadata": {},
   "source": [
    "- 因子排名"
   ]
  },
  {
   "cell_type": "code",
   "execution_count": 6,
   "metadata": {},
   "outputs": [],
   "source": [
    "# 获取因子值\n",
    "def get_rdata(indicator):\n",
    "    file = 'f-' + indicator + '.xlsx'\n",
    "    df = pd.read_excel(file, index_col=0)\n",
    "    return df"
   ]
  },
  {
   "cell_type": "code",
   "execution_count": 7,
   "metadata": {},
   "outputs": [],
   "source": [
    "# 获取因子排名\n",
    "def get_rank(df):\n",
    "    \n",
    "    columns = list(df.columns)\n",
    "    \n",
    "    for col in columns:\n",
    "        df[col] = df[col].rank()\n",
    "        \n",
    "    return df"
   ]
  },
  {
   "cell_type": "code",
   "execution_count": 8,
   "metadata": {},
   "outputs": [],
   "source": [
    "# 输出因子排名\n",
    "def to_file(df, indicator):\n",
    "    file = 'f-' + indicator + 'r.xlsx'\n",
    "    df.to_excel(file)"
   ]
  },
  {
   "cell_type": "code",
   "execution_count": 9,
   "metadata": {},
   "outputs": [],
   "source": [
    "# 处理因子值\n",
    "def value_to_rank(indicator):\n",
    "    df = get_rdata(indicator)\n",
    "    rankdf = get_rank(df)\n",
    "    to_file(rankdf, indicator)"
   ]
  },
  {
   "cell_type": "code",
   "execution_count": 10,
   "metadata": {},
   "outputs": [],
   "source": [
    "value_to_rank('ccp ratio')"
   ]
  },
  {
   "cell_type": "code",
   "execution_count": 11,
   "metadata": {},
   "outputs": [],
   "source": [
    "value_to_rank('roem')"
   ]
  },
  {
   "cell_type": "code",
   "execution_count": 12,
   "metadata": {},
   "outputs": [],
   "source": [
    "value_to_rank('roam')"
   ]
  },
  {
   "cell_type": "code",
   "execution_count": 13,
   "metadata": {},
   "outputs": [],
   "source": [
    "value_to_rank('lgmv')"
   ]
  },
  {
   "cell_type": "code",
   "execution_count": 14,
   "metadata": {},
   "outputs": [],
   "source": [
    "value_to_rank('mmr')"
   ]
  },
  {
   "cell_type": "markdown",
   "metadata": {},
   "source": [
    "- 收益率排名"
   ]
  },
  {
   "cell_type": "code",
   "execution_count": 15,
   "metadata": {},
   "outputs": [],
   "source": [
    "# 获取收益率\n",
    "file = 'historical returns from 2011 to 2019.xlsx'\n",
    "df = pd.read_excel(file, index_col=0)\n",
    "\n",
    "# 获取收益率排名\n",
    "columns = list(df.columns)\n",
    "for col in columns:\n",
    "    df[col] = df[col].rank()\n",
    "        \n",
    "# 输出收益率排名\n",
    "newfile = 'f-rr.xlsx'\n",
    "df.to_excel(newfile)"
   ]
  },
  {
   "cell_type": "markdown",
   "metadata": {},
   "source": [
    "- 计算rankic的统计量"
   ]
  },
  {
   "cell_type": "code",
   "execution_count": 22,
   "metadata": {},
   "outputs": [],
   "source": [
    "def describe_rankic(indicator):\n",
    "    file = 'rankic ' + indicator + '.xlsx'\n",
    "    df = pd.read_excel(file, index_col=0)\n",
    "    return df.describe()"
   ]
  },
  {
   "cell_type": "markdown",
   "metadata": {},
   "source": [
    "- 选股（等权得分法）"
   ]
  },
  {
   "cell_type": "code",
   "execution_count": 37,
   "metadata": {},
   "outputs": [],
   "source": [
    "def get_df():\n",
    "    '''\n",
    "    创建一个dataframe用于存储因子数据\n",
    "    \n",
    "    输入：无\n",
    "    \n",
    "    输出：dataframe对象，共93行，每一行的index都是一只股票\n",
    "    '''\n",
    "    # 创建一个空的dataframe\n",
    "    all_code_factor = pd.DataFrame()\n",
    "    \n",
    "    # 创建一个list，共有93个‘1’\n",
    "    a = ['1' for i in range(93)]\n",
    "    \n",
    "    # 将这列数据加入空的dataframe，这样dataframe共有93行1列\n",
    "    all_code_factor = all_code_factor.append(a)\n",
    "    \n",
    "    # 更改dataframe的index，使其为每只股票的代码（带字母）\n",
    "    all_code_factor.index = have_code\n",
    "    return all_code_factor"
   ]
  },
  {
   "cell_type": "code",
   "execution_count": 35,
   "metadata": {},
   "outputs": [],
   "source": [
    "# 获取所有股票在输入日期的特定因子排名\n",
    "def get_fr(date, indicator):\n",
    "    file = 'f-' + indicator + 'r.xlsx'\n",
    "    df = pd.read_excel(file, index_col=0)\n",
    "    rank_list = df[date]\n",
    "    return rank_list"
   ]
  },
  {
   "cell_type": "code",
   "execution_count": 52,
   "metadata": {},
   "outputs": [],
   "source": [
    "# 获取股票在输入日期的所有因子的等权排名(由小到大，越大越好)\n",
    "def get_wr(date):\n",
    "    indicators = ['ccp ratio', 'lgmv', 'mmr', 'roem', 'roam']\n",
    "    \n",
    "    rank_all_indicator = get_df()\n",
    "    \n",
    "    for indicator in indicators:\n",
    "        if indicator in ['roem', 'roam']:\n",
    "            index = strtime.index(date)\n",
    "            sdate = strtime[index-3]\n",
    "            rank_list = 94 - get_fr(sdate, indicator)\n",
    "        else:\n",
    "            rank_list = get_fr(date, indicator)\n",
    "        rank_all_indicator[indicator] = rank_list\n",
    "    \n",
    "    rank_all_indicator['all'] = 0\n",
    "    \n",
    "    for indicator in indicators:\n",
    "        rank_all_indicator['all'] = rank_all_indicator['all'] + rank_all_indicator[indicator]\n",
    "    \n",
    "    return rank_all_indicator['all'].rank()    "
   ]
  },
  {
   "cell_type": "code",
   "execution_count": 71,
   "metadata": {},
   "outputs": [],
   "source": [
    "# 获取输入日期的选股代码\n",
    "def get_code(date):\n",
    "    codes = []\n",
    "    wr = get_wr(date)\n",
    "    temp = 0\n",
    "    for i in range(1, 11):\n",
    "        code = list(wr[wr.values==i].index)\n",
    "        if code:\n",
    "            for c in code:\n",
    "                codes.append(c)\n",
    "        else:\n",
    "            temp += 1\n",
    "            if temp == 2:\n",
    "                code = list(wr[wr.values==i-0.5].index)\n",
    "                for c in code:\n",
    "                    codes.append(c)\n",
    "            \n",
    "    return codes"
   ]
  },
  {
   "cell_type": "markdown",
   "metadata": {},
   "source": [
    "- 交易"
   ]
  },
  {
   "cell_type": "code",
   "execution_count": 79,
   "metadata": {},
   "outputs": [],
   "source": [
    "# 获取输入日期所有股票的收盘价\n",
    "def get_cp(date):\n",
    "    df = pro.monthly(trade_date=date, fields='ts_code,trade_date,close')\n",
    "    return df"
   ]
  },
  {
   "cell_type": "code",
   "execution_count": 80,
   "metadata": {},
   "outputs": [],
   "source": [
    "# 获取指定几种股票的收盘价\n",
    "def get_scp(codes, df):\n",
    "    cps = []\n",
    "    for code in codes:\n",
    "        ccps = list(df[df['ts_code']==code].loc[:,'close'])\n",
    "                \n",
    "        # 若数据不为空，则在list中添加数据\n",
    "        if ccps:\n",
    "            ccp = ccps[0]\n",
    "            cps.append(ccp)\n",
    "                    \n",
    "        # 若数据为空，则添加100作为数据缺失的标志（roe不会到100）\n",
    "        else:\n",
    "            print('empty error')\n",
    "            cps.append(0)\n",
    "            \n",
    "    return cps"
   ]
  },
  {
   "cell_type": "code",
   "execution_count": 87,
   "metadata": {},
   "outputs": [],
   "source": [
    "# 在输入日期买入股票，每个100手\n",
    "def buy(date, money):\n",
    "    codes = get_code(date)\n",
    "    \n",
    "    df = get_cp(date)\n",
    "    cps = get_scp(codes, df)\n",
    "    \n",
    "    for cp in cps:\n",
    "        money = money - cp * 10000\n",
    "        \n",
    "    return money"
   ]
  },
  {
   "cell_type": "code",
   "execution_count": 93,
   "metadata": {},
   "outputs": [],
   "source": [
    "# 在输入日期卖出持有股票，每个100手\n",
    "def sell(date, money, codes):\n",
    "    \n",
    "    df = get_cp(date)\n",
    "    cps = get_scp(codes, df)\n",
    "    \n",
    "    for cp in cps:\n",
    "        money = money + cp * 10000\n",
    "        \n",
    "    return money"
   ]
  },
  {
   "cell_type": "code",
   "execution_count": 21,
   "metadata": {},
   "outputs": [
    {
     "name": "stdout",
     "output_type": "stream",
     "text": [
      "['002032.SZ', '600436.SH', '000661.SZ', '002001.SZ', '600809.SH', '300015.SZ', '600570.SH', '000596.SZ', '002007.SZ', '600111.SH']\n",
      "['000596.SZ', '600436.SH', '600066.SH', '600352.SH', '600660.SH', '300015.SZ', '600585.SH', '002001.SZ', '000568.SZ', '002493.SZ']\n",
      "['000596.SZ', '002032.SZ', '600436.SH', '600809.SH', '000661.SZ', '002294.SZ', '601607.SH', '600352.SH', '002007.SZ']\n",
      "['600066.SH', '600436.SH', '002236.SZ', '000596.SZ', '002294.SZ', '002081.SZ', '600809.SH', '600570.SH', '000661.SZ', '600535.SH']\n",
      "['000596.SZ', '002236.SZ', '600809.SH', '600436.SH', '600570.SH', '000661.SZ', '002475.SZ', '600004.SH', '002271.SZ', '002146.SZ']\n",
      "['600436.SH', '600066.SH', '600660.SH', '000596.SZ', '002032.SZ', '600809.SH', '002493.SZ', '002001.SZ', '600998.SH', '600352.SH']\n",
      "['600340.SH', '600867.SH', '002236.SZ', '002001.SZ', '600436.SH', '002311.SZ', '600066.SH', '002032.SZ', '000661.SZ', '600809.SH']\n",
      "['600340.SH', '002475.SZ', '600867.SH', '002311.SZ', '002001.SZ', '002032.SZ', '600111.SH', '000568.SZ', '002081.SZ']\n",
      "['600867.SH', '600340.SH', '002311.SZ', '002032.SZ', '600535.SH', '002001.SZ', '002007.SZ', '002179.SZ', '600436.SH', '000661.SZ']\n",
      "['600570.SH', '000661.SZ', '600340.SH', '002475.SZ', '600660.SH', '600066.SH', '600588.SH', '600436.SH', '002179.SZ', '300024.SZ']\n",
      "['600436.SH', '600340.SH', '002032.SZ', '002475.SZ', '002179.SZ', '000596.SZ', '600570.SH', '002081.SZ', '002493.SZ', '600867.SH']\n",
      "['600436.SH', '600340.SH', '000661.SZ', '600660.SH', '002032.SZ', '002236.SZ', '600588.SH', '000596.SZ', '600867.SH', '002008.SZ']\n",
      "['600436.SH', '000596.SZ', '002294.SZ', '002007.SZ', '002032.SZ', '000661.SZ', '600660.SH', '002236.SZ', '600809.SH', '600085.SH']\n",
      "['600436.SH', '002032.SZ', '300015.SZ', '000661.SZ', '000596.SZ', '600867.SH', '600085.SH', '002001.SZ', '002294.SZ', '002493.SZ']\n",
      "['600436.SH', '002294.SZ', '000661.SZ', '300015.SZ', '002007.SZ', '300017.SZ', '300024.SZ', '600867.SH', '600570.SH', '600372.SH']\n",
      "['002456.SZ', '600436.SH', '002236.SZ', '002294.SZ', '000661.SZ', '600066.SH', '002032.SZ', '300015.SZ', '002179.SZ', '300017.SZ']\n",
      "['600340.SH', '600436.SH', '002236.SZ', '002032.SZ', '000661.SZ', '300015.SZ', '600004.SH', '600809.SH', '000596.SZ', '300024.SZ']\n",
      "['000661.SZ', '002294.SZ', '600436.SH', '300015.SZ', '600660.SH', '000596.SZ', '600809.SH', '002311.SZ', '300017.SZ', '002179.SZ']\n",
      "['000661.SZ', '002311.SZ', '002001.SZ', '002294.SZ', '002008.SZ', '600340.SH', '600436.SH', '300015.SZ', '600660.SH', '002456.SZ']\n",
      "['000661.SZ', '600436.SH', '002456.SZ', '002236.SZ', '000596.SZ', '002294.SZ', '002008.SZ', '002032.SZ', '002311.SZ', '300015.SZ']\n",
      "['000661.SZ', '600436.SH', '000596.SZ', '002008.SZ', '600066.SH', '002001.SZ', '002456.SZ', '002179.SZ', '600660.SH']\n",
      "['000661.SZ', '002456.SZ', '300024.SZ', '600570.SH', '300017.SZ', '002008.SZ', '002236.SZ', '600809.SH', '600340.SH', '002311.SZ']\n",
      "['002456.SZ', '002236.SZ', '000661.SZ', '600809.SH', '002179.SZ', '000596.SZ', '300024.SZ', '002475.SZ', '002008.SZ', '600066.SH']\n",
      "['000661.SZ', '002456.SZ', '600436.SH', '600570.SH', '002271.SZ', '002236.SZ', '002032.SZ', '002294.SZ', '600066.SH', '002311.SZ']\n",
      "['002032.SZ', '000661.SZ', '002294.SZ', '600660.SH', '600004.SH', '300015.SZ', '601933.SH', '600436.SH', '000596.SZ']\n",
      "['600436.SH', '002032.SZ', '000661.SZ', '300015.SZ', '600867.SH', '002294.SZ', '002236.SZ', '600340.SH', '600809.SH', '601933.SH']\n",
      "['600436.SH', '002032.SZ', '000661.SZ', '600660.SH', '600004.SH', '000596.SZ', '000423.SZ', '002294.SZ', '002456.SZ']\n",
      "['000596.SZ', '002032.SZ', '600809.SH', '600436.SH', '002271.SZ', '002236.SZ', '300124.SZ', '600660.SH', '600004.SH']\n",
      "['600340.SH', '002271.SZ', '000661.SZ', '600004.SH', '600436.SH', '002032.SZ', '300015.SZ', '600660.SH', '002179.SZ', '000596.SZ']\n",
      "['600809.SH', '000661.SZ', '000596.SZ', '002294.SZ', '002032.SZ', '600436.SH', '600660.SH', '002271.SZ', '002007.SZ', '600004.SH']\n",
      "['600660.SH', '000661.SZ', '300017.SZ', '600809.SH', '002271.SZ', '002032.SZ', '600436.SH', '600674.SH', '000423.SZ', '300024.SZ']\n",
      "['000661.SZ', '600809.SH', '002294.SZ', '000596.SZ', '300124.SZ', '600660.SH', '600004.SH', '002456.SZ', '600436.SH', '002475.SZ']\n",
      "['002271.SZ', '000661.SZ', '300017.SZ', '002032.SZ', '600660.SH', '600436.SH', '600340.SH', '002236.SZ', '300015.SZ']\n",
      "['002271.SZ', '600570.SH', '002456.SZ', '002081.SZ', '002294.SZ', '000671.SZ', '002146.SZ', '000661.SZ', '600004.SH', '002236.SZ', '300124.SZ']\n",
      "['002271.SZ', '300017.SZ', '600436.SH', '002032.SZ', '600660.SH', '002456.SZ', '002236.SZ', '600066.SH', '002294.SZ', '000661.SZ']\n",
      "['000661.SZ', '002271.SZ', '600570.SH', '600436.SH', '002294.SZ', '300017.SZ', '600809.SH', '000596.SZ', '000568.SZ', '002032.SZ', '300015.SZ']\n",
      "['000596.SZ', '300017.SZ', '600809.SH', '600436.SH', '002032.SZ', '000661.SZ', '300015.SZ', '600004.SH']\n",
      "['300017.SZ', '000596.SZ', '002032.SZ', '000661.SZ', '600867.SH', '300015.SZ', '600809.SH', '002007.SZ', '002294.SZ', '600436.SH']\n",
      "['000596.SZ', '600436.SH', '600809.SH', '300017.SZ', '600352.SH', '000661.SZ', '002456.SZ', '600570.SH', '002032.SZ', '600177.SH']\n",
      "['002271.SZ', '002294.SZ', '300017.SZ', '002032.SZ', '600352.SH', '002001.SZ', '600660.SH', '002236.SZ', '600867.SH', '000596.SZ']\n",
      "['300017.SZ', '002032.SZ', '300015.SZ', '002294.SZ', '600660.SH', '002007.SZ', '600004.SH', '000661.SZ', '600867.SH', '002271.SZ']\n",
      "['600436.SH', '002271.SZ', '002032.SZ', '000596.SZ', '600340.SH', '600867.SH', '600660.SH', '300017.SZ', '600809.SH', '000423.SZ']\n",
      "['300017.SZ', '002271.SZ', '002294.SZ', '600352.SH', '002032.SZ', '600660.SH', '000671.SZ', '300015.SZ', '002236.SZ', '000596.SZ']\n",
      "['300017.SZ', '002032.SZ', '000661.SZ', '002311.SZ', '300015.SZ', '300124.SZ', '600436.SH', '002294.SZ', '002008.SZ', '000671.SZ']\n",
      "['300017.SZ', '002294.SZ', '300015.SZ', '000661.SZ', '002271.SZ', '600867.SH', '600660.SH', '300124.SZ', '000671.SZ', '002311.SZ']\n",
      "['300017.SZ', '002032.SZ', '600066.SH', '600660.SH', '002271.SZ', '600867.SH']\n",
      "['300017.SZ', '000661.SZ', '002294.SZ', '002236.SZ', '002032.SZ', '300015.SZ', '300024.SZ', '600436.SH', '600660.SH', '002311.SZ']\n",
      "['300017.SZ', '600674.SH', '600004.SH', '000661.SZ', '300015.SZ', '000596.SZ', '002032.SZ', '002271.SZ', '000423.SZ', '002294.SZ']\n",
      "['000661.SZ', '300017.SZ', '600436.SH', '002294.SZ', '600867.SH', '300015.SZ', '600004.SH', '002032.SZ', '600352.SH', '002179.SZ']\n",
      "['300017.SZ', '600867.SH', '002032.SZ', '300033.SZ', '000661.SZ', '002294.SZ', '000423.SZ', '600176.SH', '600004.SH']\n",
      "['000661.SZ', '300033.SZ', '600867.SH', '002294.SZ', '600352.SH', '600176.SH', '600177.SH', '300017.SZ', '000596.SZ', '600436.SH']\n",
      "['300017.SZ', '300033.SZ', '000661.SZ', '600867.SH', '600570.SH', '600176.SH', '600177.SH', '600352.SH']\n",
      "['300033.SZ', '300017.SZ', '000661.SZ', '600867.SH', '002032.SZ', '002271.SZ', '300015.SZ', '600352.SH', '002294.SZ', '600436.SH']\n"
     ]
    },
    {
     "ename": "Exception",
     "evalue": "抱歉，您每分钟最多访问该接口120次，权限的具体详情访问：https://tushare.pro/document/1?doc_id=108。",
     "output_type": "error",
     "traceback": [
      "\u001b[0;31m---------------------------------------------------------------------------\u001b[0m",
      "\u001b[0;31mException\u001b[0m                                 Traceback (most recent call last)",
      "\u001b[0;32m<ipython-input-21-37fbedc5f575>\u001b[0m in \u001b[0;36m<module>\u001b[0;34m\u001b[0m\n\u001b[1;32m     10\u001b[0m \u001b[0;34m\u001b[0m\u001b[0m\n\u001b[1;32m     11\u001b[0m     \u001b[0;32mif\u001b[0m \u001b[0mhold_codes\u001b[0m\u001b[0;34m:\u001b[0m\u001b[0;34m\u001b[0m\u001b[0;34m\u001b[0m\u001b[0m\n\u001b[0;32m---> 12\u001b[0;31m         \u001b[0mmoney\u001b[0m \u001b[0;34m=\u001b[0m \u001b[0msell\u001b[0m\u001b[0;34m(\u001b[0m\u001b[0mdate\u001b[0m\u001b[0;34m,\u001b[0m \u001b[0mmoney\u001b[0m\u001b[0;34m,\u001b[0m \u001b[0mcodes\u001b[0m\u001b[0;34m)\u001b[0m\u001b[0;34m\u001b[0m\u001b[0;34m\u001b[0m\u001b[0m\n\u001b[0m\u001b[1;32m     13\u001b[0m \u001b[0;34m\u001b[0m\u001b[0m\n\u001b[1;32m     14\u001b[0m     \u001b[0mhold_codes\u001b[0m \u001b[0;34m=\u001b[0m \u001b[0mcodes\u001b[0m\u001b[0;34m\u001b[0m\u001b[0;34m\u001b[0m\u001b[0m\n",
      "\u001b[0;32m<ipython-input-14-224506fb5faf>\u001b[0m in \u001b[0;36msell\u001b[0;34m(date, money, codes)\u001b[0m\n\u001b[1;32m      2\u001b[0m \u001b[0;32mdef\u001b[0m \u001b[0msell\u001b[0m\u001b[0;34m(\u001b[0m\u001b[0mdate\u001b[0m\u001b[0;34m,\u001b[0m \u001b[0mmoney\u001b[0m\u001b[0;34m,\u001b[0m \u001b[0mcodes\u001b[0m\u001b[0;34m)\u001b[0m\u001b[0;34m:\u001b[0m\u001b[0;34m\u001b[0m\u001b[0;34m\u001b[0m\u001b[0m\n\u001b[1;32m      3\u001b[0m \u001b[0;34m\u001b[0m\u001b[0m\n\u001b[0;32m----> 4\u001b[0;31m     \u001b[0mdf\u001b[0m \u001b[0;34m=\u001b[0m \u001b[0mget_cp\u001b[0m\u001b[0;34m(\u001b[0m\u001b[0mdate\u001b[0m\u001b[0;34m)\u001b[0m\u001b[0;34m\u001b[0m\u001b[0;34m\u001b[0m\u001b[0m\n\u001b[0m\u001b[1;32m      5\u001b[0m     \u001b[0mcps\u001b[0m \u001b[0;34m=\u001b[0m \u001b[0mget_scp\u001b[0m\u001b[0;34m(\u001b[0m\u001b[0mcodes\u001b[0m\u001b[0;34m,\u001b[0m \u001b[0mdf\u001b[0m\u001b[0;34m)\u001b[0m\u001b[0;34m\u001b[0m\u001b[0;34m\u001b[0m\u001b[0m\n\u001b[1;32m      6\u001b[0m \u001b[0;34m\u001b[0m\u001b[0m\n",
      "\u001b[0;32m<ipython-input-11-8fa88a21bd9c>\u001b[0m in \u001b[0;36mget_cp\u001b[0;34m(date)\u001b[0m\n\u001b[1;32m      1\u001b[0m \u001b[0;31m# 获取输入日期所有股票的收盘价\u001b[0m\u001b[0;34m\u001b[0m\u001b[0;34m\u001b[0m\u001b[0;34m\u001b[0m\u001b[0m\n\u001b[1;32m      2\u001b[0m \u001b[0;32mdef\u001b[0m \u001b[0mget_cp\u001b[0m\u001b[0;34m(\u001b[0m\u001b[0mdate\u001b[0m\u001b[0;34m)\u001b[0m\u001b[0;34m:\u001b[0m\u001b[0;34m\u001b[0m\u001b[0;34m\u001b[0m\u001b[0m\n\u001b[0;32m----> 3\u001b[0;31m     \u001b[0mdf\u001b[0m \u001b[0;34m=\u001b[0m \u001b[0mpro\u001b[0m\u001b[0;34m.\u001b[0m\u001b[0mmonthly\u001b[0m\u001b[0;34m(\u001b[0m\u001b[0mtrade_date\u001b[0m\u001b[0;34m=\u001b[0m\u001b[0mdate\u001b[0m\u001b[0;34m,\u001b[0m \u001b[0mfields\u001b[0m\u001b[0;34m=\u001b[0m\u001b[0;34m'ts_code,trade_date,close'\u001b[0m\u001b[0;34m)\u001b[0m\u001b[0;34m\u001b[0m\u001b[0;34m\u001b[0m\u001b[0m\n\u001b[0m\u001b[1;32m      4\u001b[0m     \u001b[0;32mreturn\u001b[0m \u001b[0mdf\u001b[0m\u001b[0;34m\u001b[0m\u001b[0;34m\u001b[0m\u001b[0m\n",
      "\u001b[0;32m//anaconda3/lib/python3.7/site-packages/tushare/pro/client.py\u001b[0m in \u001b[0;36mquery\u001b[0;34m(self, api_name, fields, **kwargs)\u001b[0m\n\u001b[1;32m     41\u001b[0m         \u001b[0mresult\u001b[0m \u001b[0;34m=\u001b[0m \u001b[0mjson\u001b[0m\u001b[0;34m.\u001b[0m\u001b[0mloads\u001b[0m\u001b[0;34m(\u001b[0m\u001b[0mres\u001b[0m\u001b[0;34m.\u001b[0m\u001b[0mtext\u001b[0m\u001b[0;34m)\u001b[0m\u001b[0;34m\u001b[0m\u001b[0;34m\u001b[0m\u001b[0m\n\u001b[1;32m     42\u001b[0m         \u001b[0;32mif\u001b[0m \u001b[0mresult\u001b[0m\u001b[0;34m[\u001b[0m\u001b[0;34m'code'\u001b[0m\u001b[0;34m]\u001b[0m \u001b[0;34m!=\u001b[0m \u001b[0;36m0\u001b[0m\u001b[0;34m:\u001b[0m\u001b[0;34m\u001b[0m\u001b[0;34m\u001b[0m\u001b[0m\n\u001b[0;32m---> 43\u001b[0;31m             \u001b[0;32mraise\u001b[0m \u001b[0mException\u001b[0m\u001b[0;34m(\u001b[0m\u001b[0mresult\u001b[0m\u001b[0;34m[\u001b[0m\u001b[0;34m'msg'\u001b[0m\u001b[0;34m]\u001b[0m\u001b[0;34m)\u001b[0m\u001b[0;34m\u001b[0m\u001b[0;34m\u001b[0m\u001b[0m\n\u001b[0m\u001b[1;32m     44\u001b[0m         \u001b[0mdata\u001b[0m \u001b[0;34m=\u001b[0m \u001b[0mresult\u001b[0m\u001b[0;34m[\u001b[0m\u001b[0;34m'data'\u001b[0m\u001b[0;34m]\u001b[0m\u001b[0;34m\u001b[0m\u001b[0;34m\u001b[0m\u001b[0m\n\u001b[1;32m     45\u001b[0m         \u001b[0mcolumns\u001b[0m \u001b[0;34m=\u001b[0m \u001b[0mdata\u001b[0m\u001b[0;34m[\u001b[0m\u001b[0;34m'fields'\u001b[0m\u001b[0;34m]\u001b[0m\u001b[0;34m\u001b[0m\u001b[0;34m\u001b[0m\u001b[0m\n",
      "\u001b[0;31mException\u001b[0m: 抱歉，您每分钟最多访问该接口120次，权限的具体详情访问：https://tushare.pro/document/1?doc_id=108。"
     ]
    }
   ],
   "source": [
    "hold_codes = []\n",
    "money = 0\n",
    "r = []\n",
    "for date in strtime[3:]:\n",
    "    codes = get_code(date)\n",
    "    print(codes)\n",
    "    \n",
    "    money = buy(date, money)\n",
    "    r.append(money)\n",
    "    \n",
    "    if hold_codes:\n",
    "        money = sell(date, money, codes)\n",
    "    \n",
    "    hold_codes = codes"
   ]
  },
  {
   "cell_type": "code",
   "execution_count": 20,
   "metadata": {},
   "outputs": [],
   "source": [
    "# 月收益率\n",
    "rr = []\n",
    "for i, m in enumerate(r):\n",
    "    if i >= 1:\n",
    "        crr = m / r[i-1] - 1\n",
    "        rr.append(crr)"
   ]
  },
  {
   "cell_type": "code",
   "execution_count": 122,
   "metadata": {},
   "outputs": [
    {
     "data": {
      "image/png": "[encoded data removed]",
      "text/plain": [
       "<Figure size 432x288 with 1 Axes>"
      ]
     },
     "metadata": {
      "needs_background": "light"
     },
     "output_type": "display_data"
    }
   ],
   "source": [
    "fig, ax = plt.subplots()\n",
    "x = np.linspace(0, len(rr)-1, len(rr))\n",
    "y = np.array(rr)\n",
    "ax.plot(x, y)\n",
    "plt.show()"
   ]
  },
  {
   "cell_type": "code",
   "execution_count": 139,
   "metadata": {},
   "outputs": [],
   "source": [
    "# 至今的收益率\n",
    "ror = []\n",
    "cror = 1\n",
    "for cr in rr:\n",
    "    cror = cror * (1+cr)\n",
    "    ror.append(cror)"
   ]
  },
  {
   "cell_type": "code",
   "execution_count": 140,
   "metadata": {},
   "outputs": [
    {
     "data": {
      "image/png": "[encoded data removed]",
      "text/plain": [
       "<Figure size 432x288 with 1 Axes>"
      ]
     },
     "metadata": {
      "needs_background": "light"
     },
     "output_type": "display_data"
    }
   ],
   "source": [
    "fig, ax = plt.subplots()\n",
    "x = np.linspace(0, len(ror)-1, len(ror))\n",
    "y = np.array(ror)\n",
    "ax.plot(x, y)\n",
    "plt.show()"
   ]
  },
  {
   "cell_type": "markdown",
   "metadata": {},
   "source": [
    "- 股票池的收益率"
   ]
  },
  {
   "cell_type": "code",
   "execution_count": 129,
   "metadata": {},
   "outputs": [],
   "source": [
    "sd = strtime[3]\n",
    "ed = strtime[-1]\n",
    "\n",
    "df1 = pro.monthly(trade_date=sd, fields='ts_code,trade_date,close')\n",
    "df2 = pro.monthly(trade_date=ed, fields='ts_code,trade_date,close')\n",
    "\n",
    "cps1 = get_scp(have_code, df1)\n",
    "cps2 = get_scp(have_code, df2)"
   ]
  },
  {
   "cell_type": "code",
   "execution_count": 134,
   "metadata": {},
   "outputs": [
    {
     "data": {
      "text/plain": [
       "0.20813492694756341"
      ]
     },
     "execution_count": 134,
     "metadata": {},
     "output_type": "execute_result"
    }
   ],
   "source": [
    "sum(cps2) / sum(cps1) - 1"
   ]
  },
  {
   "cell_type": "code",
   "execution_count": 143,
   "metadata": {},
   "outputs": [],
   "source": [
    "money = 0\n",
    "r = []\n",
    "for date in strtime[3:]:\n",
    "    df = pro.monthly(trade_date=date, fields='ts_code,trade_date,close')\n",
    "    cps = get_scp(have_code, df)\n",
    "    \n",
    "    money = sum(cps) * 10000    \n",
    "    r.append(money)"
   ]
  },
  {
   "cell_type": "code",
   "execution_count": null,
   "metadata": {},
   "outputs": [],
   "source": []
  },
  {
   "cell_type": "code",
   "execution_count": 161,
   "metadata": {},
   "outputs": [],
   "source": [
    "# 至今的收益率\n",
    "allror = []\n",
    "cror = 1\n",
    "for cr in r:\n",
    "    cror = cr / r[0]\n",
    "    allror.append(cror)"
   ]
  },
  {
   "cell_type": "code",
   "execution_count": 162,
   "metadata": {},
   "outputs": [
    {
     "data": {
      "image/png": "[encoded data removed]",
      "text/plain": [
       "<Figure size 432x288 with 1 Axes>"
      ]
     },
     "metadata": {
      "needs_background": "light"
     },
     "output_type": "display_data"
    }
   ],
   "source": [
    "fig, ax = plt.subplots()\n",
    "x = np.linspace(0, len(allror)-1, len(allror))\n",
    "y = np.array(allror)\n",
    "ax.plot(x, y)\n",
    "plt.show()"
   ]
  },
  {
   "cell_type": "markdown",
   "metadata": {},
   "source": [
    "- 对比"
   ]
  },
  {
   "cell_type": "code",
   "execution_count": 163,
   "metadata": {},
   "outputs": [],
   "source": [
    "del allror[0]"
   ]
  },
  {
   "cell_type": "code",
   "execution_count": 164,
   "metadata": {},
   "outputs": [
    {
     "data": {
      "image/png": "[encoded data removed]",
      "text/plain": [
       "<Figure size 432x288 with 1 Axes>"
      ]
     },
     "metadata": {
      "needs_background": "light"
     },
     "output_type": "display_data"
    }
   ],
   "source": [
    "fig, ax = plt.subplots()\n",
    "x = np.linspace(0, len(allror)-1, len(allror))\n",
    "y = np.array(allror)\n",
    "z = np.array(ror)\n",
    "ax.plot(x, y, 'b-')\n",
    "ax.plot(x, z, 'r-')\n",
    "plt.show()"
   ]
  },
  {
   "cell_type": "code",
   "execution_count": null,
   "metadata": {},
   "outputs": [],
   "source": []
  }
 ],
 "metadata": {
  "kernelspec": {
   "display_name": "Python 3",
   "language": "python",
   "name": "python3"
  },
  "language_info": {
   "codemirror_mode": {
    "name": "ipython",
    "version": 3
   },
   "file_extension": ".py",
   "mimetype": "text/x-python",
   "name": "python",
   "nbconvert_exporter": "python",
   "pygments_lexer": "ipython3",
   "version": "3.7.3"
  }
 },
 "nbformat": 4,
 "nbformat_minor": 2
}