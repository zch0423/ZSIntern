{
 "metadata": {
  "language_info": {
   "codemirror_mode": {
    "name": "ipython",
    "version": 3
   },
   "file_extension": ".py",
   "mimetype": "text/x-python",
   "name": "python",
   "nbconvert_exporter": "python",
   "pygments_lexer": "ipython3",
   "version": "3.9.1-final"
  },
  "orig_nbformat": 2,
  "kernelspec": {
   "name": "python3",
   "display_name": "Python 3",
   "language": "python"
  }
 },
 "nbformat": 4,
 "nbformat_minor": 2,
 "cells": [
  {
   "source": [
    "## SW分类数据\n",
    "导出所有行业筛选出的上升标记的公司列表"
   ],
   "cell_type": "markdown",
   "metadata": {}
  },
  {
   "cell_type": "code",
   "execution_count": 1,
   "metadata": {},
   "outputs": [],
   "source": [
    "import sys\n",
    "sys.path.append(\"..\")\n",
    "from roeProcessTools import *"
   ]
  },
  {
   "cell_type": "code",
   "execution_count": 2,
   "metadata": {},
   "outputs": [],
   "source": [
    "import os"
   ]
  },
  {
   "cell_type": "code",
   "execution_count": 3,
   "metadata": {},
   "outputs": [],
   "source": [
    "# dirPath = \"/Users/zch/Desktop/internship/SWData/\"\n",
    "# outPath = dirPath+\"/cleanData/\""
   ]
  },
  {
   "cell_type": "code",
   "execution_count": 4,
   "metadata": {},
   "outputs": [],
   "source": [
    "# 导出数据\n",
    "with os.scandir(dirPath+\"rawData\") as it:\n",
    "    for entry in it:\n",
    "        if not entry.name.startswith(\"SW\"):\n",
    "            continue\n",
    "        # print(entry.path)\n",
    "        df = pd.read_excel(entry.path)\n",
    "        df = clean(df, startYear=2000, endYear=2021, minNum=32, winsorizeBool=True)\n",
    "        df.to_excel(outPath+entry.name, index=False)\n",
    "        # marked[entry.name[2:]] = mark(df, n=8, center=False, gaussian=True, order=4, threshold=0.8, highPct=75, increaseBool=False)"
   ]
  },
  {
   "cell_type": "code",
   "execution_count": 5,
   "metadata": {},
   "outputs": [],
   "source": [
    "marked = {}\n",
    "with os.scandir(outPath) as it:\n",
    "    for entry in it:\n",
    "        if not entry.name.startswith(\"SW\"):\n",
    "            continue\n",
    "        df = pd.read_excel(entry.path)\n",
    "        marked[entry.name[2:]] = mark(df, n=8, center=False, gaussian=True, order=4, threshold=0.8, highPct=75, increaseBool=True)"
   ]
  },
  {
   "cell_type": "code",
   "execution_count": 28,
   "metadata": {},
   "outputs": [
    {
     "output_type": "stream",
     "name": "stdout",
     "text": [
      "empty 银行.xlsx\n食品饮料.xlsx 14\n电气设备.xlsx 16\n商业贸易.xlsx 13\n轻工制造.xlsx 12\n机械设备.xlsx 36\n农林牧渔.xlsx 16\n综合.xlsx 5\n国防军工.xlsx 10\n纺织服装.xlsx 3\n建筑装饰.xlsx 8\n电子.xlsx 24\n建筑材料.xlsx 9\nempty 休闲服务.xlsx\n汽车.xlsx 15\n有色金属.xlsx 15\n交通运输.xlsx 6\n计算机.xlsx 21\n采掘.xlsx 6\n非银金融.xlsx 5\n家用电器.xlsx 7\n钢铁.xlsx 3\n传媒.xlsx 8\n房地产.xlsx 18\n公用事业.xlsx 15\n医药生物.xlsx 19\n化工.xlsx 8\n通信.xlsx 7\n319\n"
     ]
    }
   ],
   "source": [
    "count = 0\n",
    "for k, v in marked.items():\n",
    "    if v.empty:\n",
    "        print(\"empty\", k)\n",
    "        continue\n",
    "    # v.to_excel(dirPath+\"selected/\"+k,index=False)\n",
    "    count+=len(v)\n",
    "    print(k, len(v))\n",
    "print(count)"
   ]
  },
  {
   "cell_type": "code",
   "execution_count": 24,
   "metadata": {},
   "outputs": [
    {
     "output_type": "stream",
     "name": "stdout",
     "text": [
      "银行.xlsx\n休闲服务.xlsx\n"
     ]
    }
   ],
   "source": [
    "for k,v in marked.items():\n",
    "    if v.empty:\n",
    "        print(k)\n",
    "        continue\n",
    "    v[\"industry\"] = k[:-5]"
   ]
  },
  {
   "cell_type": "code",
   "execution_count": 26,
   "metadata": {},
   "outputs": [],
   "source": [
    "temp = pd.concat(marked.values(), axis=0)"
   ]
  },
  {
   "cell_type": "code",
   "execution_count": 30,
   "metadata": {},
   "outputs": [],
   "source": [
    "# 导出全部选择的结果\n",
    "# temp.to_excel(dirPath+\"selected/total.xlsx\", index=False)"
   ]
  },
  {
   "cell_type": "code",
   "execution_count": 34,
   "metadata": {},
   "outputs": [],
   "source": [
    "# 导出全部选择公司的roe数据，方便绘图\n",
    "dfs = []\n",
    "with os.scandir(outPath) as it:\n",
    "    for entry in it:\n",
    "        if not entry.name.startswith(\"SW\"):\n",
    "            continue\n",
    "        # temp = pd.read_excel(entry.path)\n",
    "        # temp[\"industry\"] = entry.name[2:-5]\n",
    "        dfs.append(pd.read_excel(entry.path))\n",
    "totalDf = pd.concat(dfs, axis=0)"
   ]
  },
  {
   "cell_type": "code",
   "execution_count": 37,
   "metadata": {},
   "outputs": [
    {
     "output_type": "execute_result",
     "data": {
      "text/plain": [
       "319"
      ]
     },
     "metadata": {},
     "execution_count": 37
    }
   ],
   "source": [
    "codes = temp.code.values\n",
    "len(codes)"
   ]
  },
  {
   "cell_type": "code",
   "execution_count": 52,
   "metadata": {},
   "outputs": [],
   "source": [
    "totalDf = pd.concat([totalDf.iloc[:, :2],totalDf.iloc[:, 2:].sort_index(axis=1)], axis=1)"
   ]
  },
  {
   "cell_type": "code",
   "execution_count": 53,
   "metadata": {},
   "outputs": [],
   "source": [
    "temp1 = totalDf[totalDf[\"code\"].apply(lambda x: x in codes)]"
   ]
  },
  {
   "cell_type": "code",
   "execution_count": 55,
   "metadata": {},
   "outputs": [],
   "source": [
    "# temp1.to_excel(outPath+\"selected.xlsx\", index=False)"
   ]
  },
  {
   "source": [
    "# test part "
   ],
   "cell_type": "markdown",
   "metadata": {}
  },
  {
   "cell_type": "code",
   "execution_count": 7,
   "metadata": {},
   "outputs": [],
   "source": [
    "df = pd.read_excel(dirPath+\"rawData/\"+\"SW汽车.xlsx\")"
   ]
  },
  {
   "cell_type": "code",
   "execution_count": 8,
   "metadata": {},
   "outputs": [],
   "source": [
    "# codes = df.code.values\n",
    "# marks = []\n",
    "# startTime = []\n",
    "# for code in codes:\n",
    "#     company, y = getCompanyByCode(code, df)\n",
    "#     yRolling = getYRolling(y, n=8, gaussian=True, center=False)\n",
    "#     yRolling.dropna(inplace=True)\n",
    "#     maxIdx, minIdx = getExtreme(yRolling, order=4)\n",
    "#     maximum, minimum = yRolling[maxIdx], yRolling[minIdx]\n",
    "#     marks.append(markCompany(yRolling, maximum, minimum))\n",
    "#     startTime.append(minimum.index[-1])\n",
    "# temp = pd.DataFrame(data={\"code\": codes, \"name\": df.name.values, \n",
    "#                     \"mark\": marks,  \"startTime\": startTime})"
   ]
  },
  {
   "cell_type": "code",
   "execution_count": 9,
   "metadata": {},
   "outputs": [],
   "source": [
    "# test 去除近年没有数据的行\n",
    "# 000927 \n",
    "# 中国铁物"
   ]
  },
  {
   "cell_type": "code",
   "execution_count": 10,
   "metadata": {},
   "outputs": [],
   "source": [
    "temp = df.iloc[20:21,:]"
   ]
  },
  {
   "cell_type": "code",
   "execution_count": 13,
   "metadata": {},
   "outputs": [],
   "source": [
    "columns = [\"code\", \"name\"]\n",
    "for year in range(2000, 2021):\n",
    "    for month in range(3, 13, 3):  # 3 6 9 12\n",
    "        columns.append(\"%d-%02d\" % (year, month))\n",
    "df.columns = columns "
   ]
  },
  {
   "cell_type": "code",
   "execution_count": 15,
   "metadata": {},
   "outputs": [],
   "source": [
    "# 去除空行\n",
    "df = df[~(df[\"name\"].isnull())]\n",
    "# 去除ST\n",
    "df = df[~df[\"name\"].str.contains(\"ST\")]\n",
    "# 去除全为空的列，即没有数据的年份\n",
    "df.dropna(how=\"all\", axis=1, inplace=True)"
   ]
  },
  {
   "cell_type": "code",
   "execution_count": 20,
   "metadata": {},
   "outputs": [],
   "source": [
    "# 去除近年没有数据的公司\n",
    "yearColumn = df.columns[-1]\n",
    "df = df[~df[yearColumn].isnull()]"
   ]
  },
  {
   "cell_type": "code",
   "execution_count": 21,
   "metadata": {},
   "outputs": [],
   "source": [
    "# 去除不连续的公司，空缺roe不超过1\n",
    "df = df[df.apply(lambda x:isContinuous(x), axis=1)]"
   ]
  },
  {
   "cell_type": "code",
   "execution_count": 21,
   "metadata": {},
   "outputs": [],
   "source": [
    "data = pd.read_excel(dirPath+\"rawData/SW电气设备.xlsx\")"
   ]
  },
  {
   "cell_type": "code",
   "execution_count": 23,
   "metadata": {},
   "outputs": [],
   "source": [
    "# 更改列名\n",
    "columns = [\"code\", \"name\"]\n",
    "for year in range(2000, 2021):\n",
    "    for month in range(3, 13, 3):  # 3 6 9 12\n",
    "        columns.append(\"%d-%02d\" % (year, month))\n",
    "data.columns = columns "
   ]
  },
  {
   "cell_type": "code",
   "execution_count": 25,
   "metadata": {},
   "outputs": [
    {
     "output_type": "execute_result",
     "data": {
      "text/plain": [
       "224"
      ]
     },
     "metadata": {},
     "execution_count": 25
    }
   ],
   "source": [
    "len(data)"
   ]
  },
  {
   "cell_type": "code",
   "execution_count": 26,
   "metadata": {},
   "outputs": [
    {
     "output_type": "execute_result",
     "data": {
      "text/plain": [
       "224"
      ]
     },
     "metadata": {},
     "execution_count": 26
    }
   ],
   "source": [
    "# 去除空行\n",
    "data = data[~(data[\"name\"].isnull())]\n",
    "len(data)"
   ]
  },
  {
   "cell_type": "code",
   "execution_count": 27,
   "metadata": {},
   "outputs": [
    {
     "output_type": "execute_result",
     "data": {
      "text/plain": [
       "212"
      ]
     },
     "metadata": {},
     "execution_count": 27
    }
   ],
   "source": [
    "# 去除ST\n",
    "data = data[~data[\"name\"].str.contains(\"ST\")]\n",
    "len(data)"
   ]
  },
  {
   "cell_type": "code",
   "execution_count": 28,
   "metadata": {},
   "outputs": [
    {
     "output_type": "execute_result",
     "data": {
      "text/plain": [
       "212"
      ]
     },
     "metadata": {},
     "execution_count": 28
    }
   ],
   "source": [
    "# 去除全为空的列，即没有数据的年份\n",
    "data.dropna(how=\"all\", axis=1, inplace=True)\n",
    "len(data)"
   ]
  },
  {
   "cell_type": "code",
   "execution_count": 32,
   "metadata": {},
   "outputs": [
    {
     "output_type": "execute_result",
     "data": {
      "text/plain": [
       "212"
      ]
     },
     "metadata": {},
     "execution_count": 32
    }
   ],
   "source": [
    "# 去除近年没有数据的公司\n",
    "c1 = data.columns[-1]\n",
    "c2 = data.columns[-2]\n",
    "data1 = data[~((data[c1].isnull())&(data[c2].isnull()))] \n",
    "# data1 = data[~data[yearColumn].isnull()] \n",
    "len(data1)"
   ]
  },
  {
   "cell_type": "code",
   "execution_count": 17,
   "metadata": {},
   "outputs": [],
   "source": [
    "# 去除不连续的公司，空缺roe不超过1\n",
    "data = data[data.apply(lambda x:isContinuous(x), axis=1)]"
   ]
  },
  {
   "cell_type": "code",
   "execution_count": 19,
   "metadata": {},
   "outputs": [
    {
     "output_type": "execute_result",
     "data": {
      "text/plain": [
       "          code  name  2001-09  2001-12  2002-03  2002-06  2002-09  2002-12  \\\n",
       "116  300617.SZ  安靠智电      NaN      NaN      NaN      NaN      NaN      NaN   \n",
       "\n",
       "     2003-03  2003-06  ...  2018-09  2018-12  2019-03  2019-06  2019-09  \\\n",
       "116      NaN      NaN  ...   1.9886   1.7921    2.501     1.92   1.1877   \n",
       "\n",
       "     2019-12  2020-03  2020-06  2020-09  2020-12  \n",
       "116   2.1659   3.2737   4.7269   7.0499    0.569  \n",
       "\n",
       "[1 rows x 80 columns]"
      ],
      "text/html": "<div>\n<style scoped>\n    .dataframe tbody tr th:only-of-type {\n        vertical-align: middle;\n    }\n\n    .dataframe tbody tr th {\n        vertical-align: top;\n    }\n\n    .dataframe thead th {\n        text-align: right;\n    }\n</style>\n<table border=\"1\" class=\"dataframe\">\n  <thead>\n    <tr style=\"text-align: right;\">\n      <th></th>\n      <th>code</th>\n      <th>name</th>\n      <th>2001-09</th>\n      <th>2001-12</th>\n      <th>2002-03</th>\n      <th>2002-06</th>\n      <th>2002-09</th>\n      <th>2002-12</th>\n      <th>2003-03</th>\n      <th>2003-06</th>\n      <th>...</th>\n      <th>2018-09</th>\n      <th>2018-12</th>\n      <th>2019-03</th>\n      <th>2019-06</th>\n      <th>2019-09</th>\n      <th>2019-12</th>\n      <th>2020-03</th>\n      <th>2020-06</th>\n      <th>2020-09</th>\n      <th>2020-12</th>\n    </tr>\n  </thead>\n  <tbody>\n    <tr>\n      <th>116</th>\n      <td>300617.SZ</td>\n      <td>安靠智电</td>\n      <td>NaN</td>\n      <td>NaN</td>\n      <td>NaN</td>\n      <td>NaN</td>\n      <td>NaN</td>\n      <td>NaN</td>\n      <td>NaN</td>\n      <td>NaN</td>\n      <td>...</td>\n      <td>1.9886</td>\n      <td>1.7921</td>\n      <td>2.501</td>\n      <td>1.92</td>\n      <td>1.1877</td>\n      <td>2.1659</td>\n      <td>3.2737</td>\n      <td>4.7269</td>\n      <td>7.0499</td>\n      <td>0.569</td>\n    </tr>\n  </tbody>\n</table>\n<p>1 rows × 80 columns</p>\n</div>"
     },
     "metadata": {},
     "execution_count": 19
    }
   ],
   "source": [
    "df1"
   ]
  },
  {
   "cell_type": "code",
   "execution_count": null,
   "metadata": {},
   "outputs": [],
   "source": []
  }
 ]
}